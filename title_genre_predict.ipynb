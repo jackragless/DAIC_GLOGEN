{
 "cells": [
  {
   "cell_type": "code",
   "execution_count": 14,
   "id": "stretch-district",
   "metadata": {},
   "outputs": [],
   "source": [
    "from sklearn.externals import joblib\n",
    "import pandas as pd\n",
    "from sklearn.feature_extraction.text import TfidfVectorizer\n",
    "from sklearn.preprocessing import LabelEncoder\n",
    "import warnings\n",
    "warnings.filterwarnings(\"ignore\", category=Warning) "
   ]
  },
  {
   "cell_type": "code",
   "execution_count": 15,
   "id": "basic-hunger",
   "metadata": {},
   "outputs": [],
   "source": [
    "data = pd.read_csv('book32-listing.csv',encoding = \"ISO-8859-1\")\n",
    "\n",
    "columns = ['Id', 'Image', 'Image_link', 'Title', 'Author', 'Class', 'Genre']\n",
    "data.columns = columns\n",
    "\n",
    "books = pd.DataFrame(data['Title'])\n",
    "author = pd.DataFrame(data['Author'])\n",
    "genre = pd.DataFrame(data['Genre'])\n",
    "\n",
    "data['Author'] = data['Author'].fillna('No Book')\n",
    "data['Title'] = data['Title'].fillna('No Book')\n",
    "\n",
    "feat = ['Genre']\n",
    "for x in feat:\n",
    "    le = LabelEncoder()\n",
    "    le.fit(list(genre[x].values))\n",
    "    genre[x] = le.transform(list(genre[x]))\n",
    "    \n",
    "data['everything'] = pd.DataFrame(data['Title'] + ' ' + data['Author'])\n"
   ]
  },
  {
   "cell_type": "code",
   "execution_count": 16,
   "id": "attended-parent",
   "metadata": {},
   "outputs": [],
   "source": [
    "class_to_arr_dict = {\n",
    "'Arts & Photography':['art','photography'],\n",
    "'Biographies & Memoirs':['historical'],\n",
    "'Business & Money':['business','finance','money'],\n",
    "'Calendars':['general'],\n",
    "\"Children's Books\":['general'],\n",
    "'Comics & Graphic Novels':['general'],\n",
    "'Computers & Technology':['computing','technology'],\n",
    "'Cookbooks, Food & Wine':['cooking','food','wine'],\n",
    "'Crafts, Hobbies & Home':['crafts','hobbies','home'],\n",
    "'Christian Books & Bibles':['christian','bible'],\n",
    "'Engineering & Transportation':['engineering','transportation'],\n",
    "'Health, Fitness & Dieting':['health','fitness','diet'],\n",
    "'History':['history'],\n",
    "'Humor & Entertainment':['humor','entertainment'],\n",
    "'Law':['law'],\n",
    "'Literature & Fiction':['literature','fiction'],\n",
    "'Medical Books':['medical','medicine'],\n",
    "'Mystery, Thriller & Suspense':['general'],\n",
    "'Parenting & Relationships':['parenting','relationships'],\n",
    "'Politics & Social Sciences':['political','social'],\n",
    "'Reference':['general'],\n",
    "'Religion & Spirituality':['religion','spiritual'],\n",
    "'Romance':['general'],\n",
    "'Science & Math':['science','mathematics'],\n",
    "'Science Fiction & Fantasy':['general'],\n",
    "'Self-Help':['self-help','aspirational'],\n",
    "'ports & Outdoors':['outdoors'],\n",
    "'Teen & Young Adult':['teen', 'youth'],\n",
    "'Test Preparation':['test','exam','preparation'],\n",
    "'Travel':['travel'],\n",
    "'Gay & Lesbian':['gay','lesbian'],\n",
    "'Education & Teaching':['education','teaching','academic']\n",
    "}"
   ]
  },
  {
   "cell_type": "code",
   "execution_count": 17,
   "id": "requested-cherry",
   "metadata": {},
   "outputs": [],
   "source": [
    "vectorizer = TfidfVectorizer(min_df=2, max_features=70000, strip_accents='unicode',lowercase =True,\n",
    "                            analyzer='word', token_pattern=r'\\w+', use_idf=True, \n",
    "                            smooth_idf=True, sublinear_tf=True, stop_words = 'english')\n",
    "vectors = vectorizer.fit_transform(data['everything'])   "
   ]
  },
  {
   "cell_type": "code",
   "execution_count": 18,
   "id": "broadband-architecture",
   "metadata": {},
   "outputs": [],
   "source": [
    "def inference(term):\n",
    "    text = []\n",
    "    text.append(term)\n",
    "    text[0] = text[0].lower()\n",
    "    arr = (vectorizer.transform(text))\n",
    "    clf = joblib.load('best.pkl')\n",
    "    prediction = clf.predict(arr)\n",
    "    prediction = le.inverse_transform(prediction)[0]\n",
    "    return class_to_arr_dict[prediction]"
   ]
  }
 ],
 "metadata": {
  "kernelspec": {
   "display_name": "Python 3",
   "language": "python",
   "name": "python3"
  },
  "language_info": {
   "codemirror_mode": {
    "name": "ipython",
    "version": 3
   },
   "file_extension": ".py",
   "mimetype": "text/x-python",
   "name": "python",
   "nbconvert_exporter": "python",
   "pygments_lexer": "ipython3",
   "version": "3.6.10"
  }
 },
 "nbformat": 4,
 "nbformat_minor": 5
}

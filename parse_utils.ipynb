{
 "cells": [
  {
   "cell_type": "code",
   "execution_count": 2,
   "id": "suited-request",
   "metadata": {},
   "outputs": [
    {
     "name": "stderr",
     "output_type": "stream",
     "text": [
      "[nltk_data] Downloading package punkt to\n",
      "[nltk_data]     /home/jackragless/nltk_data...\n",
      "[nltk_data]   Package punkt is already up-to-date!\n"
     ]
    },
    {
     "name": "stdout",
     "output_type": "stream",
     "text": [
      "WARNING:tensorflow:From /home/jackragless/miniconda3/lib/python3.8/site-packages/tensorflow/python/compat/v2_compat.py:96: disable_resource_variables (from tensorflow.python.ops.variable_scope) is deprecated and will be removed in a future version.\n",
      "Instructions for updating:\n",
      "non-resource variables are not supported in the long term\n"
     ]
    },
    {
     "name": "stderr",
     "output_type": "stream",
     "text": [
      "[nltk_data] Downloading package benepar_en2 to\n",
      "[nltk_data]     /home/jackragless/nltk_data...\n",
      "[nltk_data]   Package benepar_en2 is already up-to-date!\n"
     ]
    }
   ],
   "source": [
    "import nltk\n",
    "nltk.download('punkt')\n",
    "import benepar\n",
    "benepar.download('benepar_en2')\n",
    "parser = benepar.Parser(\"benepar_en2\")\n",
    "norm_pos_tags = ['CC', 'CD', 'DT', 'EX', 'FW', 'IN', 'JJ', 'JJR', 'JJS', 'LS', 'MD', 'NN', 'NNS', 'NNP', 'NNPS', 'PDT', 'POS', 'PRP', 'PRP$', 'RB', 'RBR', 'RBS', 'RP', 'TO', 'UH', 'VB', 'VBG', 'VBD', 'VBN', 'VBP', 'VBZ', 'WDT', 'WP', 'WRB', ',', '.']"
   ]
  },
  {
   "cell_type": "code",
   "execution_count": 1,
   "id": "miniature-circus",
   "metadata": {},
   "outputs": [],
   "source": [
    "def parseSent(sent):\n",
    "    return parser.parse(sent)"
   ]
  },
  {
   "cell_type": "code",
   "execution_count": 8,
   "id": "strange-dublin",
   "metadata": {},
   "outputs": [],
   "source": [
    "def getAllNodes(parent, arr):\n",
    "    for node in parent:\n",
    "        if type(node) is nltk.Tree:\n",
    "            arr.append([node.label(),node.leaves()])\n",
    "            getAllNodes(node, arr)\n",
    "    return arr"
   ]
  },
  {
   "cell_type": "code",
   "execution_count": 4,
   "id": "manufactured-saint",
   "metadata": {},
   "outputs": [],
   "source": [
    "def getPhraseNodes(parent, arr):\n",
    "    for node in parent:\n",
    "        if type(node) is nltk.Tree:\n",
    "            if node.label() == 'NP' and len(node.leaves()) in range(2,4):\n",
    "                temp_cat_str = ''\n",
    "                for leaf in node.leaves():\n",
    "                    temp_cat_str += ' ' + leaf\n",
    "                arr.append([temp_cat_str.strip(),'noun'])\n",
    "            if node.label() == 'VP' and len(node.leaves()) in range(2,4):\n",
    "                temp_cat_str = ''\n",
    "                for leaf in node.leaves():\n",
    "                    temp_cat_str += ' ' + leaf\n",
    "                arr.append([temp_cat_str.strip(),'verb'])\n",
    "            \n",
    "            getPhraseNodes(node, arr)\n",
    "    return arr"
   ]
  },
  {
   "cell_type": "code",
   "execution_count": 5,
   "id": "coated-checkout",
   "metadata": {},
   "outputs": [],
   "source": [
    "def getWordNodes(parent, arr):\n",
    "    for node in parent:\n",
    "        if type(node) is nltk.Tree:\n",
    "            for leaf in node.leaves():\n",
    "                if node.label() in norm_pos_tags:\n",
    "                    arr.append([leaf,node.label()])\n",
    "            getWordNodes(node, arr)\n",
    "    return arr"
   ]
  },
  {
   "cell_type": "code",
   "execution_count": null,
   "id": "noble-gospel",
   "metadata": {},
   "outputs": [],
   "source": []
  }
 ],
 "metadata": {
  "kernelspec": {
   "display_name": "Python 3",
   "language": "python",
   "name": "python3"
  },
  "language_info": {
   "codemirror_mode": {
    "name": "ipython",
    "version": 3
   },
   "file_extension": ".py",
   "mimetype": "text/x-python",
   "name": "python",
   "nbconvert_exporter": "python",
   "pygments_lexer": "ipython3",
   "version": "3.8.5"
  }
 },
 "nbformat": 4,
 "nbformat_minor": 5
}

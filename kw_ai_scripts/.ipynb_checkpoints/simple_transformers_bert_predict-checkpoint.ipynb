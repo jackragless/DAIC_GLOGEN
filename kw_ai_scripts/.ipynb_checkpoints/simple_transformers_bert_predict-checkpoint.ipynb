{
 "cells": [
  {
   "cell_type": "code",
   "execution_count": 1,
   "id": "saving-reality",
   "metadata": {},
   "outputs": [],
   "source": [
    "import simpletransformers\n",
    "import logging\n",
    "import pandas as pd\n",
    "import pickle\n",
    "from simpletransformers.ner import NERModel, NERArgs\n",
    "import nltk"
   ]
  },
  {
   "cell_type": "code",
   "execution_count": null,
   "id": "ultimate-newman",
   "metadata": {},
   "outputs": [],
   "source": [
    "with open('/home/jackragless/projects/github/DAIC_glossary_generator/code/biogen_df.pkl', 'rb') as f:\n",
    "    corpus = pickle.load(f)"
   ]
  },
  {
   "cell_type": "code",
   "execution_count": null,
   "id": "cordless-coverage",
   "metadata": {},
   "outputs": [],
   "source": [
    "train_cutoff = int(0.8 * len(corpus))\n",
    "train_data = corpus[:train_cutoff]\n",
    "eval_data = corpus[train_cutoff:]"
   ]
  },
  {
   "cell_type": "code",
   "execution_count": null,
   "id": "swedish-incentive",
   "metadata": {},
   "outputs": [],
   "source": [
    "logging.basicConfig(level=logging.INFO)\n",
    "transformers_logger = logging.getLogger(\"transformers\")\n",
    "transformers_logger.setLevel(logging.WARNING)"
   ]
  },
  {
   "cell_type": "code",
   "execution_count": null,
   "id": "experimental-black",
   "metadata": {},
   "outputs": [],
   "source": [
    "train_data = pd.DataFrame(\n",
    "    train_data, columns=[\"sentence_id\", \"words\", \"labels\"]\n",
    ")"
   ]
  },
  {
   "cell_type": "code",
   "execution_count": null,
   "id": "interstate-scholarship",
   "metadata": {},
   "outputs": [],
   "source": [
    "eval_data = pd.DataFrame(\n",
    "    eval_data, columns=[\"sentence_id\", \"words\", \"labels\"]\n",
    ")"
   ]
  },
  {
   "cell_type": "code",
   "execution_count": null,
   "id": "postal-borough",
   "metadata": {},
   "outputs": [],
   "source": [
    "model_args = NERArgs()\n",
    "# model_args.\n",
    "# model_args.evaluate_during_training = True"
   ]
  },
  {
   "cell_type": "code",
   "execution_count": null,
   "id": "according-program",
   "metadata": {},
   "outputs": [],
   "source": [
    "model = NERModel(\n",
    "    \"bert\", \"bert-base-cased\", labels= [\"B\", \"I\", \"O\"], use_cuda=True, args = {'num_train_epochs' : 4, 'train_batch_size' : 32, 'evaluate_during_training' : True}\n",
    ")"
   ]
  },
  {
   "cell_type": "code",
   "execution_count": null,
   "id": "posted-kruger",
   "metadata": {},
   "outputs": [],
   "source": [
    "model.train_model(train_data, eval_data=eval_data)"
   ]
  },
  {
   "cell_type": "code",
   "execution_count": null,
   "id": "secret-parade",
   "metadata": {},
   "outputs": [],
   "source": [
    "result, model_outputs, preds_list = model.eval_model(eval_data)"
   ]
  },
  {
   "cell_type": "code",
   "execution_count": null,
   "id": "drawn-absorption",
   "metadata": {},
   "outputs": [],
   "source": [
    "with open(, 'rb') as f:\n",
    "    corpus = pickle.load(f)"
   ]
  },
  {
   "cell_type": "code",
   "execution_count": 2,
   "id": "intimate-airport",
   "metadata": {},
   "outputs": [],
   "source": [
    "# model = NERModel(\n",
    "#     \"bert\", '/home/jackragless/Downloads/checkpoint-381700-epoch-10', labels= [\"B\", \"I\", \"O\"], use_cuda=True\n",
    "# )"
   ]
  },
  {
   "cell_type": "code",
   "execution_count": 3,
   "id": "progressive-agenda",
   "metadata": {},
   "outputs": [],
   "source": [
    "# text = 'DSDM can be considered as part of a broad range of iterative and incremental development frameworks, especially those supporting agile and object-oriented methods. These include (but are not limited to) Scrum, Extreme Programming (XP), Disciplined Agile Delivery (DAD), and Rational Unified Process (RUP).'\n",
    "# text = nltk.sent_tokenize(text)"
   ]
  },
  {
   "cell_type": "code",
   "execution_count": 4,
   "id": "departmental-underground",
   "metadata": {},
   "outputs": [
    {
     "data": {
      "application/vnd.jupyter.widget-view+json": {
       "model_id": "05df90a1672b4209b8a5ffa9e7d1c4c4",
       "version_major": 2,
       "version_minor": 0
      },
      "text/plain": [
       "  0%|          | 0/2 [00:00<?, ?it/s]"
      ]
     },
     "metadata": {},
     "output_type": "display_data"
    },
    {
     "data": {
      "application/vnd.jupyter.widget-view+json": {
       "model_id": "41647232994b48618501eeb0522b215e",
       "version_major": 2,
       "version_minor": 0
      },
      "text/plain": [
       "Running Prediction:   0%|          | 0/1 [00:00<?, ?it/s]"
      ]
     },
     "metadata": {},
     "output_type": "display_data"
    }
   ],
   "source": [
    "predictions, raw_outputs = model.predict(text)"
   ]
  },
  {
   "cell_type": "code",
   "execution_count": 5,
   "id": "flying-haven",
   "metadata": {},
   "outputs": [
    {
     "data": {
      "text/plain": [
       "[[{'DSDM': 'O'},\n",
       "  {'can': 'O'},\n",
       "  {'be': 'O'},\n",
       "  {'considered': 'O'},\n",
       "  {'as': 'O'},\n",
       "  {'part': 'O'},\n",
       "  {'of': 'O'},\n",
       "  {'a': 'O'},\n",
       "  {'broad': 'O'},\n",
       "  {'range': 'O'},\n",
       "  {'of': 'O'},\n",
       "  {'iterative': 'O'},\n",
       "  {'and': 'O'},\n",
       "  {'incremental': 'O'},\n",
       "  {'development': 'O'},\n",
       "  {'frameworks,': 'O'},\n",
       "  {'especially': 'O'},\n",
       "  {'those': 'O'},\n",
       "  {'supporting': 'O'},\n",
       "  {'agile': 'O'},\n",
       "  {'and': 'O'},\n",
       "  {'object-oriented': 'O'},\n",
       "  {'methods.': 'O'}],\n",
       " [{'These': 'O'},\n",
       "  {'include': 'O'},\n",
       "  {'(but': 'O'},\n",
       "  {'are': 'O'},\n",
       "  {'not': 'O'},\n",
       "  {'limited': 'O'},\n",
       "  {'to)': 'O'},\n",
       "  {'Scrum,': 'O'},\n",
       "  {'Extreme': 'B'},\n",
       "  {'Programming': 'I'},\n",
       "  {'(XP),': 'O'},\n",
       "  {'Disciplined': 'O'},\n",
       "  {'Agile': 'O'},\n",
       "  {'Delivery': 'O'},\n",
       "  {'(DAD),': 'O'},\n",
       "  {'and': 'O'},\n",
       "  {'Rational': 'B'},\n",
       "  {'Unified': 'I'},\n",
       "  {'Process': 'I'},\n",
       "  {'(RUP).': 'O'}]]"
      ]
     },
     "execution_count": 5,
     "metadata": {},
     "output_type": "execute_result"
    }
   ],
   "source": [
    "predictions"
   ]
  },
  {
   "cell_type": "code",
   "execution_count": null,
   "id": "intensive-joint",
   "metadata": {},
   "outputs": [],
   "source": []
  }
 ],
 "metadata": {
  "kernelspec": {
   "display_name": "Python 3",
   "language": "python",
   "name": "python3"
  },
  "language_info": {
   "codemirror_mode": {
    "name": "ipython",
    "version": 3
   },
   "file_extension": ".py",
   "mimetype": "text/x-python",
   "name": "python",
   "nbconvert_exporter": "python",
   "pygments_lexer": "ipython3",
   "version": "3.8.5"
  }
 },
 "nbformat": 4,
 "nbformat_minor": 5
}

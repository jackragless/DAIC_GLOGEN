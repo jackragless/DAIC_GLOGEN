{
 "cells": [
  {
   "cell_type": "code",
   "execution_count": 5,
   "id": "liberal-authority",
   "metadata": {},
   "outputs": [],
   "source": [
    "import pickle\n",
    "import nltk\n",
    "from nltk.corpus import stopwords\n",
    "stop_words = set(stopwords.words('english'))  "
   ]
  },
  {
   "cell_type": "code",
   "execution_count": 6,
   "id": "cordless-characteristic",
   "metadata": {},
   "outputs": [],
   "source": [
    "with open('/home/jackragless/projects/github/DAIC_glossary_generator/data/wiki_master_dataframe_removed.pkl', 'rb') as f:\n",
    "    corpus = pickle.load(f)"
   ]
  },
  {
   "cell_type": "code",
   "execution_count": 7,
   "id": "paperback-figure",
   "metadata": {},
   "outputs": [],
   "source": [
    "def para_kw_space_remove(curpage):\n",
    "    curstring = curpage['text']\n",
    "    for kw in curpage['kw']:\n",
    "        if curstring.find(kw)!=-1:\n",
    "            highlight = curstring[curstring.find(kw):curstring.find(kw)+len(kw)].replace(' ', '|/|')\n",
    "            curstring = str(curstring[:curstring.find(kw)]) + str(highlight) + str(curstring[curstring.find(kw)+len(kw):])\n",
    "    return curstring"
   ]
  },
  {
   "cell_type": "code",
   "execution_count": 8,
   "id": "knowing-scheduling",
   "metadata": {},
   "outputs": [],
   "source": [
    "def biogen(curpage):\n",
    "    sents = nltk.sent_tokenize(para_kw_space_remove(curpage))\n",
    "    kw_arr = curpage['kw']\n",
    "    final_label_arr = []\n",
    "    for sent in sents:\n",
    "        temp_label_arr = []\n",
    "        if len(sent)<=512:\n",
    "            sent = sent[:-1]\n",
    "            for phrase in sent.split():\n",
    "                count = 0\n",
    "                if phrase.replace('|/|',' ') in kw_arr:\n",
    "                    phrase_words = phrase.replace('|/|',' ').split()\n",
    "                    for word in phrase_words:\n",
    "                        if count == 0:\n",
    "                            temp_label_arr.append('B')\n",
    "                        elif count > 0:\n",
    "                            temp_label_arr.append('I')\n",
    "                        count+=1\n",
    "                elif phrase.replace('|/|',' ') not in kw_arr:\n",
    "                    temp_label_arr.append('O')\n",
    "        final_label_arr.append(temp_label_arr)\n",
    "\n",
    "    final_sent_arr = []\n",
    "    for sent in sents:\n",
    "        final_sent_arr.append(sent.replace('|/|',' ').split())\n",
    "\n",
    "    return final_sent_arr, final_label_arr"
   ]
  },
  {
   "cell_type": "code",
   "execution_count": 9,
   "id": "inappropriate-beast",
   "metadata": {},
   "outputs": [],
   "source": [
    "def same_len(sentences, labels):\n",
    "    filt_s = []\n",
    "    filt_l = []\n",
    "    for i in range(len(sentences)):\n",
    "        if len(sentences[i]) == len(labels[i]):\n",
    "            filt_s.append(sentences[i])\n",
    "            filt_l.append(labels[i])\n",
    "    return filt_s, filt_l"
   ]
  },
  {
   "cell_type": "code",
   "execution_count": 10,
   "id": "anticipated-anthony",
   "metadata": {},
   "outputs": [
    {
     "name": "stdout",
     "output_type": "stream",
     "text": [
      "44853\r"
     ]
    }
   ],
   "source": [
    "labels = []\n",
    "sentences = []\n",
    "count = 0\n",
    "for page in corpus:\n",
    "    count += 1\n",
    "    print(count, end='\\r')\n",
    "    s, l= biogen(page)\n",
    "    sentences += s\n",
    "    labels += l"
   ]
  },
  {
   "cell_type": "code",
   "execution_count": 11,
   "id": "inclusive-sender",
   "metadata": {},
   "outputs": [],
   "source": [
    "sentences, labels = same_len(sentences, labels)"
   ]
  },
  {
   "cell_type": "code",
   "execution_count": 12,
   "id": "parental-weight",
   "metadata": {},
   "outputs": [],
   "source": [
    "final_sent = []\n",
    "final_label = []\n",
    "for sent in range(len(sentences)):\n",
    "    temp_sent = []\n",
    "    temp_label = []\n",
    "    for word in range(len(sentences[sent])):\n",
    "        if sentences[sent][word].lower() not in stop_words:\n",
    "            temp_sent.append(sentences[sent][word])\n",
    "            temp_label.append(labels[sent][word])\n",
    "    final_sent.append(temp_sent)\n",
    "    final_label.append(temp_label)\n",
    "FINAL = [final_sent, final_label]"
   ]
  },
  {
   "cell_type": "code",
   "execution_count": 15,
   "id": "handed-admission",
   "metadata": {},
   "outputs": [],
   "source": [
    "fileObj = open('../../data/biogen_xstopwordsx_latest.pkl', 'wb')\n",
    "pickle.dump(FINAL,fileObj)"
   ]
  },
  {
   "cell_type": "code",
   "execution_count": null,
   "id": "timely-yield",
   "metadata": {},
   "outputs": [],
   "source": [
    "# for i in corpus:\n",
    "#     if i['title'] == 'Intel AMT versions':\n",
    "#         print(i['text'])"
   ]
  },
  {
   "cell_type": "code",
   "execution_count": null,
   "id": "identical-automation",
   "metadata": {},
   "outputs": [],
   "source": [
    "# sentences_tok = []\n",
    "# count= 0 \n",
    "# for sent in sentences:\n",
    "#     count += 1\n",
    "#     print(count, end='\\r')\n",
    "#     sent = sent.replace('|/|',' ')\n",
    "#     sentences_tok.append(nltk.word_tokenize(sent)[:-1])"
   ]
  },
  {
   "cell_type": "code",
   "execution_count": null,
   "id": "social-liability",
   "metadata": {},
   "outputs": [],
   "source": [
    "# BIO_df = []\n",
    "# sent_count = 0\n",
    "# fail_count = 0\n",
    "# for i in range(len(sentences_tok)):\n",
    "#     sent_count += 1\n",
    "#     if len(labels[i]) > 0 and len(labels[i]) == len(sentences_tok[i]):\n",
    "#         for j in range(len(sentences_tok[i])):\n",
    "#             BIO_df.append([sent_count, sentences_tok[i][j], labels[i][j]])\n",
    "#     else:\n",
    "#         fail_count += 1"
   ]
  },
  {
   "cell_type": "code",
   "execution_count": null,
   "id": "offshore-region",
   "metadata": {},
   "outputs": [],
   "source": [
    "# fileObj = open('biogen_stopwords_incl', 'wb')\n",
    "# pickle.dump(BIO_df,fileObj)"
   ]
  }
 ],
 "metadata": {
  "kernelspec": {
   "display_name": "Python 3",
   "language": "python",
   "name": "python3"
  },
  "language_info": {
   "codemirror_mode": {
    "name": "ipython",
    "version": 3
   },
   "file_extension": ".py",
   "mimetype": "text/x-python",
   "name": "python",
   "nbconvert_exporter": "python",
   "pygments_lexer": "ipython3",
   "version": "3.8.5"
  }
 },
 "nbformat": 4,
 "nbformat_minor": 5
}

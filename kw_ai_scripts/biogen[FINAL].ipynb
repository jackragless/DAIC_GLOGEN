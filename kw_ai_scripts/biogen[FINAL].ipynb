{
 "cells": [
  {
   "cell_type": "code",
   "execution_count": 122,
   "id": "detailed-landscape",
   "metadata": {},
   "outputs": [],
   "source": [
    "import pickle\n",
    "import numpy as np\n",
    "import nltk\n",
    "from nltk.corpus import stopwords\n",
    "stop_words = set(stopwords.words('english'))  "
   ]
  },
  {
   "cell_type": "code",
   "execution_count": 123,
   "id": "right-stamp",
   "metadata": {},
   "outputs": [],
   "source": [
    "with open(\"/home/jackragless/Downloads/wiki_master_dataframe_chinked_wgrammar.pkl\", 'rb') as f:\n",
    "    corpus = pickle.load(f)"
   ]
  },
  {
   "cell_type": "code",
   "execution_count": 124,
   "id": "abandoned-edward",
   "metadata": {},
   "outputs": [],
   "source": [
    "kw_pool = []\n",
    "for page in corpus:\n",
    "    kw_pool += page['kw']\n",
    "kw_pool = np.array(list(set(kw_pool)))\n",
    "kw_pool = np.sort(kw_pool)"
   ]
  },
  {
   "cell_type": "code",
   "execution_count": 125,
   "id": "convinced-variable",
   "metadata": {},
   "outputs": [],
   "source": [
    "def para_kw_space_remove(curpage, kw_pool):\n",
    "    curstring = curpage['text']\n",
    "    for kw in kw_pool:\n",
    "        if curstring.find(kw)!=-1:\n",
    "            highlight = curstring[curstring.find(kw):curstring.find(kw)+len(kw)].replace(' ', '|/|')\n",
    "            curstring = str(curstring[:curstring.find(kw)]) + str(highlight) + str(curstring[curstring.find(kw)+len(kw):])\n",
    "    return curstring"
   ]
  },
  {
   "cell_type": "code",
   "execution_count": 126,
   "id": "equal-borough",
   "metadata": {},
   "outputs": [],
   "source": [
    "def biogen(curpage, kw_pool):\n",
    "    sents = nltk.sent_tokenize(para_kw_space_remove(curpage, kw_pool))\n",
    "    final_label_arr = []\n",
    "    for sent in sents:\n",
    "        temp_label_arr = []\n",
    "        if len(sent)<=512:\n",
    "            for phrase in nltk.word_tokenize(sent):\n",
    "                count = 0\n",
    "                if phrase.replace('|/|',' ') in kw_pool:\n",
    "                    phrase_words = phrase.replace('|/|',' ').split()\n",
    "                    for word in phrase_words:\n",
    "                        if count == 0:\n",
    "                            temp_label_arr.append('B')\n",
    "                        elif count > 0:\n",
    "                            temp_label_arr.append('I')\n",
    "                        count+=1\n",
    "                else:\n",
    "                    temp_label_arr.append('O')\n",
    "        final_label_arr.append(temp_label_arr)\n",
    "\n",
    "    final_sent_arr = []\n",
    "    for sent in sents:\n",
    "        final_sent_arr.append(nltk.word_tokenize(sent.replace('|/|',' ')))\n",
    "\n",
    "    return final_sent_arr, final_label_arr"
   ]
  },
  {
   "cell_type": "code",
   "execution_count": 127,
   "id": "authentic-match",
   "metadata": {},
   "outputs": [],
   "source": [
    "def same_len(sentences, labels):\n",
    "    filt_s = []\n",
    "    filt_l = []\n",
    "    for i in range(len(sentences)):\n",
    "        if len(sentences[i]) == len(labels[i]):\n",
    "            filt_s.append(sentences[i])\n",
    "            filt_l.append(labels[i])\n",
    "    return filt_s, filt_l"
   ]
  },
  {
   "cell_type": "code",
   "execution_count": 128,
   "id": "personal-counter",
   "metadata": {},
   "outputs": [
    {
     "name": "stdout",
     "output_type": "stream",
     "text": [
      "14/44853\r"
     ]
    },
    {
     "ename": "KeyboardInterrupt",
     "evalue": "",
     "output_type": "error",
     "traceback": [
      "\u001b[0;31m---------------------------------------------------------------------------\u001b[0m",
      "\u001b[0;31mKeyboardInterrupt\u001b[0m                         Traceback (most recent call last)",
      "\u001b[0;32m<ipython-input-128-fbc3580ed53f>\u001b[0m in \u001b[0;36m<module>\u001b[0;34m\u001b[0m\n\u001b[1;32m      5\u001b[0m     \u001b[0mcount\u001b[0m \u001b[0;34m+=\u001b[0m \u001b[0;36m1\u001b[0m\u001b[0;34m\u001b[0m\u001b[0;34m\u001b[0m\u001b[0m\n\u001b[1;32m      6\u001b[0m     \u001b[0mprint\u001b[0m\u001b[0;34m(\u001b[0m\u001b[0mstr\u001b[0m\u001b[0;34m(\u001b[0m\u001b[0mcount\u001b[0m\u001b[0;34m)\u001b[0m \u001b[0;34m+\u001b[0m \u001b[0;34m'/'\u001b[0m \u001b[0;34m+\u001b[0m \u001b[0mstr\u001b[0m\u001b[0;34m(\u001b[0m\u001b[0mlen\u001b[0m\u001b[0;34m(\u001b[0m\u001b[0mcorpus\u001b[0m\u001b[0;34m)\u001b[0m\u001b[0;34m)\u001b[0m\u001b[0;34m,\u001b[0m \u001b[0mend\u001b[0m\u001b[0;34m=\u001b[0m\u001b[0;34m'\\r'\u001b[0m\u001b[0;34m)\u001b[0m\u001b[0;34m\u001b[0m\u001b[0;34m\u001b[0m\u001b[0m\n\u001b[0;32m----> 7\u001b[0;31m     \u001b[0ms\u001b[0m\u001b[0;34m,\u001b[0m \u001b[0ml\u001b[0m\u001b[0;34m=\u001b[0m \u001b[0mbiogen\u001b[0m\u001b[0;34m(\u001b[0m\u001b[0mpage\u001b[0m\u001b[0;34m,\u001b[0m \u001b[0mkw_pool\u001b[0m\u001b[0;34m)\u001b[0m\u001b[0;34m\u001b[0m\u001b[0;34m\u001b[0m\u001b[0m\n\u001b[0m\u001b[1;32m      8\u001b[0m     \u001b[0msentences\u001b[0m \u001b[0;34m+=\u001b[0m \u001b[0ms\u001b[0m\u001b[0;34m\u001b[0m\u001b[0;34m\u001b[0m\u001b[0m\n\u001b[1;32m      9\u001b[0m     \u001b[0mlabels\u001b[0m \u001b[0;34m+=\u001b[0m \u001b[0ml\u001b[0m\u001b[0;34m\u001b[0m\u001b[0;34m\u001b[0m\u001b[0m\n",
      "\u001b[0;32m<ipython-input-126-6a90db77b3e1>\u001b[0m in \u001b[0;36mbiogen\u001b[0;34m(curpage, kw_pool)\u001b[0m\n\u001b[1;32m      7\u001b[0m             \u001b[0;32mfor\u001b[0m \u001b[0mphrase\u001b[0m \u001b[0;32min\u001b[0m \u001b[0mnltk\u001b[0m\u001b[0;34m.\u001b[0m\u001b[0mword_tokenize\u001b[0m\u001b[0;34m(\u001b[0m\u001b[0msent\u001b[0m\u001b[0;34m)\u001b[0m\u001b[0;34m:\u001b[0m\u001b[0;34m\u001b[0m\u001b[0;34m\u001b[0m\u001b[0m\n\u001b[1;32m      8\u001b[0m                 \u001b[0mcount\u001b[0m \u001b[0;34m=\u001b[0m \u001b[0;36m0\u001b[0m\u001b[0;34m\u001b[0m\u001b[0;34m\u001b[0m\u001b[0m\n\u001b[0;32m----> 9\u001b[0;31m                 \u001b[0;32mif\u001b[0m \u001b[0mphrase\u001b[0m\u001b[0;34m.\u001b[0m\u001b[0mreplace\u001b[0m\u001b[0;34m(\u001b[0m\u001b[0;34m'|/|'\u001b[0m\u001b[0;34m,\u001b[0m\u001b[0;34m' '\u001b[0m\u001b[0;34m)\u001b[0m \u001b[0;32min\u001b[0m \u001b[0mkw_pool\u001b[0m\u001b[0;34m:\u001b[0m\u001b[0;34m\u001b[0m\u001b[0;34m\u001b[0m\u001b[0m\n\u001b[0m\u001b[1;32m     10\u001b[0m                     \u001b[0mphrase_words\u001b[0m \u001b[0;34m=\u001b[0m \u001b[0mphrase\u001b[0m\u001b[0;34m.\u001b[0m\u001b[0mreplace\u001b[0m\u001b[0;34m(\u001b[0m\u001b[0;34m'|/|'\u001b[0m\u001b[0;34m,\u001b[0m\u001b[0;34m' '\u001b[0m\u001b[0;34m)\u001b[0m\u001b[0;34m.\u001b[0m\u001b[0msplit\u001b[0m\u001b[0;34m(\u001b[0m\u001b[0;34m)\u001b[0m\u001b[0;34m\u001b[0m\u001b[0;34m\u001b[0m\u001b[0m\n\u001b[1;32m     11\u001b[0m                     \u001b[0;32mfor\u001b[0m \u001b[0mword\u001b[0m \u001b[0;32min\u001b[0m \u001b[0mphrase_words\u001b[0m\u001b[0;34m:\u001b[0m\u001b[0;34m\u001b[0m\u001b[0;34m\u001b[0m\u001b[0m\n",
      "\u001b[0;31mKeyboardInterrupt\u001b[0m: "
     ]
    }
   ],
   "source": [
    "labels = []\n",
    "sentences = []\n",
    "count = 0\n",
    "for page in corpus:\n",
    "    count += 1\n",
    "    print(str(count) + '/' + str(len(corpus)), end='\\r')\n",
    "    s, l= biogen(page, kw_pool)\n",
    "    sentences += s\n",
    "    labels += l"
   ]
  },
  {
   "cell_type": "code",
   "execution_count": null,
   "id": "classical-therapy",
   "metadata": {},
   "outputs": [],
   "source": [
    "sentences, labels = same_len(sentences, labels)"
   ]
  },
  {
   "cell_type": "code",
   "execution_count": null,
   "id": "southeast-sugar",
   "metadata": {},
   "outputs": [],
   "source": [
    "final_sent = []\n",
    "final_label = []\n",
    "for sent in range(len(sentences)):\n",
    "    temp_sent = []\n",
    "    temp_label = []\n",
    "    for word in range(len(sentences[sent])):\n",
    "#         if sentences[sent][word].lower() not in stop_words:\n",
    "        temp_sent.append(sentences[sent][word])\n",
    "        temp_label.append(labels[sent][word])\n",
    "    final_sent.append(temp_sent)\n",
    "    final_label.append(temp_label)\n",
    "FINAL = [final_sent, final_label]"
   ]
  },
  {
   "cell_type": "code",
   "execution_count": null,
   "id": "behavioral-sweden",
   "metadata": {
    "scrolled": false
   },
   "outputs": [],
   "source": [
    "# for i in range(len(FINAL[0])):\n",
    "#     print(FINAL[0][i], '\\n', FINAL[1][i])"
   ]
  },
  {
   "cell_type": "code",
   "execution_count": null,
   "id": "joint-baghdad",
   "metadata": {},
   "outputs": [],
   "source": [
    "fileObj = open('../../data/biogen_stopwords_latest_wgrammar.pkl', 'wb')\n",
    "pickle.dump(FINAL,fileObj)"
   ]
  },
  {
   "cell_type": "code",
   "execution_count": null,
   "id": "collected-silver",
   "metadata": {},
   "outputs": [],
   "source": [
    "# for i in corpus:\n",
    "#     if i['title'] == 'Intel AMT versions':\n",
    "#         print(i['text'])"
   ]
  },
  {
   "cell_type": "code",
   "execution_count": null,
   "id": "central-sperm",
   "metadata": {},
   "outputs": [],
   "source": [
    "# sentences_tok = []\n",
    "# count= 0 \n",
    "# for sent in sentences:\n",
    "#     count += 1\n",
    "#     print(count, end='\\r')\n",
    "#     sent = sent.replace('|/|',' ')\n",
    "#     sentences_tok.append(nltk.word_tokenize(sent)[:-1])"
   ]
  },
  {
   "cell_type": "code",
   "execution_count": null,
   "id": "quarterly-blond",
   "metadata": {},
   "outputs": [],
   "source": [
    "# BIO_df = []\n",
    "# sent_count = 0\n",
    "# fail_count = 0\n",
    "# for i in range(len(sentences_tok)):\n",
    "#     sent_count += 1\n",
    "#     if len(labels[i]) > 0 and len(labels[i]) == len(sentences_tok[i]):\n",
    "#         for j in range(len(sentences_tok[i])):\n",
    "#             BIO_df.append([sent_count, sentences_tok[i][j], labels[i][j]])\n",
    "#     else:\n",
    "#         fail_count += 1"
   ]
  },
  {
   "cell_type": "code",
   "execution_count": null,
   "id": "strategic-crest",
   "metadata": {},
   "outputs": [],
   "source": [
    "# fileObj = open('biogen_stopwords_incl', 'wb')\n",
    "# pickle.dump(BIO_df,fileObj)"
   ]
  }
 ],
 "metadata": {
  "kernelspec": {
   "display_name": "Python 3",
   "language": "python",
   "name": "python3"
  },
  "language_info": {
   "codemirror_mode": {
    "name": "ipython",
    "version": 3
   },
   "file_extension": ".py",
   "mimetype": "text/x-python",
   "name": "python",
   "nbconvert_exporter": "python",
   "pygments_lexer": "ipython3",
   "version": "3.8.5"
  }
 },
 "nbformat": 4,
 "nbformat_minor": 5
}

{
 "cells": [
  {
   "cell_type": "code",
<<<<<<< HEAD
   "execution_count": 1,
   "id": "dietary-conjunction",
=======
   "execution_count": 5,
   "id": "palestinian-kazakhstan",
>>>>>>> 296e177673fb2ecaa55bbeb3227bcfa04f87ec8c
   "metadata": {},
   "outputs": [],
   "source": [
    "import simpletransformers\n",
    "import logging\n",
    "import pandas as pd\n",
    "import pickle\n",
    "from simpletransformers.ner import NERModel, NERArgs\n",
    "import nltk"
   ]
  },
  {
   "cell_type": "code",
<<<<<<< HEAD
   "execution_count": 2,
   "id": "amazing-spirituality",
=======
   "execution_count": 6,
   "id": "handy-steering",
   "metadata": {},
   "outputs": [],
   "source": [
    "with open('/home/jackragless/Downloads/evals.pkl', 'rb') as f:\n",
    "    input_df = pickle.load(f)"
   ]
  },
  {
   "cell_type": "code",
   "execution_count": 7,
   "id": "stainless-childhood",
   "metadata": {},
   "outputs": [
    {
     "data": {
      "text/plain": [
       "[{'model': 'checkpoint-114510-epoch-3.pkl',\n",
       "  'results': {'eval_loss': 0.13294825135297406,\n",
       "   'precision': 0.6185169659918015,\n",
       "   'recall': 0.535992791534771,\n",
       "   'f1_score': 0.5743054713089895}},\n",
       " {'model': 'checkpoint-190850-epoch-5.pkl',\n",
       "  'results': {'eval_loss': 0.12427379194923693,\n",
       "   'precision': 0.6690875123487583,\n",
       "   'recall': 0.6454171050086568,\n",
       "   'f1_score': 0.6570391910615276}},\n",
       " {'model': 'checkpoint-343530-epoch-9.pkl',\n",
       "  'results': {'eval_loss': 0.14339860549966116,\n",
       "   'precision': 0.705913438907195,\n",
       "   'recall': 0.749902110174409,\n",
       "   'f1_score': 0.7272431974928801}},\n",
       " {'model': 'checkpoint-152680-epoch-4.pkl',\n",
       "  'results': {'eval_loss': 0.12787515701816865,\n",
       "   'precision': 0.6340083212458967,\n",
       "   'recall': 0.6268628551749515,\n",
       "   'f1_score': 0.6304153412231324}},\n",
       " {'model': 'checkpoint-305360-epoch-8.pkl',\n",
       "  'results': {'eval_loss': 0.1350254205061124,\n",
       "   'precision': 0.6997700141392086,\n",
       "   'recall': 0.737796794874819,\n",
       "   'f1_score': 0.7182804588198821}},\n",
       " {'model': 'checkpoint-267190-epoch-7.pkl',\n",
       "  'results': {'eval_loss': 0.1289286390462947,\n",
       "   'precision': 0.68249964346834,\n",
       "   'recall': 0.722459935935237,\n",
       "   'f1_score': 0.7019115082375212}},\n",
       " {'model': 'checkpoint-381700-epoch-10.pkl',\n",
       "  'results': {'eval_loss': 0.1506620472042671,\n",
       "   'precision': 0.7183035390528683,\n",
       "   'recall': 0.7476188005076119,\n",
       "   'f1_score': 0.7326680490155966}},\n",
       " {'model': 'checkpoint-229020-epoch-6.pkl',\n",
       "  'results': {'eval_loss': 0.12315146456158962,\n",
       "   'precision': 0.6905891733680802,\n",
       "   'recall': 0.6700806234756314,\n",
       "   'f1_score': 0.6801803419601533}}]"
      ]
     },
     "execution_count": 7,
     "metadata": {},
     "output_type": "execute_result"
    }
   ],
   "source": [
    "input_df"
   ]
  },
  {
   "cell_type": "code",
   "execution_count": 8,
   "id": "daily-bouquet",
>>>>>>> 296e177673fb2ecaa55bbeb3227bcfa04f87ec8c
   "metadata": {},
   "outputs": [],
   "source": [
    "model = NERModel(\n",
    "    \"bert\", '/home/jackragless/projects/github/DAIC_GLOGEN/kw_ai_scripts/outputs/best_model', labels= [\"B\", \"I\", \"O\"], use_cuda=True\n",
    ")"
   ]
  },
  {
   "cell_type": "code",
<<<<<<< HEAD
   "execution_count": 3,
   "id": "clean-prime",
=======
   "execution_count": 11,
   "id": "whole-truck",
>>>>>>> 296e177673fb2ecaa55bbeb3227bcfa04f87ec8c
   "metadata": {},
   "outputs": [],
   "source": [
    "text = 'DSDM can be considered as part of a broad range of iterative and incremental development frameworks, especially those supporting agile and object-oriented methods. These include (but are not limited to) Scrum, Extreme Programming (XP), Disciplined Agile Delivery (DAD), and Rational Unified Process (RUP).'\n",
    "text = nltk.sent_tokenize(text)"
   ]
  },
  {
   "cell_type": "code",
   "execution_count": 12,
<<<<<<< HEAD
   "id": "induced-publisher",
=======
   "id": "adjusted-bowling",
>>>>>>> 296e177673fb2ecaa55bbeb3227bcfa04f87ec8c
   "metadata": {},
   "outputs": [
    {
     "data": {
      "text/plain": [
       "['DSDM can be considered as part of a broad range of iterative and incremental development frameworks, especially those supporting agile and object-oriented methods.',\n",
       " 'These include (but are not limited to) Scrum, Extreme Programming (XP), Disciplined Agile Delivery (DAD), and Rational Unified Process (RUP).']"
      ]
     },
     "execution_count": 12,
     "metadata": {},
     "output_type": "execute_result"
    }
   ],
   "source": [
    "text"
   ]
  },
  {
   "cell_type": "code",
<<<<<<< HEAD
   "execution_count": 4,
   "id": "worldwide-matrix",
=======
   "execution_count": 13,
   "id": "unlike-shelf",
>>>>>>> 296e177673fb2ecaa55bbeb3227bcfa04f87ec8c
   "metadata": {},
   "outputs": [
    {
     "data": {
      "application/vnd.jupyter.widget-view+json": {
       "model_id": "b544ad8e68ab42fca5b598a185993771",
       "version_major": 2,
       "version_minor": 0
      },
      "text/plain": [
       "  0%|          | 0/2 [00:00<?, ?it/s]"
      ]
     },
     "metadata": {},
     "output_type": "display_data"
    },
    {
     "data": {
      "application/vnd.jupyter.widget-view+json": {
       "model_id": "0a19b74ff7ac4fe4a5d517afc61a37cd",
       "version_major": 2,
       "version_minor": 0
      },
      "text/plain": [
       "Running Prediction:   0%|          | 0/1 [00:00<?, ?it/s]"
      ]
     },
     "metadata": {},
     "output_type": "display_data"
    }
   ],
   "source": [
    "predictions, raw_outputs = model.predict(text)"
   ]
  },
  {
   "cell_type": "code",
   "execution_count": 5,
<<<<<<< HEAD
   "id": "centered-hierarchy",
=======
   "id": "hungarian-unemployment",
>>>>>>> 296e177673fb2ecaa55bbeb3227bcfa04f87ec8c
   "metadata": {},
   "outputs": [
    {
     "data": {
      "text/plain": [
       "[[{'DSDM': 'O'},\n",
       "  {'can': 'O'},\n",
       "  {'be': 'O'},\n",
       "  {'considered': 'O'},\n",
       "  {'as': 'O'},\n",
       "  {'part': 'O'},\n",
       "  {'of': 'O'},\n",
       "  {'a': 'O'},\n",
       "  {'broad': 'O'},\n",
       "  {'range': 'O'},\n",
       "  {'of': 'O'},\n",
       "  {'iterative': 'O'},\n",
       "  {'and': 'O'},\n",
       "  {'incremental': 'O'},\n",
       "  {'development': 'O'},\n",
       "  {'frameworks,': 'O'},\n",
       "  {'especially': 'O'},\n",
       "  {'those': 'O'},\n",
       "  {'supporting': 'O'},\n",
       "  {'agile': 'O'},\n",
       "  {'and': 'O'},\n",
       "  {'object-oriented': 'O'},\n",
       "  {'methods.': 'O'}],\n",
       " [{'These': 'O'},\n",
       "  {'include': 'O'},\n",
       "  {'(but': 'O'},\n",
       "  {'are': 'O'},\n",
       "  {'not': 'O'},\n",
       "  {'limited': 'O'},\n",
       "  {'to)': 'O'},\n",
       "  {'Scrum,': 'O'},\n",
       "  {'Extreme': 'B'},\n",
       "  {'Programming': 'I'},\n",
       "  {'(XP),': 'O'},\n",
       "  {'Disciplined': 'O'},\n",
       "  {'Agile': 'O'},\n",
       "  {'Delivery': 'O'},\n",
       "  {'(DAD),': 'O'},\n",
       "  {'and': 'O'},\n",
       "  {'Rational': 'B'},\n",
       "  {'Unified': 'I'},\n",
       "  {'Process': 'I'},\n",
       "  {'(RUP).': 'O'}]]"
      ]
     },
     "execution_count": 5,
     "metadata": {},
     "output_type": "execute_result"
    }
   ],
   "source": [
    "predictions"
   ]
  },
  {
   "cell_type": "code",
   "execution_count": null,
<<<<<<< HEAD
   "id": "checked-shanghai",
=======
   "id": "legal-blame",
>>>>>>> 296e177673fb2ecaa55bbeb3227bcfa04f87ec8c
   "metadata": {},
   "outputs": [],
   "source": []
  }
 ],
 "metadata": {
  "kernelspec": {
   "display_name": "Python 3",
   "language": "python",
   "name": "python3"
  },
  "language_info": {
   "codemirror_mode": {
    "name": "ipython",
    "version": 3
   },
   "file_extension": ".py",
   "mimetype": "text/x-python",
   "name": "python",
   "nbconvert_exporter": "python",
   "pygments_lexer": "ipython3",
   "version": "3.8.5"
  }
 },
 "nbformat": 4,
 "nbformat_minor": 5
}

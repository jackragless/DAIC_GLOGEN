{
 "cells": [
  {
   "cell_type": "code",
   "execution_count": 1,
   "id": "dietary-conjunction",
   "metadata": {},
   "outputs": [],
   "source": [
    "import simpletransformers\n",
    "import logging\n",
    "import pandas as pd\n",
    "import pickle\n",
    "from simpletransformers.ner import NERModel, NERArgs\n",
    "import nltk"
   ]
  },
  {
   "cell_type": "code",
   "execution_count": 2,
   "id": "amazing-spirituality",
   "metadata": {},
   "outputs": [],
   "source": [
    "model = NERModel(\n",
    "    \"bert\", '/home/jackragless/projects/github/DAIC_GLOGEN/kw_ai_scripts/outputs/best_model', labels= [\"B\", \"I\", \"O\"], use_cuda=True\n",
    ")"
   ]
  },
  {
   "cell_type": "code",
   "execution_count": 3,
   "id": "clean-prime",
   "metadata": {},
   "outputs": [],
   "source": [
    "text = 'DSDM can be considered as part of a broad range of iterative and incremental development frameworks, especially those supporting agile and object-oriented methods. These include (but are not limited to) Scrum, Extreme Programming (XP), Disciplined Agile Delivery (DAD), and Rational Unified Process (RUP).'\n",
    "text = nltk.sent_tokenize(text)"
   ]
  },
  {
   "cell_type": "code",
   "execution_count": 12,
   "id": "induced-publisher",
   "metadata": {},
   "outputs": [
    {
     "data": {
      "text/plain": [
       "['DSDM can be considered as part of a broad range of iterative and incremental development frameworks, especially those supporting agile and object-oriented methods.',\n",
       " 'These include (but are not limited to) Scrum, Extreme Programming (XP), Disciplined Agile Delivery (DAD), and Rational Unified Process (RUP).']"
      ]
     },
     "execution_count": 12,
     "metadata": {},
     "output_type": "execute_result"
    }
   ],
   "source": [
    "text"
   ]
  },
  {
   "cell_type": "code",
   "execution_count": 4,
   "id": "worldwide-matrix",
   "metadata": {},
   "outputs": [
    {
     "data": {
      "application/vnd.jupyter.widget-view+json": {
       "model_id": "b544ad8e68ab42fca5b598a185993771",
       "version_major": 2,
       "version_minor": 0
      },
      "text/plain": [
       "  0%|          | 0/2 [00:00<?, ?it/s]"
      ]
     },
     "metadata": {},
     "output_type": "display_data"
    },
    {
     "data": {
      "application/vnd.jupyter.widget-view+json": {
       "model_id": "0a19b74ff7ac4fe4a5d517afc61a37cd",
       "version_major": 2,
       "version_minor": 0
      },
      "text/plain": [
       "Running Prediction:   0%|          | 0/1 [00:00<?, ?it/s]"
      ]
     },
     "metadata": {},
     "output_type": "display_data"
    }
   ],
   "source": [
    "predictions, raw_outputs = model.predict(text)"
   ]
  },
  {
   "cell_type": "code",
   "execution_count": 5,
   "id": "centered-hierarchy",
   "metadata": {},
   "outputs": [
    {
     "data": {
      "text/plain": [
       "[[{'DSDM': 'O'},\n",
       "  {'can': 'O'},\n",
       "  {'be': 'O'},\n",
       "  {'considered': 'O'},\n",
       "  {'as': 'O'},\n",
       "  {'part': 'O'},\n",
       "  {'of': 'O'},\n",
       "  {'a': 'O'},\n",
       "  {'broad': 'O'},\n",
       "  {'range': 'O'},\n",
       "  {'of': 'O'},\n",
       "  {'iterative': 'O'},\n",
       "  {'and': 'O'},\n",
       "  {'incremental': 'O'},\n",
       "  {'development': 'O'},\n",
       "  {'frameworks,': 'O'},\n",
       "  {'especially': 'O'},\n",
       "  {'those': 'O'},\n",
       "  {'supporting': 'O'},\n",
       "  {'agile': 'O'},\n",
       "  {'and': 'O'},\n",
       "  {'object-oriented': 'O'},\n",
       "  {'methods.': 'O'}],\n",
       " [{'These': 'O'},\n",
       "  {'include': 'O'},\n",
       "  {'(but': 'O'},\n",
       "  {'are': 'O'},\n",
       "  {'not': 'O'},\n",
       "  {'limited': 'O'},\n",
       "  {'to)': 'O'},\n",
       "  {'Scrum,': 'O'},\n",
       "  {'Extreme': 'B'},\n",
       "  {'Programming': 'I'},\n",
       "  {'(XP),': 'O'},\n",
       "  {'Disciplined': 'O'},\n",
       "  {'Agile': 'O'},\n",
       "  {'Delivery': 'O'},\n",
       "  {'(DAD),': 'O'},\n",
       "  {'and': 'O'},\n",
       "  {'Rational': 'B'},\n",
       "  {'Unified': 'I'},\n",
       "  {'Process': 'I'},\n",
       "  {'(RUP).': 'O'}]]"
      ]
     },
     "execution_count": 5,
     "metadata": {},
     "output_type": "execute_result"
    }
   ],
   "source": [
    "predictions"
   ]
  },
  {
   "cell_type": "code",
   "execution_count": null,
   "id": "checked-shanghai",
   "metadata": {},
   "outputs": [],
   "source": []
  }
 ],
 "metadata": {
  "kernelspec": {
   "display_name": "Python 3",
   "language": "python",
   "name": "python3"
  },
  "language_info": {
   "codemirror_mode": {
    "name": "ipython",
    "version": 3
   },
   "file_extension": ".py",
   "mimetype": "text/x-python",
   "name": "python",
   "nbconvert_exporter": "python",
   "pygments_lexer": "ipython3",
   "version": "3.8.5"
  }
 },
 "nbformat": 4,
 "nbformat_minor": 5
}

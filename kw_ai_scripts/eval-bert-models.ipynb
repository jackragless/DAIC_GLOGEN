{
 "cells": [
  {
   "cell_type": "code",
   "execution_count": 1,
   "id": "golden-collect",
   "metadata": {},
   "outputs": [],
   "source": [
    "import simpletransformers\n",
    "import logging\n",
    "import pandas as pd\n",
    "import pickle\n",
    "from simpletransformers.ner import NERModel, NERArgs\n",
    "import os"
   ]
  },
  {
   "cell_type": "code",
   "execution_count": 2,
   "id": "ruled-clone",
   "metadata": {},
   "outputs": [],
   "source": [
    "with open('/home/jackragless/biogen_df.pkl', 'rb') as f:\n",
    "    corpus = pickle.load(f)"
   ]
  },
  {
   "cell_type": "code",
   "execution_count": 3,
   "id": "respected-breed",
   "metadata": {},
   "outputs": [],
   "source": [
    "train_cutoff = int(0.8 * len(corpus))\n",
    "train_data = corpus[:train_cutoff]\n",
    "eval_data = corpus[train_cutoff:]"
   ]
  },
  {
   "cell_type": "code",
   "execution_count": 4,
   "id": "respiratory-junction",
   "metadata": {},
   "outputs": [],
   "source": [
    "eval_data = pd.DataFrame(\n",
    "    eval_data, columns=[\"sentence_id\", \"words\", \"labels\"]\n",
    ")"
   ]
  },
  {
   "cell_type": "code",
   "execution_count": 5,
   "id": "external-allen",
   "metadata": {},
   "outputs": [],
   "source": [
    "model_args = NERArgs()"
   ]
  },
  {
   "cell_type": "code",
   "execution_count": null,
   "id": "rubber-license",
   "metadata": {},
   "outputs": [
    {
     "name": "stdout",
     "output_type": "stream",
     "text": [
      "/home/jackragless/ext_hdd/outputs/checkpoint-152680-epoch-4\n"
     ]
    },
    {
     "data": {
      "application/vnd.jupyter.widget-view+json": {
       "model_id": "1df6430f94d2454cbca5a7c7c843c401",
       "version_major": 2,
       "version_minor": 0
      },
      "text/plain": [
       "  0%|          | 0/250713 [00:00<?, ?it/s]"
      ]
     },
     "metadata": {},
     "output_type": "display_data"
    },
    {
     "data": {
      "application/vnd.jupyter.widget-view+json": {
       "model_id": "b7b8a2c26ae4430c9f78ef44ac990d6b",
       "version_major": 2,
       "version_minor": 0
      },
      "text/plain": [
       "Running Evaluation:   0%|          | 0/31340 [00:00<?, ?it/s]"
      ]
     },
     "metadata": {},
     "output_type": "display_data"
    },
    {
     "name": "stdout",
     "output_type": "stream",
     "text": [
      "/home/jackragless/ext_hdd/outputs/checkpoint-305360-epoch-8\n"
     ]
    },
    {
     "data": {
      "application/vnd.jupyter.widget-view+json": {
       "model_id": "7d69cff357f3449dbbf6373b62db4d02",
       "version_major": 2,
       "version_minor": 0
      },
      "text/plain": [
       "  0%|          | 0/250713 [00:00<?, ?it/s]"
      ]
     },
     "metadata": {},
     "output_type": "display_data"
    },
    {
     "data": {
      "application/vnd.jupyter.widget-view+json": {
       "model_id": "55230170525a4ded84e713bd2e1d262c",
       "version_major": 2,
       "version_minor": 0
      },
      "text/plain": [
       "Running Evaluation:   0%|          | 0/31340 [00:00<?, ?it/s]"
      ]
     },
     "metadata": {},
     "output_type": "display_data"
    },
    {
     "name": "stdout",
     "output_type": "stream",
     "text": [
      "/home/jackragless/ext_hdd/outputs/checkpoint-381700-epoch-10\n"
     ]
    },
    {
     "data": {
      "application/vnd.jupyter.widget-view+json": {
       "model_id": "bcc42f37b33642e9a5e5059b887dba5c",
       "version_major": 2,
       "version_minor": 0
      },
      "text/plain": [
       "  0%|          | 0/250713 [00:00<?, ?it/s]"
      ]
     },
     "metadata": {},
     "output_type": "display_data"
    }
   ],
   "source": [
    "base_loc = '/home/jackragless/ext_hdd/outputs'\n",
    "for foldername in os.listdir(base_loc):\n",
    "    if foldername.find('epoch')!=-1:\n",
    "        model = NERModel(\n",
    "        \"bert\", base_loc+'/'+foldername, use_cuda = True\n",
    "        )\n",
    "        print(base_loc+'/'+foldername)\n",
    "        model_eval_result = 'eval':model.eval_model(eval_data)\n",
    "        fileObj = open('{}.pkl'.format(foldername), 'wb')\n",
    "        pickle.dump(model_eval_result,fileObj)"
   ]
  }
 ],
 "metadata": {
  "kernelspec": {
   "display_name": "Python 3",
   "language": "python",
   "name": "python3"
  },
  "language_info": {
   "codemirror_mode": {
    "name": "ipython",
    "version": 3
   },
   "file_extension": ".py",
   "mimetype": "text/x-python",
   "name": "python",
   "nbconvert_exporter": "python",
   "pygments_lexer": "ipython3",
   "version": "3.8.5"
  }
 },
 "nbformat": 4,
 "nbformat_minor": 5
}

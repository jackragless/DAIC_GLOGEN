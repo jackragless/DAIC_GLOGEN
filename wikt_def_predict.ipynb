{
 "cells": [
  {
   "cell_type": "code",
   "execution_count": 1,
   "id": "adolescent-broadway",
   "metadata": {},
   "outputs": [
    {
     "name": "stdout",
     "output_type": "stream",
     "text": [
      "importing Jupyter notebook from preprocess_utils.ipynb\n",
      "importing Jupyter notebook from wikt_def_parse.ipynb\n"
     ]
    },
    {
     "name": "stderr",
     "output_type": "stream",
     "text": [
      "[nltk_data] Downloading package wordnet to\n",
      "[nltk_data]     /home/jackragless/nltk_data...\n",
      "[nltk_data]   Package wordnet is already up-to-date!\n"
     ]
    }
   ],
   "source": [
    "import nltk\n",
    "import pickle\n",
    "import wikipedia\n",
    "import pandas as pd\n",
    "import numpy as np\n",
    "from statistics import mean\n",
    "\n",
    "stop_words = set(nltk.corpus.stopwords.words('english'))\n",
    "\n",
    "import import_ipynb\n",
    "import preprocess_utils\n",
    "import wikt_def_parse\n",
    "\n",
    "from gensim.models.doc2vec import Doc2Vec, TaggedDocument\n",
    "from gensim.models import Phrases\n",
    "import gensim.downloader\n",
    "###THIS IS SLOWING DOWN INITIALISATION\n",
    "# glove_vectors = gensim.downloader.load('glove-wiki-gigaword-300') #75s loadtime\n",
    "glove_vectors = gensim.downloader.load('glove-wiki-gigaword-50')#18s loadtime\n",
    "\n",
    "\n",
    "from semantic_text_similarity.models import ClinicalBertSimilarity"
   ]
  },
  {
   "cell_type": "code",
   "execution_count": 2,
   "id": "involved-witch",
   "metadata": {},
   "outputs": [],
   "source": [
    "clinical_model = ClinicalBertSimilarity(device='cuda', batch_size=10)"
   ]
  },
  {
   "cell_type": "code",
   "execution_count": 36,
   "id": "developing-rates",
   "metadata": {},
   "outputs": [],
   "source": [
    "def title_domain_predict(title, domain_arr, domain_exclusions):\n",
    "    \n",
    "    domains = []\n",
    "    for arr in domain_arr:\n",
    "        temp = []\n",
    "        for word in arr:\n",
    "            if word not in stop_words and word!=',':\n",
    "                temp.append(word)\n",
    "        domains.append(temp)\n",
    "\n",
    "    title_tokens = nltk.word_tokenize(title.lower())\n",
    "\n",
    "    \n",
    "    FINAL = []\n",
    "    for dt in domain_arr:\n",
    "        condition = False\n",
    "        for excl in domain_exclusions:\n",
    "            if excl in dt:\n",
    "                condition = True\n",
    "                break\n",
    "                \n",
    "                \n",
    "        if condition == True:\n",
    "            FINAL.append(0)\n",
    "            \n",
    "            \n",
    "        else: \n",
    "            if dt[0] == 'general':\n",
    "                FINAL.append(0)  \n",
    "            else:\n",
    "                temp3 = []\n",
    "                for dtt in dt:\n",
    "                    temp2 = []\n",
    "                    for dttt in dtt.split():\n",
    "                        temp1 = []\n",
    "                        for tt in title_tokens:\n",
    "                            try:\n",
    "                                similarity = glove_vectors.similarity(dttt,tt)\n",
    "                            except:\n",
    "                                similarity = 0\n",
    "                            temp1.append(similarity)\n",
    "                        temp2.append(np.mean(temp1))\n",
    "                    temp3.append(np.mean(temp2))\n",
    "                FINAL.append(np.mean(temp3))\n",
    "    return FINAL"
   ]
  },
  {
   "cell_type": "code",
   "execution_count": 37,
   "id": "international-liechtenstein",
   "metadata": {},
   "outputs": [],
   "source": [
    "def semantic_predict(curtext, clean_defs):\n",
    "    final = []\n",
    "    for i in clean_defs:\n",
    "        temp = []\n",
    "        for j in nltk.sent_tokenize(curtext)[1:]: #modification\n",
    "                temp.append(clinical_model.predict([(j,i)]))\n",
    "        final.append(np.mean(temp))\n",
    "    return final"
   ]
  },
  {
   "cell_type": "code",
   "execution_count": 38,
   "id": "incomplete-humidity",
   "metadata": {},
   "outputs": [],
   "source": [
    "def select_best_index(predict1_probs, predict2_probs):\n",
    "    if len(predict1_probs)>2:\n",
    "        num = np.max([2,int(0.2*len(predict1_probs))])\n",
    "        \n",
    "        predict1_argsort = list(np.argsort(predict1_probs)[::-1])[:num]\n",
    "        predict2_argsort = list(np.argsort(predict2_probs)[::-1])[:num]\n",
    "        \n",
    "        for i in predict1_argsort:\n",
    "            if i in predict2_argsort:\n",
    "                return i\n",
    "        return predict1_argsort[0]\n",
    "        \n",
    "    else:\n",
    "        return np.where(predict1_probs == np.max(predict1_probs))[0][0]"
   ]
  },
  {
   "cell_type": "code",
   "execution_count": 39,
   "id": "adult-ranking",
   "metadata": {},
   "outputs": [],
   "source": [
    "def driver(title, curtext, kw, pos):\n",
    "    \n",
    "    orig_defs =  [obj for obj in wikt_def_parse.define(kw)[pos]]\n",
    "    domain_arr = [preprocess_utils.clean_text(sent[:sent.find(')')],False,False,True,True,True).replace('.','').replace('(','').strip().split(', ')for sent in orig_defs]\n",
    "    clean_defs = [preprocess_utils.clean_text(definition,False,True,True,True,True) for definition in orig_defs]\n",
    "    \n",
    "    domain_exclusions = ['dated', 'obsolete', 'rare']\n",
    "    \n",
    "    predict1_probs = semantic_predict(curtext, clean_defs)\n",
    "    predict2_probs = title_domain_predict(title, domain_arr, domain_exclusions)\n",
    "\n",
    "    best_index = select_best_index(predict1_probs, predict2_probs)\n",
    "        \n",
    "    return orig_defs[best_index]\n",
    "\n",
    "#     return predict1_probs, predict2_probs\n"
   ]
  },
  {
   "cell_type": "code",
   "execution_count": 40,
   "id": "theoretical-terry",
   "metadata": {},
   "outputs": [
    {
     "data": {
      "text/plain": [
       "'(general) An object designed to open and close a lock.'"
      ]
     },
     "execution_count": 40,
     "metadata": {},
     "output_type": "execute_result"
    }
   ],
   "source": [
    "curtext = preprocess_utils.clean_text(wikipedia.page('Lock and key').content,True,True,True,True,True)\n",
    "driver('Lock and Key', curtext, 'key', 'noun')"
   ]
  },
  {
   "cell_type": "code",
   "execution_count": null,
   "id": "vertical-virtue",
   "metadata": {},
   "outputs": [],
   "source": []
  }
 ],
 "metadata": {
  "kernelspec": {
   "display_name": "Python 3",
   "language": "python",
   "name": "python3"
  },
  "language_info": {
   "codemirror_mode": {
    "name": "ipython",
    "version": 3
   },
   "file_extension": ".py",
   "mimetype": "text/x-python",
   "name": "python",
   "nbconvert_exporter": "python",
   "pygments_lexer": "ipython3",
   "version": "3.8.5"
  }
 },
 "nbformat": 4,
 "nbformat_minor": 5
}

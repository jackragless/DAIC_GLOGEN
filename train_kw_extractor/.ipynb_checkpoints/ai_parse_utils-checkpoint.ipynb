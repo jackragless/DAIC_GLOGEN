{
 "cells": [
  {
   "cell_type": "code",
   "execution_count": 3,
   "id": "rough-preview",
   "metadata": {},
   "outputs": [
    {
     "name": "stderr",
     "output_type": "stream",
     "text": [
      "[nltk_data] Downloading package punkt to\n",
      "[nltk_data]     /home/jackragless/nltk_data...\n",
      "[nltk_data]   Package punkt is already up-to-date!\n",
      "[nltk_data] Downloading package benepar_en3 to\n",
      "[nltk_data]     /home/jackragless/nltk_data...\n",
      "[nltk_data]   Package benepar_en3 is already up-to-date!\n"
     ]
    }
   ],
   "source": [
    "import nltk\n",
    "nltk.download('punkt')\n",
    "import benepar\n",
    "benepar.download('benepar_en3')\n",
    "parser = benepar.Parser(\"benepar_en3\")\n",
    "norm_pos_tags = ['CC', 'CD', 'DT', 'EX', 'FW', 'IN', 'JJ', 'JJR', 'JJS', 'LS', 'MD', 'NN', 'NNS', 'NNP', 'NNPS', 'PDT', 'POS', 'PRP', 'PRP$', 'RB', 'RBR', 'RBS', 'RP', 'TO', 'UH', 'VB', 'VBG', 'VBD', 'VBN', 'VBP', 'VBZ', 'WDT', 'WP', 'WRB', ',', '.']"
   ]
  },
  {
   "cell_type": "code",
   "execution_count": 17,
   "id": "quality-noise",
   "metadata": {},
   "outputs": [],
   "source": [
    "def parseSent(sent):\n",
    "    try:\n",
    "        const = parser.parse(sent)\n",
    "        return const\n",
    "    except:\n",
    "        return"
   ]
  },
  {
   "cell_type": "code",
   "execution_count": 18,
   "id": "desperate-level",
   "metadata": {},
   "outputs": [],
   "source": [
    "def getAllNodes(parent, arr):\n",
    "    for node in parent:\n",
    "        if type(node) is nltk.Tree:\n",
    "            arr.append([node.label(),node.leaves()])\n",
    "            getAllNodes(node, arr)\n",
    "    return arr"
   ]
  },
  {
   "cell_type": "code",
   "execution_count": 19,
   "id": "sapphire-discussion",
   "metadata": {},
   "outputs": [],
   "source": [
    "test = 'Greenfoot is an integrated development environment using Java or Stride designed primarily for educational purposes at the high school and undergraduate level.'"
   ]
  },
  {
   "cell_type": "code",
   "execution_count": 36,
   "id": "comparable-there",
   "metadata": {},
   "outputs": [],
   "source": [
    "def getPhraseNodes(parent, arr):\n",
    "    for node in parent:\n",
    "        if type(node) is nltk.Tree:\n",
    "            if node.label() == 'NP' and len(node.leaves()) in range(2,6):\n",
    "                temp_cat_str = ''\n",
    "                condition = True\n",
    "                for child in node:\n",
    "                    if child.label() == 'NP' or child.label() == 'VP' or child.label() == 'PP':\n",
    "                        condition = False\n",
    "                if condition == True:\n",
    "                    for leaf in node.leaves():\n",
    "                        temp_cat_str += ' ' + leaf\n",
    "                    arr.append([temp_cat_str.strip(),'noun'])\n",
    "            if node.label() == 'VP' and len(node.leaves()) in range(2,6):\n",
    "                temp_cat_str = ''\n",
    "                condition = True\n",
    "                for child in node:\n",
    "                    if child.label() == 'NP' or child.label() == 'VP' or child.label() == 'PP':\n",
    "                        condition = False\n",
    "                if condition == True:\n",
    "                    for leaf in node.leaves():\n",
    "                        temp_cat_str += ' ' + leaf\n",
    "                    arr.append([temp_cat_str.strip(),'verb'])\n",
    "            \n",
    "            getPhraseNodes(node, arr)\n",
    "            \n",
    "    return arr"
   ]
  },
  {
   "cell_type": "code",
   "execution_count": null,
   "id": "practical-printing",
   "metadata": {},
   "outputs": [],
   "source": [
    "def getWordNodes(parent, arr):\n",
    "    for node in parent:\n",
    "        if type(node) is nltk.Tree:\n",
    "            for leaf in node.leaves():\n",
    "                if node.label() in norm_pos_tags:\n",
    "                    arr.append([leaf,node.label()])\n",
    "            getWordNodes(node, arr)\n",
    "    return arr"
   ]
  }
 ],
 "metadata": {
  "kernelspec": {
   "display_name": "Python 3",
   "language": "python",
   "name": "python3"
  },
  "language_info": {
   "codemirror_mode": {
    "name": "ipython",
    "version": 3
   },
   "file_extension": ".py",
   "mimetype": "text/x-python",
   "name": "python",
   "nbconvert_exporter": "python",
   "pygments_lexer": "ipython3",
   "version": "3.8.5"
  }
 },
 "nbformat": 4,
 "nbformat_minor": 5
}

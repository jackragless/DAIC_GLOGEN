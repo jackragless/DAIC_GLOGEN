{
 "cells": [
  {
   "cell_type": "code",
   "execution_count": null,
   "id": "technical-george",
   "metadata": {},
   "outputs": [],
   "source": [
    "import pickle\n",
    "\n",
    "import import_ipynb\n",
    "import generate_domain_unigram\n",
    "\n",
    "import P1_wikipedia_corpus_miner \n",
    "import P2_manual_add_keywords\n",
    "import P3_wiki_corpus_cleaning_chinking \n",
    "import P4_biogen_format_conversion \n",
    "import P5_simpletransformers_bert_training_evaluation"
   ]
  },
  {
   "cell_type": "code",
   "execution_count": null,
   "id": "alike-dallas",
   "metadata": {},
   "outputs": [],
   "source": [
    "print('MINING CORPUS...')\n",
    "wiki_corpus = P1_wikipedia_corpus_miner.driver('Category:Artificial intelligence')\n",
    "with open('orig_wiki_corpus.pkl', 'wb') as f:\n",
    "    pickle.dump(wiki_corpus, f)"
   ]
  },
  {
   "cell_type": "code",
   "execution_count": null,
   "id": "every-commodity",
   "metadata": {},
   "outputs": [],
   "source": [
    "print('MANUALLY ADDING KEYWORDS...')\n",
    "wiki_corpus_kw_added = P2_manual_add_keywords.driver(corpus)\n",
    "with open('wiki_corpus_addedkw.pkl', 'wb') as f:\n",
    "    pickle.dump(corpus, f)"
   ]
  },
  {
   "cell_type": "code",
   "execution_count": null,
   "id": "filled-alaska",
   "metadata": {},
   "outputs": [],
   "source": [
    "print('GENERATING UNIGRAM...')\n",
    "unigram = generate_domain_unigram.driver(wiki_corpus_kw_added)\n",
    "unigram.to_csv('domain_specific_unigram.csv')"
   ]
  },
  {
   "cell_type": "code",
   "execution_count": null,
   "id": "absolute-roots",
   "metadata": {},
   "outputs": [],
   "source": [
    "print('CHINKING CORPUS...')\n",
    "processed_wiki_pages = P3_wiki_corpus_cleaning_chinking.driver(wiki_corpus_kw_added, unigram)\n",
    "with open('wiki_corpus_chinked.pkl', 'wb') as f:\n",
    "    pickle.dump(processed_wiki_pages, f)"
   ]
  },
  {
   "cell_type": "code",
   "execution_count": null,
   "id": "handy-anaheim",
   "metadata": {},
   "outputs": [],
   "source": [
    "print('CONVERTING CORPUS TO BIO FORMAT...')\n",
    "biogen = P4_biogen_format_conversion.driver(processed_wiki_pages)\n",
    "with open('biogen.pkl', 'wb') as f:\n",
    "    pickle.dump(processed_wiki_pages, f)"
   ]
  },
  {
   "cell_type": "code",
   "execution_count": null,
   "id": "legislative-archives",
   "metadata": {},
   "outputs": [],
   "source": [
    "print('TRAINING BERT MODEL...')\n",
    "P5_simpletransformers_bert_training_evaluation.driver(biogen)\n",
    "print('PIPELINE COMPLETE.')"
   ]
  }
 ],
 "metadata": {
  "kernelspec": {
   "display_name": "Python 3",
   "language": "python",
   "name": "python3"
  },
  "language_info": {
   "codemirror_mode": {
    "name": "ipython",
    "version": 3
   },
   "file_extension": ".py",
   "mimetype": "text/x-python",
   "name": "python",
   "nbconvert_exporter": "python",
   "pygments_lexer": "ipython3",
   "version": "3.8.5"
  }
 },
 "nbformat": 4,
 "nbformat_minor": 5
}

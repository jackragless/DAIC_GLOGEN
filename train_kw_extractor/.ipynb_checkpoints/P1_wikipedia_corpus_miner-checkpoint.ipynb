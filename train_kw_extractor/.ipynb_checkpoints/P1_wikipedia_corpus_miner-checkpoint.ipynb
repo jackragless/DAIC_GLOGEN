{
 "cells": [
  {
   "cell_type": "code",
   "execution_count": 1,
   "metadata": {},
   "outputs": [],
   "source": [
    "import wikipedia\n",
    "import pandas as pd\n",
    "import wikipediaapi\n",
    "wiki = wikipediaapi.Wikipedia('en')\n",
    "import pickle\n",
    "from bs4 import BeautifulSoup as bs"
   ]
  },
  {
   "cell_type": "code",
   "execution_count": 2,
   "metadata": {},
   "outputs": [],
   "source": [
    "def mine_page_titles(title, depth):\n",
    "    final = []\n",
    "    arr = wiki.page(title).categorymembers\n",
    "    arr = list(arr.keys())\n",
    "    if depth > 1: #recommended == 3\n",
    "        return\n",
    "    for i in arr:\n",
    "        if 'Category:' in i:\n",
    "            result = mine_page_titles(i, depth + 1)\n",
    "            if result:\n",
    "                final += result\n",
    "        else:\n",
    "            final.append(i)\n",
    "    return final"
   ]
  },
  {
   "cell_type": "code",
   "execution_count": 3,
   "metadata": {},
   "outputs": [],
   "source": [
    "def parse_kw(title, curpage):\n",
    "    try:\n",
    "        curpage = curpage.html()\n",
    "        curpage = curpage[curpage.find('<div class=\"mw-parser-output\"'):]\n",
    "        curpage = curpage[curpage.find('<p>'):curpage.find('id=\"See_also\"')]\n",
    "\n",
    "        terms = []\n",
    "\n",
    "        curpage = bs(curpage,'html.parser')\n",
    "    \n",
    "        for i in curpage.find_all('a'):\n",
    "            if i['href'].find('/wiki/')!=-1 and i.text!='':\n",
    "                terms.append(i.text.strip())\n",
    "\n",
    "        return terms\n",
    "    except:\n",
    "        return"
   ]
  },
  {
   "cell_type": "code",
   "execution_count": 4,
   "metadata": {},
   "outputs": [],
   "source": [
    "def parse_text(title, curpage):\n",
    "    try:\n",
    "        page = curpage.content\n",
    "        page = page.replace('\\n','').replace('  ',' ').replace('==',' ')\n",
    "        return page\n",
    "    except:\n",
    "        return"
   ]
  },
  {
   "cell_type": "code",
   "execution_count": 14,
   "metadata": {},
   "outputs": [],
   "source": [
    "def driver(wiki_catgory_page_title):\n",
    "\n",
    "    wiki_objs = mine_page_titles(wiki_catgory_page_title,0)\n",
    "    \n",
    "    for page in wiki_objs:\n",
    "        if page.find(':')!=-1 or page.find('List')!=-1:\n",
    "            wiki_objs.remove(page)\n",
    "    wiki_objs = list(set(wiki_objs))\n",
    "    \n",
    "    \n",
    "    FINAL_OUTPUT = []\n",
    "    count = 0\n",
    "    for title in wiki_objs[0:5]: ###to be modified!!!\n",
    "        curpage = wikipedia.page(title)\n",
    "        FINAL_OUTPUT.append({\n",
    "            'title' : title,\n",
    "            'text' : parse_text(title, curpage),\n",
    "            'kw' : parse_kw(title, curpage)\n",
    "        })\n",
    "\n",
    "        count += 1\n",
    "        print(int(count/len(wiki_objs)*100), '% <--->', str(count)+'/'+str(len(wiki_objs)),  end='\\r')\n",
    "        \n",
    "    return FINAL_OUTPUT"
   ]
  },
  {
   "cell_type": "code",
   "execution_count": 15,
   "metadata": {},
   "outputs": [
    {
     "name": "stdout",
     "output_type": "stream",
     "text": [
      "1 % <---> 5/396\r"
     ]
    }
   ],
   "source": [
    "# FINAL_OUTPUT = driver('Category:Artificial intelligence')\n",
    "# with open('orig_wiki_corpus.pkl', 'wb') as f:\n",
    "#     pickle.dump(FINAL_OUTPUT, f)"
   ]
  }
 ],
 "metadata": {
  "kernelspec": {
   "display_name": "Python 3",
   "language": "python",
   "name": "python3"
  },
  "language_info": {
   "codemirror_mode": {
    "name": "ipython",
    "version": 3
   },
   "file_extension": ".py",
   "mimetype": "text/x-python",
   "name": "python",
   "nbconvert_exporter": "python",
   "pygments_lexer": "ipython3",
   "version": "3.8.5"
  }
 },
 "nbformat": 4,
 "nbformat_minor": 4
}

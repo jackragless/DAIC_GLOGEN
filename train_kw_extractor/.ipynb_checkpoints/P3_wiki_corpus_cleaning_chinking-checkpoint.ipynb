{
 "cells": [
  {
   "cell_type": "code",
   "execution_count": null,
   "metadata": {},
   "outputs": [],
   "source": [
    "import import_ipynb\n",
    "import preprocess_utils_ai\n",
    "\n",
    "from bs4 import BeautifulSoup as bs\n",
    "import pandas as pd\n",
    "import spacy\n",
    "import en_core_web_sm\n",
    "ner_model = en_core_web_sm.load()\n",
    "import pickle\n",
    "from names_dataset import NameDataset\n",
    "name_dataset = NameDataset()\n",
    "# org_df = pd.read_csv('/home/jackragless/projects/data/DAIC_GLOGEN/companies_and_unis.csv')\n",
    "# unigram = pd.read_csv('/home/jackragless/projects/data/DAIC_GLOGEN/unigram_freq.csv')"
   ]
  },
  {
   "cell_type": "code",
   "execution_count": null,
   "metadata": {},
   "outputs": [],
   "source": [
    "def kw_in_text_check(wiki_object):\n",
    "    final = []\n",
    "    for kw in wiki_object['kw']:\n",
    "        if wiki_object['text'].lower().find(kw.lower())!=-1:\n",
    "            final.append(kw)\n",
    "            \n",
    "    wiki_object['kw'] = final\n",
    "    return wiki_object"
   ]
  },
  {
   "cell_type": "code",
   "execution_count": null,
   "metadata": {},
   "outputs": [],
   "source": [
    "def clean_text(wiki_object):\n",
    "    \n",
    "    test_str = wiki_object['text']\n",
    "    if test_str.find('Version history') != -1:\n",
    "        result = [i for i in range(len(test_str)) if test_str.startswith('Version history', i)] \n",
    "        test_str = test_str[:result[-1]]\n",
    "    elif test_str.find('See also') != -1:\n",
    "        result = [i for i in range(len(test_str)) if test_str.startswith('See also', i)] \n",
    "        test_str = test_str[:result[-1]]\n",
    "    elif test_str.find('References') != -1:\n",
    "        result = [i for i in range(len(test_str)) if test_str.startswith('References', i)] \n",
    "        test_str = test_str[:result[-1]]\n",
    "        \n",
    "        \n",
    "    clean_text = preprocess_utils_ai.clean_text(test_str,False,False,False,False,False)\n",
    "    \n",
    "    wiki_object['text'] = clean_text\n",
    "    \n",
    "    wiki_object['kw'].append(wiki_object['title'])\n",
    "    \n",
    "    return wiki_object"
   ]
  },
  {
   "cell_type": "code",
   "execution_count": null,
   "metadata": {},
   "outputs": [],
   "source": [
    "def consec_cap_detect(word_string):\n",
    "    for i in range(0,len(word_string)-1):\n",
    "        if word_string[i].isupper() and word_string[i+1].isupper():\n",
    "            return True\n",
    "    return False"
   ]
  },
  {
   "cell_type": "code",
   "execution_count": null,
   "metadata": {},
   "outputs": [],
   "source": [
    "def person_detect(candidate_string):\n",
    "    candidate_string = candidate_string.split()\n",
    "    if len(candidate_string) == 2:\n",
    "        if name_dataset.search_first_name(candidate_string[0]) == True and name_dataset.search_last_name(candidate_string[1]) == True:\n",
    "            return True\n",
    "    elif len(candidate_string) == 3:\n",
    "        if name_dataset.search_first_name(candidate_string[0]) == True and len(candidate_string[1])>=2 and candidate_string[1][0].isalpha() and candidate_string[1][1] == '.':\n",
    "            return True\n",
    "        elif name_dataset.search_first_name(candidate_string[0]) == True and name_dataset.search_first_name(candidate_string[1]) and name_dataset.search_last_name(candidate_string[2]) == True:\n",
    "            return True\n",
    "    return False"
   ]
  },
  {
   "cell_type": "code",
   "execution_count": null,
   "metadata": {},
   "outputs": [],
   "source": [
    "def common_word_detect(candidate_string, unigram): #could add stopwords\n",
    "    common_unigram = list(unigram[:10000]['word'])\n",
    "    if candidate_string.lower() in common_unigram:\n",
    "        return True\n",
    "    else:\n",
    "        return False"
   ]
  },
  {
   "cell_type": "code",
   "execution_count": null,
   "metadata": {},
   "outputs": [],
   "source": [
    "def location_name_detect(whole_text):\n",
    "    final = []\n",
    "    doc = ner_model(whole_text)\n",
    "    for ent in doc.ents:\n",
    "        if ent.label_ == 'GPE':\n",
    "            final.append(ent.text)\n",
    "    return final"
   ]
  },
  {
   "cell_type": "code",
   "execution_count": null,
   "metadata": {},
   "outputs": [],
   "source": [
    "def misc_filters(candidate_string):\n",
    "    if len(candidate_string) == 1:\n",
    "        return True\n",
    "    elif not any(c.isalpha() for c in candidate_string):\n",
    "        return True\n",
    "    return False"
   ]
  },
  {
   "cell_type": "code",
   "execution_count": null,
   "metadata": {},
   "outputs": [],
   "source": [
    "def label_keyword_array(kw_arr, text, unigram):\n",
    "    temp_dict = {}\n",
    "    for i in kw_arr:\n",
    "        if consec_cap_detect(i):\n",
    "            temp_dict[i] = 'P'\n",
    "        else:\n",
    "            temp_dict[i] = 'K'\n",
    "            \n",
    "    for j in temp_dict:\n",
    "        if (person_detect(j) or common_word_detect(j,unigram) or misc_filters(j)) and temp_dict[j]!='P':\n",
    "            temp_dict[j] = 'R'\n",
    "            \n",
    "    location_ners = location_name_detect(text)\n",
    "    for k in temp_dict:\n",
    "        if k in location_ners and temp_dict[j]!='P':\n",
    "            temp_dict[k] = 'R'\n",
    "#         elif k.lower() in org_df:\n",
    "#             temp_dict[k] = 'R'\n",
    "        elif len(k.split()) > 4:\n",
    "            temp_dict[k] = 'R'\n",
    "    \n",
    "    return temp_dict"
   ]
  },
  {
   "cell_type": "code",
   "execution_count": null,
   "metadata": {},
   "outputs": [],
   "source": [
    "def driver(corpus, unigram):\n",
    "    \n",
    "    #include only non-empty wiki objects\n",
    "    #clean text in wiki_objects\n",
    "    count = 0\n",
    "    wiki_object = []\n",
    "    for i in range(len(corpus)):\n",
    "        if corpus[i]['text'] is not None and corpus[i]['kw'] is not None and corpus[i]['title'] is not None:\n",
    "            wiki_object.append(clean_text(corpus[i]))\n",
    "        count += 1\n",
    "        print('CLEANING:', int(100*count/len(corpus)),'% <--->', str(count)+'/'+str(len(corpus)), end='\\r')\n",
    "        \n",
    "    \n",
    "    #chinking labels applied here\n",
    "    count = 0\n",
    "    for i in wiki_object:\n",
    "        i['kw'] = label_keyword_array(i['kw'], i['text'],unigram)\n",
    "        count += 1\n",
    "        print('CHINKING:', int(100*count/len(wiki_object)),'% <--->', str(count) + '/' + str(len(wiki_object)), end='\\r')\n",
    "            \n",
    "    \n",
    "    #chink labels == 'R' are removed\n",
    "    count = 0\n",
    "    FINAL_OUTPUT = []\n",
    "    for i in wiki_object:\n",
    "        temp_arr = []\n",
    "        for j in i['kw']:\n",
    "            if wiki_object[count]['kw'][j] == 'K' or wiki_object[count]['kw'][j] == 'P':\n",
    "                temp_arr.append(j)\n",
    "        temp = wiki_object[count]\n",
    "        temp['kw'] = temp_arr\n",
    "        FINAL_OUTPUT.append(temp)\n",
    "        count += 1\n",
    "#         print(str(count) + '/' + str(len(wiki_object)), end='\\r')\n",
    "        \n",
    "    return FINAL_OUTPUT"
   ]
  },
  {
   "cell_type": "code",
   "execution_count": null,
   "metadata": {},
   "outputs": [],
   "source": [
    "# with open('orig_wiki_corpus.pkl', 'rb') as f:\n",
    "#     corpus = pickle.load(f)\n",
    "\n",
    "# FINAL_OUTPUT = driver(corpus)\n",
    "\n",
    "# with open('wiki_corpus_chinked.pkl', 'wb') as f:\n",
    "#     pickle.dump(FINAL, f)"
   ]
  }
 ],
 "metadata": {
  "kernelspec": {
   "display_name": "Python 3",
   "language": "python",
   "name": "python3"
  },
  "language_info": {
   "codemirror_mode": {
    "name": "ipython",
    "version": 3
   },
   "file_extension": ".py",
   "mimetype": "text/x-python",
   "name": "python",
   "nbconvert_exporter": "python",
   "pygments_lexer": "ipython3",
   "version": "3.8.5"
  }
 },
 "nbformat": 4,
 "nbformat_minor": 4
}

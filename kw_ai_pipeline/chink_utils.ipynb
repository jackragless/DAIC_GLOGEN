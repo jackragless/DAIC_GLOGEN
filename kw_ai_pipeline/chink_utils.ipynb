{
 "cells": [
  {
   "cell_type": "code",
   "execution_count": null,
   "id": "responsible-serbia",
   "metadata": {},
   "outputs": [],
   "source": [
    "from bs4 import BeautifulSoup as bs\n",
    "import pandas as pd\n",
    "import spacy\n",
    "!python3 -m spacy download en\n",
    "import en_core_web_sm\n",
    "ner_model = en_core_web_sm.load()\n",
    "import pickle\n",
    "from names_dataset import NameDataset\n",
    "name_dataset = NameDataset()\n",
    "org_df = pd.read_csv('/home/jackragless/projects/data/DAIC_GLOGEN/companies_and_unis.csv')\n",
    "unigram = pd.read_csv('/home/jackragless/projects/data/DAIC_GLOGEN/unigram_freq.csv')"
   ]
  },
  {
   "cell_type": "code",
   "execution_count": 1,
   "id": "bound-majority",
   "metadata": {},
   "outputs": [],
   "source": [
    "def kw_in_text_check(wiki_object):\n",
    "    final = []\n",
    "    for kw in wiki_object['kw']:\n",
    "        if wiki_object['text'].lower().find(kw.lower())!=-1:\n",
    "            final.append(kw)\n",
    "            \n",
    "    wiki_object['kw'] = final\n",
    "    return wiki_object"
   ]
  },
  {
   "cell_type": "code",
   "execution_count": 2,
   "id": "reverse-advocacy",
   "metadata": {},
   "outputs": [],
   "source": [
    "def consec_cap_detect(word_string):\n",
    "    for i in range(0,len(word_string)-1):\n",
    "        if word_string[i].isupper() and word_string[i+1].isupper():\n",
    "            return True\n",
    "    return False"
   ]
  },
  {
   "cell_type": "code",
   "execution_count": 3,
   "id": "nuclear-joshua",
   "metadata": {},
   "outputs": [],
   "source": [
    "def person_detect(candidate_string):\n",
    "    candidate_string = candidate_string.split()\n",
    "    if len(candidate_string) == 2:\n",
    "        if name_dataset.search_first_name(candidate_string[0]) == True and name_dataset.search_last_name(candidate_string[1]) == True:\n",
    "            return True\n",
    "    elif len(candidate_string) == 3:\n",
    "        if name_dataset.search_first_name(candidate_string[0]) == True and len(candidate_string[1])>=2 and candidate_string[1][0].isalpha() and candidate_string[1][1] == '.':\n",
    "            return True\n",
    "        elif name_dataset.search_first_name(candidate_string[0]) == True and name_dataset.search_first_name(candidate_string[1]) and name_dataset.search_last_name(candidate_string[2]) == True:\n",
    "            return True\n",
    "    return False"
   ]
  },
  {
   "cell_type": "code",
   "execution_count": 4,
   "id": "clinical-paste",
   "metadata": {},
   "outputs": [],
   "source": [
    "def common_word_detect(candidate_string): #could add stopwords\n",
    "    common_unigram = list(unigram[:10000]['word'])\n",
    "    if candidate_string.lower() in common_unigram:\n",
    "        return True\n",
    "    else:\n",
    "        return False"
   ]
  },
  {
   "cell_type": "code",
   "execution_count": 5,
   "id": "cellular-consequence",
   "metadata": {},
   "outputs": [],
   "source": [
    "def location_name_detect(whole_text):\n",
    "    final = []\n",
    "    doc = ner_model(whole_text)\n",
    "    for ent in doc.ents:\n",
    "        if ent.label_ == 'GPE':\n",
    "            final.append(ent.text)\n",
    "    return final"
   ]
  },
  {
   "cell_type": "code",
   "execution_count": 6,
   "id": "enhanced-arthritis",
   "metadata": {},
   "outputs": [],
   "source": [
    "def misc_filters(candidate_string):\n",
    "    if len(candidate_string) == 1:\n",
    "        return True\n",
    "    elif not any(c.isalpha() for c in candidate_string):\n",
    "        return True\n",
    "    return False"
   ]
  },
  {
   "cell_type": "code",
   "execution_count": 7,
   "id": "naval-participant",
   "metadata": {},
   "outputs": [],
   "source": [
    "def label_keyword_array(kw_arr, text):\n",
    "    temp_dict = {}\n",
    "    for i in kw_arr:\n",
    "        if consec_cap_detect(i):\n",
    "            temp_dict[i] = 'P'\n",
    "        else:\n",
    "            temp_dict[i] = 'K'\n",
    "            \n",
    "    for j in temp_dict:\n",
    "        if (person_detect(j) or common_word_detect(j) or misc_filters(j)) and temp_dict[j]!='P':\n",
    "            temp_dict[j] = 'R'\n",
    "            \n",
    "    location_ners = location_name_detect(text)\n",
    "    for k in temp_dict:\n",
    "        if k in location_ners and temp_dict[j]!='P':\n",
    "            temp_dict[k] = 'R'\n",
    "        elif k.lower() in org_df:\n",
    "            temp_dict[k] = 'R'\n",
    "        elif len(k.split()) > 4:\n",
    "            temp_dict[k] = 'R'\n",
    "    \n",
    "    return temp_dict"
   ]
  },
  {
   "cell_type": "code",
   "execution_count": null,
   "id": "tough-scope",
   "metadata": {},
   "outputs": [],
   "source": []
  }
 ],
 "metadata": {
  "kernelspec": {
   "display_name": "Python 3",
   "language": "python",
   "name": "python3"
  },
  "language_info": {
   "codemirror_mode": {
    "name": "ipython",
    "version": 3
   },
   "file_extension": ".py",
   "mimetype": "text/x-python",
   "name": "python",
   "nbconvert_exporter": "python",
   "pygments_lexer": "ipython3",
   "version": "3.8.5"
  }
 },
 "nbformat": 4,
 "nbformat_minor": 5
}

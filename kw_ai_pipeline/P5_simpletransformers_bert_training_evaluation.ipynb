{
 "cells": [
  {
   "cell_type": "code",
   "execution_count": 1,
   "id": "secondary-deployment",
   "metadata": {},
   "outputs": [],
   "source": [
    "import simpletransformers\n",
    "import logging\n",
    "import pandas as pd\n",
    "import pickle\n",
    "from simpletransformers.ner import NERModel, NERArgs\n",
    "import os"
   ]
  },
  {
   "cell_type": "code",
   "execution_count": 2,
   "id": "excess-courage",
   "metadata": {},
   "outputs": [],
   "source": [
    "    model_args = {\n",
    "    'num_train_epochs': 3,\n",
    "    'train_batch_size' : 32,\n",
    "    'eval_batch_size' : 32,\n",
    "    'evaluate_during_training' : False,\n",
    "    'save_model_every_epoch' : True,\n",
    "    'save_eval_checkpoints' : False,\n",
    "    'save_steps' : -1,\n",
    "    'output_dir':'bert-model-files/outputs/',\n",
    "    'cache_dir':'bert-model-files/cache_dir',\n",
    "    'tensorboard_dir':'bert-model-files/runs'\n",
    "    }"
   ]
  },
  {
   "cell_type": "code",
   "execution_count": 3,
   "id": "killing-swiss",
   "metadata": {},
   "outputs": [],
   "source": [
    "def bert_train(corpus, train_cutoff):\n",
    "    \n",
    "    train_data = pd.DataFrame(\n",
    "    corpus[:train_cutoff], columns=[\"sentence_id\", \"words\", \"labels\"]\n",
    "    )\n",
    "    \n",
    "    logging.basicConfig(level=logging.INFO)\n",
    "    transformers_logger = logging.getLogger(\"transformers\")\n",
    "    transformers_logger.setLevel(logging.WARNING)\n",
    "    \n",
    "\n",
    "    \n",
    "    model = NERModel(\n",
    "    \"bert\", \"bert-base-cased\", labels= [\"B\", \"I\", \"O\"], use_cuda=True, args = model_args\n",
    "    )\n",
    "    \n",
    "    model.train_model(train_data)"
   ]
  },
  {
   "cell_type": "code",
   "execution_count": 4,
   "id": "mechanical-transmission",
   "metadata": {},
   "outputs": [],
   "source": [
    "def bert_eval(corpus, train_cutoff):\n",
    "    \n",
    "    eval_data = pd.DataFrame(\n",
    "    corpus[train_cutoff:], columns=[\"sentence_id\", \"words\", \"labels\"]\n",
    "    )\n",
    "    \n",
    "    base_loc = 'bert-model-files/outputs'\n",
    "    \n",
    "    model_eval_results = []\n",
    "    for foldername in os.listdir(base_loc):\n",
    "        if foldername.find('epoch')!=-1:\n",
    "            model = NERModel(\n",
    "            \"bert\", base_loc+'/'+foldername, use_cuda = True, args = model_args\n",
    "            )\n",
    "            print(base_loc+'/'+foldername)\n",
    "            model_eval_results.append([foldername,model.eval_model(eval_data)[0]])\n",
    "            pd.DataFrame(model_eval_results).to_csv('bert-model-files/model_evaluation_metrics.csv')"
   ]
  },
  {
   "cell_type": "code",
   "execution_count": 5,
   "id": "reserved-retro",
   "metadata": {},
   "outputs": [],
   "source": [
    "def driver(corpus):\n",
    "    \n",
    "    train_cutoff = int(0.8 * len(corpus))\n",
    "    \n",
    "    bert_train(corpus, train_cutoff)\n",
    "    bert_eval(corpus, train_cutoff)"
   ]
  },
  {
   "cell_type": "code",
   "execution_count": 6,
   "id": "cordless-boutique",
   "metadata": {},
   "outputs": [],
   "source": [
    "# with open('biogen_stopwords_latest_wgrammar.pkl', 'rb') as f:\n",
    "#     corpus = pickle.load(f)\n",
    "# driver(corpus)"
   ]
  }
 ],
 "metadata": {
  "kernelspec": {
   "display_name": "Python 3",
   "language": "python",
   "name": "python3"
  },
  "language_info": {
   "codemirror_mode": {
    "name": "ipython",
    "version": 3
   },
   "file_extension": ".py",
   "mimetype": "text/x-python",
   "name": "python",
   "nbconvert_exporter": "python",
   "pygments_lexer": "ipython3",
   "version": "3.8.5"
  }
 },
 "nbformat": 4,
 "nbformat_minor": 5
}

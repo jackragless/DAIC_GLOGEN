{
 "cells": [
  {
   "cell_type": "code",
   "execution_count": 1,
   "metadata": {},
   "outputs": [
    {
     "ename": "ModuleNotFoundError",
     "evalue": "No module named 'wikipedia'",
     "output_type": "error",
     "traceback": [
      "\u001b[0;31m---------------------------------------------------------------------------\u001b[0m",
      "\u001b[0;31mModuleNotFoundError\u001b[0m                       Traceback (most recent call last)",
      "\u001b[0;32m<ipython-input-1-fd2ced83e0b3>\u001b[0m in \u001b[0;36m<module>\u001b[0;34m\u001b[0m\n\u001b[0;32m----> 1\u001b[0;31m \u001b[0;32mimport\u001b[0m \u001b[0mwikipedia\u001b[0m\u001b[0;34m\u001b[0m\u001b[0;34m\u001b[0m\u001b[0m\n\u001b[0m\u001b[1;32m      2\u001b[0m \u001b[0;32mfrom\u001b[0m \u001b[0mbs4\u001b[0m \u001b[0;32mimport\u001b[0m \u001b[0mBeautifulSoup\u001b[0m \u001b[0;32mas\u001b[0m \u001b[0mbs\u001b[0m\u001b[0;34m\u001b[0m\u001b[0;34m\u001b[0m\u001b[0m\n\u001b[1;32m      3\u001b[0m \u001b[0;32mimport\u001b[0m \u001b[0mpandas\u001b[0m \u001b[0;32mas\u001b[0m \u001b[0mpd\u001b[0m\u001b[0;34m\u001b[0m\u001b[0;34m\u001b[0m\u001b[0m\n\u001b[1;32m      4\u001b[0m \u001b[0;32mimport\u001b[0m \u001b[0mwikipediaapi\u001b[0m\u001b[0;34m\u001b[0m\u001b[0;34m\u001b[0m\u001b[0m\n\u001b[1;32m      5\u001b[0m \u001b[0mwiki\u001b[0m \u001b[0;34m=\u001b[0m \u001b[0mwikipediaapi\u001b[0m\u001b[0;34m.\u001b[0m\u001b[0mWikipedia\u001b[0m\u001b[0;34m(\u001b[0m\u001b[0;34m'en'\u001b[0m\u001b[0;34m)\u001b[0m\u001b[0;34m\u001b[0m\u001b[0;34m\u001b[0m\u001b[0m\n",
      "\u001b[0;31mModuleNotFoundError\u001b[0m: No module named 'wikipedia'"
     ]
    }
   ],
   "source": [
    "import wikipedia\n",
    "from bs4 import BeautifulSoup as bs\n",
    "import pandas as pd\n",
    "import wikipediaapi\n",
    "wiki = wikipediaapi.Wikipedia('en')\n",
    "import pickle"
   ]
  },
  {
   "cell_type": "code",
   "execution_count": null,
   "metadata": {},
   "outputs": [],
   "source": [
    "input_df = pd.read_csv('wiki_titles_output.csv')\n",
    "input_df.pop('0')\n",
    "MAIN = list(input_df['Template Numerical Toolkit'])"
   ]
  },
  {
   "cell_type": "code",
   "execution_count": null,
   "metadata": {
    "scrolled": true
   },
   "outputs": [],
   "source": [
    "def parse_kw(title):\n",
    "    try:\n",
    "        curpage = wikipedia.page(title).html()\n",
    "        curpage = curpage[curpage.find('<div class=\"mw-parser-output\"'):]\n",
    "        curpage = curpage[curpage.find('<p>'):curpage.find('id=\"See_also\"')]\n",
    "\n",
    "        terms = []\n",
    "\n",
    "        curpage = bs(curpage,'html.parser')\n",
    "        for i in curpage.find_all('a'):\n",
    "            if i['href'].find('/wiki/')!=-1 and i.text!='':\n",
    "                terms.append(i.text.strip())\n",
    "\n",
    "        return terms\n",
    "    except:\n",
    "        return"
   ]
  },
  {
   "cell_type": "code",
   "execution_count": null,
   "metadata": {},
   "outputs": [],
   "source": [
    "def parse_text(title):\n",
    "    try:\n",
    "        page = wikipedia.page(title).content\n",
    "        page = page.replace('\\n','').replace('  ',' ').replace('==',' ')\n",
    "        return page\n",
    "    except:\n",
    "        return"
   ]
  },
  {
   "cell_type": "code",
   "execution_count": null,
   "metadata": {
    "scrolled": true
   },
   "outputs": [],
   "source": [
    "FINAL = []\n",
    "count = 0\n",
    "save_num = 0\n",
    "for i in MAIN[2000:]:\n",
    "    FINAL.append(\n",
    "    {\n",
    "        'title' : i,\n",
    "        'text' : parse_text(i),\n",
    "        'kw' : parse_kw(i)\n",
    "    }\n",
    "    )\n",
    "    count += 1\n",
    "    print(int(count/len(MAIN)*100), '% <--->', str(count)+'/'+str(len(MAIN)),  end='\\r')\n",
    "    \n",
    "    if(count % 1000 == 0): #each saved file contains 1000 wiki page objects\n",
    "        save_num += 1\n",
    "        with open('wiki_objects/wiki_page_objects_{}.pkl'.format(save_num), 'wb') as f:\n",
    "            pickle.dump(FINAL, f)\n",
    "        FINAL = []"
   ]
  },
  {
   "cell_type": "code",
   "execution_count": null,
   "metadata": {},
   "outputs": [],
   "source": []
  }
 ],
 "metadata": {
  "kernelspec": {
   "display_name": "Python 3",
   "language": "python",
   "name": "python3"
  },
  "language_info": {
   "codemirror_mode": {
    "name": "ipython",
    "version": 3
   },
   "file_extension": ".py",
   "mimetype": "text/x-python",
   "name": "python",
   "nbconvert_exporter": "python",
   "pygments_lexer": "ipython3",
   "version": "3.8.5"
  }
 },
 "nbformat": 4,
 "nbformat_minor": 4
}

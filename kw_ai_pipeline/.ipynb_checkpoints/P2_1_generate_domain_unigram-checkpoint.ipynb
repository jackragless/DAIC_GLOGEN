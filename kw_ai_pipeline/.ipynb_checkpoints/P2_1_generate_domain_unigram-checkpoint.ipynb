{
 "cells": [
  {
   "cell_type": "code",
   "execution_count": 34,
   "id": "unauthorized-plumbing",
   "metadata": {},
   "outputs": [],
   "source": [
    "import pickle\n",
    "import nltk\n",
    "import pandas as pd\n",
    "import import_ipynb\n",
    "import preprocess_utils_ai"
   ]
  },
  {
   "cell_type": "code",
   "execution_count": null,
   "id": "hispanic-royal",
   "metadata": {},
   "outputs": [],
   "source": [
    "def driver(corpus):\n",
    "    \n",
    "    loop_count = 0\n",
    "    clean_text_obj = []\n",
    "\n",
    "    for obj in corpus:\n",
    "        loop_count += 1\n",
    "\n",
    "        if obj['text']:\n",
    "            clean_text_obj.append(preprocess_utils_ai.clean_text(obj['text'],False,True,False,True,True))\n",
    "            \n",
    "    \n",
    "    all_words = []\n",
    "    count = 0\n",
    "    for obj in clean_text_obj:\n",
    "        count += 1\n",
    "        for sent in nltk.sent_tokenize(obj):\n",
    "            sent = sent.replace('.','')\n",
    "            all_words += nltk.word_tokenize(sent)\n",
    "            \n",
    "            \n",
    "    unigram = pd.Series(all_words).value_counts()\n",
    "    unigram_df = unigram.reset_index()\n",
    "    unigram_df.columns=['word', 'freq']\n",
    "    \n",
    "    return unigram_df\n",
    "    "
   ]
  },
  {
   "cell_type": "code",
   "execution_count": 36,
   "id": "divine-laser",
   "metadata": {},
   "outputs": [
    {
     "name": "stdout",
     "output_type": "stream",
     "text": [
      "CORPUS CLEAN PROGRESS: 53000/53000\r"
     ]
    }
   ],
   "source": [
    "# with open('orig_wiki_corpus.pkl', 'rb') as f:\n",
    "#     corpus = pickle.load(f)\n",
    "    \n",
    "# FINAL_OUTPUT = driver(corpus)\n",
    "    \n",
    "# unigram_df.to_csv('domain_specific_unigram.csv')"
   ]
  }
 ],
 "metadata": {
  "kernelspec": {
   "display_name": "Python 3",
   "language": "python",
   "name": "python3"
  },
  "language_info": {
   "codemirror_mode": {
    "name": "ipython",
    "version": 3
   },
   "file_extension": ".py",
   "mimetype": "text/x-python",
   "name": "python",
   "nbconvert_exporter": "python",
   "pygments_lexer": "ipython3",
   "version": "3.8.5"
  }
 },
 "nbformat": 4,
 "nbformat_minor": 5
}

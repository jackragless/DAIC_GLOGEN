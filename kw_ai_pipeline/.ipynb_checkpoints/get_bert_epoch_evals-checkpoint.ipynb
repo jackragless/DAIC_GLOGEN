{
 "cells": [
  {
   "cell_type": "code",
   "execution_count": 1,
   "id": "executed-mention",
   "metadata": {},
   "outputs": [],
   "source": [
    "import simpletransformers\n",
    "import logging\n",
    "import pandas as pd\n",
    "import pickle\n",
    "from simpletransformers.ner import NERModel, NERArgs\n",
    "import os"
   ]
  },
  {
   "cell_type": "code",
   "execution_count": 2,
   "id": "talented-retro",
   "metadata": {},
   "outputs": [],
   "source": [
    "    model_args = {\n",
    "    'num_train_epochs': 3,\n",
    "    'train_batch_size' : 32,\n",
    "    'eval_batch_size' : 32,\n",
    "    'evaluate_during_training' : False,\n",
    "    'save_model_every_epoch' : True,\n",
    "    'save_eval_checkpoints' : False,\n",
    "    'save_steps' : -1,\n",
    "    'output_dir':'bert-model-files/outputs/',\n",
    "    'cache_dir':'bert-model-files/cache_dir',\n",
    "    'tensorboard_dir':'bert-model-files/runs'\n",
    "    }"
   ]
  },
  {
   "cell_type": "code",
   "execution_count": 3,
   "id": "sought-benchmark",
   "metadata": {},
   "outputs": [],
   "source": [
    "def bert_eval(corpus, train_cutoff):\n",
    "    \n",
    "    eval_data = pd.DataFrame(\n",
    "    corpus[train_cutoff:], columns=[\"sentence_id\", \"words\", \"labels\"]\n",
    "    )\n",
    "    \n",
    "    base_loc = '/home/jackragless/Downloads/outputs'\n",
    "    \n",
    "    model_eval_results = []\n",
    "    for foldername in os.listdir(base_loc):\n",
    "        if foldername.find('epoch')!=-1:\n",
    "            model = NERModel(\n",
    "            \"bert\", base_loc+'/'+foldername, use_cuda = True, args = model_args\n",
    "            )\n",
    "            print(base_loc+'/'+foldername)\n",
    "            model_eval_results.append([foldername,model.eval_model(eval_data)[0]])\n",
    "    pd.DataFrame(model_eval_results).to_csv('bert-model-files/model_evaluation_metrics.csv')"
   ]
  },
  {
   "cell_type": "code",
   "execution_count": 4,
   "id": "local-disney",
   "metadata": {},
   "outputs": [
    {
     "name": "stdout",
     "output_type": "stream",
     "text": [
      "/home/jackragless/Downloads/outputs/checkpoint-420984-epoch-12\n"
     ]
    },
    {
     "data": {
      "application/vnd.jupyter.widget-view+json": {
       "model_id": "c1f5546d35da48e795d764d1c1e0f58c",
       "version_major": 2,
       "version_minor": 0
      },
      "text/plain": [
       "  0%|          | 0/13628 [00:00<?, ?it/s]"
      ]
     },
     "metadata": {},
     "output_type": "display_data"
    },
    {
     "data": {
      "application/vnd.jupyter.widget-view+json": {
       "model_id": "0c24caeda381473fb21ad70466c04f6b",
       "version_major": 2,
       "version_minor": 0
      },
      "text/plain": [
       "Running Evaluation:   0%|          | 0/426 [00:00<?, ?it/s]"
      ]
     },
     "metadata": {},
     "output_type": "display_data"
    },
    {
     "name": "stdout",
     "output_type": "stream",
     "text": [
      "/home/jackragless/Downloads/outputs/checkpoint-140328-epoch-4\n"
     ]
    },
    {
     "data": {
      "application/vnd.jupyter.widget-view+json": {
       "model_id": "623b3b67cbae405c9f74d00bcbaf11f4",
       "version_major": 2,
       "version_minor": 0
      },
      "text/plain": [
       "  0%|          | 0/13628 [00:00<?, ?it/s]"
      ]
     },
     "metadata": {},
     "output_type": "display_data"
    },
    {
     "data": {
      "application/vnd.jupyter.widget-view+json": {
       "model_id": "a64dc191829c4539adf68a8ee8bf4ebc",
       "version_major": 2,
       "version_minor": 0
      },
      "text/plain": [
       "Running Evaluation:   0%|          | 0/426 [00:00<?, ?it/s]"
      ]
     },
     "metadata": {},
     "output_type": "display_data"
    },
    {
     "name": "stdout",
     "output_type": "stream",
     "text": [
      "/home/jackragless/Downloads/outputs/checkpoint-350820-epoch-10\n"
     ]
    },
    {
     "data": {
      "application/vnd.jupyter.widget-view+json": {
       "model_id": "4c4e55eec4224554b78011f834a6c2e5",
       "version_major": 2,
       "version_minor": 0
      },
      "text/plain": [
       "  0%|          | 0/13628 [00:00<?, ?it/s]"
      ]
     },
     "metadata": {},
     "output_type": "display_data"
    },
    {
     "data": {
      "application/vnd.jupyter.widget-view+json": {
       "model_id": "cb2242f5ba894dafac088f102e01e8c3",
       "version_major": 2,
       "version_minor": 0
      },
      "text/plain": [
       "Running Evaluation:   0%|          | 0/426 [00:00<?, ?it/s]"
      ]
     },
     "metadata": {},
     "output_type": "display_data"
    },
    {
     "name": "stdout",
     "output_type": "stream",
     "text": [
      "/home/jackragless/Downloads/outputs/checkpoint-596394-epoch-17\n"
     ]
    },
    {
     "data": {
      "application/vnd.jupyter.widget-view+json": {
       "model_id": "7ec769a76f0d43f2843f3d86c43a11d7",
       "version_major": 2,
       "version_minor": 0
      },
      "text/plain": [
       "  0%|          | 0/13628 [00:00<?, ?it/s]"
      ]
     },
     "metadata": {},
     "output_type": "display_data"
    },
    {
     "data": {
      "application/vnd.jupyter.widget-view+json": {
       "model_id": "2fe132a83a404dc99f1de30e61fe8765",
       "version_major": 2,
       "version_minor": 0
      },
      "text/plain": [
       "Running Evaluation:   0%|          | 0/426 [00:00<?, ?it/s]"
      ]
     },
     "metadata": {},
     "output_type": "display_data"
    }
   ],
   "source": [
    "with open('/home/jackragless/projects/data/DAIC_GLOGEN/for_ai_training_wgrammar_xpostagsx_wcrossref.pkl', 'rb') as f:\n",
    "    corpus = pickle.load(f)\n",
    "    \n",
    "    train_cutoff = int(0.8 * len(corpus))\n",
    "    \n",
    "    bert_eval(corpus, train_cutoff)"
   ]
  }
 ],
 "metadata": {
  "kernelspec": {
   "display_name": "Python 3",
   "language": "python",
   "name": "python3"
  },
  "language_info": {
   "codemirror_mode": {
    "name": "ipython",
    "version": 3
   },
   "file_extension": ".py",
   "mimetype": "text/x-python",
   "name": "python",
   "nbconvert_exporter": "python",
   "pygments_lexer": "ipython3",
   "version": "3.8.5"
  }
 },
 "nbformat": 4,
 "nbformat_minor": 5
}

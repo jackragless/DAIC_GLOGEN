{
 "cells": [
  {
   "cell_type": "code",
   "execution_count": 1,
   "id": "hairy-sacramento",
   "metadata": {},
   "outputs": [],
   "source": [
    "import pickle\n",
    "import numpy as np\n",
    "import nltk\n",
    "import numpy\n",
    "from nltk.corpus import stopwords\n",
    "stop_words = set(stopwords.words('english'))  "
   ]
  },
  {
   "cell_type": "code",
   "execution_count": 3,
   "id": "arbitrary-fitness",
   "metadata": {},
   "outputs": [],
   "source": [
    "def para_kw_space_remove(curpage, kw_pool):\n",
    "    curstring = curpage['text']\n",
    "    for kw in kw_pool:\n",
    "        if curstring.find(kw)!=-1:\n",
    "            highlight = curstring[curstring.find(kw):curstring.find(kw)+len(kw)].replace(' ', '|/|')\n",
    "            curstring = str(curstring[:curstring.find(kw)]) + str(highlight) + str(curstring[curstring.find(kw)+len(kw):])\n",
    "    return curstring"
   ]
  },
  {
   "cell_type": "code",
   "execution_count": 4,
   "id": "eight-reception",
   "metadata": {},
   "outputs": [],
   "source": [
    "def biogen(curpage, kw_pool):\n",
    "    sents = nltk.sent_tokenize(para_kw_space_remove(curpage, kw_pool))\n",
    "    final_label_arr = []\n",
    "    for sent in sents:\n",
    "        temp_label_arr = []\n",
    "        if len(sent)<=512:\n",
    "            for phrase in nltk.word_tokenize(sent):\n",
    "                count = 0\n",
    "                if phrase.replace('|/|',' ') in kw_pool:\n",
    "                    phrase_words = phrase.replace('|/|',' ').split()\n",
    "                    for word in phrase_words:\n",
    "                        if count == 0:\n",
    "                            temp_label_arr.append('B')\n",
    "                        elif count > 0:\n",
    "                            temp_label_arr.append('I')\n",
    "                        count+=1\n",
    "                else:\n",
    "                    temp_label_arr.append('O')\n",
    "        final_label_arr.append(temp_label_arr)\n",
    "\n",
    "    final_sent_arr = []\n",
    "    for sent in sents:\n",
    "        final_sent_arr.append(nltk.word_tokenize(sent.replace('|/|',' ')))\n",
    "\n",
    "    return final_sent_arr, final_label_arr"
   ]
  },
  {
   "cell_type": "code",
   "execution_count": 5,
   "id": "special-triple",
   "metadata": {},
   "outputs": [],
   "source": [
    "def same_len(sentences, labels):\n",
    "    filt_s = []\n",
    "    filt_l = []\n",
    "    for i in range(len(sentences)):\n",
    "        if len(sentences[i]) == len(labels[i]):\n",
    "            filt_s.append(sentences[i])\n",
    "            filt_l.append(labels[i])\n",
    "    return filt_s, filt_l"
   ]
  },
  {
   "cell_type": "code",
   "execution_count": 6,
   "id": "conceptual-superior",
   "metadata": {},
   "outputs": [],
   "source": [
    "def driver(corpus):\n",
    "\n",
    "    kw_pool = []\n",
    "    for page in corpus:\n",
    "        kw_pool += page['kw']\n",
    "    kw_pool = list(set(kw_pool))\n",
    "    kw_pool = np.sort(kw_pool)\n",
    "\n",
    "    \n",
    "    labels = []\n",
    "    sentences = []\n",
    "    count = 0\n",
    "    for page in corpus:\n",
    "        count += 1\n",
    "        print(int(100*count/len(corpus)),'% <--->',str(count) + '/' + str(len(corpus)), end='\\r')\n",
    "        s, l= biogen(page, kw_pool)\n",
    "        sentences += s\n",
    "        labels += l\n",
    "    sentences, labels = same_len(sentences, labels)\n",
    "    \n",
    "    \n",
    "    FINAL_OUTPUT = []\n",
    "    sent_num = 0\n",
    "    for sent in range(len(sentences)):\n",
    "        sent_num += 1\n",
    "        for word in range(len(sentences[sent])):\n",
    "            FINAL_OUTPUT.append([sent_num,sentences[sent][word],labels[sent][word]])\n",
    "            \n",
    "            \n",
    "    return FINAL_OUTPUT"
   ]
  },
  {
   "cell_type": "code",
   "execution_count": 9,
   "id": "sapphire-luther",
   "metadata": {},
   "outputs": [],
   "source": [
    "# with open(\"wiki_corpus_chinked_wgrammar.pkl\", 'rb') as f:\n",
    "#     corpus = pickle.load(f)\n",
    "\n",
    "# FINAL_OUTPUT = driver(corpus)\n",
    "\n",
    "# fileObj = open('biogen.pkl', 'wb')\n",
    "# pickle.dump(FINAL_OUTPUT,fileObj)"
   ]
  }
 ],
 "metadata": {
  "kernelspec": {
   "display_name": "Python 3",
   "language": "python",
   "name": "python3"
  },
  "language_info": {
   "codemirror_mode": {
    "name": "ipython",
    "version": 3
   },
   "file_extension": ".py",
   "mimetype": "text/x-python",
   "name": "python",
   "nbconvert_exporter": "python",
   "pygments_lexer": "ipython3",
   "version": "3.8.5"
  }
 },
 "nbformat": 4,
 "nbformat_minor": 5
}

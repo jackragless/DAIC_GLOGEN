{
 "cells": [
  {
   "cell_type": "code",
   "execution_count": null,
   "id": "certified-witness",
   "metadata": {},
   "outputs": [],
   "source": [
    "import simpletransformers\n",
    "import logging\n",
    "import pandas as pd\n",
    "import pickle\n",
    "from simpletransformers.ner import NERModel, NERArgs\n",
    "import nltk"
   ]
  },
  {
   "cell_type": "code",
   "execution_count": null,
   "id": "fresh-glasgow",
   "metadata": {},
   "outputs": [],
   "source": [
    "with open('/home/jackragless/projects/data/DAIC_GLOGEN/for_ai_training_wgrammar_wpostags_wcrossref.pkl', 'rb') as f:\n",
    "    corpus = pickle.load(f)"
   ]
  },
  {
   "cell_type": "code",
   "execution_count": null,
   "id": "lovely-democrat",
   "metadata": {},
   "outputs": [],
   "source": [
    "train_cutoff = int(0.8 * len(corpus))\n",
    "train_data = corpus[:train_cutoff]\n",
    "eval_data = corpus[train_cutoff:]"
   ]
  },
  {
   "cell_type": "code",
   "execution_count": null,
   "id": "latin-horizon",
   "metadata": {},
   "outputs": [],
   "source": [
    "logging.basicConfig(level=logging.INFO)\n",
    "transformers_logger = logging.getLogger(\"transformers\")\n",
    "transformers_logger.setLevel(logging.WARNING)"
   ]
  },
  {
   "cell_type": "code",
   "execution_count": null,
   "id": "found-disco",
   "metadata": {},
   "outputs": [],
   "source": [
    "train_data = pd.DataFrame(\n",
    "    train_data, columns=[\"sentence_id\", \"words\", \"pos\", \"labels\"]\n",
    ")"
   ]
  },
  {
   "cell_type": "code",
   "execution_count": null,
   "id": "enormous-morris",
   "metadata": {},
   "outputs": [],
   "source": [
    "eval_data = pd.DataFrame(\n",
    "    eval_data, columns=[\"sentence_id\", \"words\", \"pos\", \"labels\"]\n",
    ")"
   ]
  },
  {
   "cell_type": "code",
   "execution_count": null,
   "id": "different-shift",
   "metadata": {},
   "outputs": [],
   "source": [
    "# model_args = NERArgs()\n",
    "# model_args.\n",
    "# model_args.evaluate_during_training = True\n",
    "model_args = {\n",
    "    'num_train_epochs': 5,\n",
    "    'train_batch_size' : 32,\n",
    "    'eval_batch_size' : 32,\n",
    "    'evaluate_during_training' : True,\n",
    "    'evaluate_during_training_steps' : -1,\n",
    "    'save_model_every_epoch' : True,\n",
    "    'save_eval_checkpoints' : False,\n",
    "    'save_steps' : -1\n",
    "}"
   ]
  },
  {
   "cell_type": "code",
   "execution_count": null,
   "id": "satellite-little",
   "metadata": {},
   "outputs": [],
   "source": [
    "model = NERModel(\n",
    "    \"bert\", \"bert-base-cased\", labels= [\"B\", \"I\", \"O\"], use_cuda=True, args = model_args\n",
    ")"
   ]
  },
  {
   "cell_type": "code",
   "execution_count": null,
   "id": "competent-entrepreneur",
   "metadata": {},
   "outputs": [],
   "source": [
    "model.train_model(train_data, eval_data=eval_data)"
   ]
  },
  {
   "cell_type": "code",
   "execution_count": null,
   "id": "photographic-strand",
   "metadata": {},
   "outputs": [],
   "source": [
    "result, model_outputs, preds_list = model.eval_model(eval_data)"
   ]
  },
  {
   "cell_type": "code",
   "execution_count": null,
   "id": "greenhouse-pierre",
   "metadata": {},
   "outputs": [],
   "source": []
  }
 ],
 "metadata": {
  "kernelspec": {
   "display_name": "Python 3",
   "language": "python",
   "name": "python3"
  },
  "language_info": {
   "codemirror_mode": {
    "name": "ipython",
    "version": 3
   },
   "file_extension": ".py",
   "mimetype": "text/x-python",
   "name": "python",
   "nbconvert_exporter": "python",
   "pygments_lexer": "ipython3",
   "version": "3.8.5"
  }
 },
 "nbformat": 4,
 "nbformat_minor": 5
}

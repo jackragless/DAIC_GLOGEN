{
 "cells": [
  {
   "cell_type": "code",
   "execution_count": 12,
   "metadata": {},
   "outputs": [],
   "source": [
    "from wiktionaryparser import WiktionaryParser"
   ]
  },
  {
   "cell_type": "code",
   "execution_count": 13,
   "metadata": {},
   "outputs": [],
   "source": [
    "def definition_general_prepend(definition):\n",
    "    if definition[0]!='(':\n",
    "        definition = '(general) ' + definition\n",
    "    return definition"
   ]
  },
  {
   "cell_type": "code",
   "execution_count": 14,
   "metadata": {
    "scrolled": false
   },
   "outputs": [],
   "source": [
    "parser = WiktionaryParser()\n",
    "def extract(kw):\n",
    "    extract = parser.fetch(kw,'english')\n",
    "    temp_def = {}\n",
    "    for i in extract[0]['definitions']:\n",
    "        temp_pos = []\n",
    "        for j in i['text'][1:]:\n",
    "            if not (j[0]=='(' and j[-1]==')'):\n",
    "                temp_pos.append(definition_general_prepend(j))\n",
    "        temp_def[i['partOfSpeech']] = temp_pos\n",
    "    return temp_def"
   ]
  }
 ],
 "metadata": {
  "kernelspec": {
   "display_name": "Python 3",
   "language": "python",
   "name": "python3"
  },
  "language_info": {
   "codemirror_mode": {
    "name": "ipython",
    "version": 3
   },
   "file_extension": ".py",
   "mimetype": "text/x-python",
   "name": "python",
   "nbconvert_exporter": "python",
   "pygments_lexer": "ipython3",
   "version": "3.6.10"
  }
 },
 "nbformat": 4,
 "nbformat_minor": 4
}

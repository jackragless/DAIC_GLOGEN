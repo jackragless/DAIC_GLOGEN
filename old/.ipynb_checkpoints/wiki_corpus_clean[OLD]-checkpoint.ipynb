{
 "cells": [
  {
   "cell_type": "code",
   "execution_count": 36,
   "metadata": {},
   "outputs": [],
   "source": [
    "import pickle\n",
    "from nltk.tokenize import sent_tokenize, word_tokenize\n",
    "import nltk\n",
    "from nltk.corpus import stopwords"
   ]
  },
  {
   "cell_type": "code",
   "execution_count": 37,
   "metadata": {},
   "outputs": [],
   "source": [
    "with open('/home/mrladidadi/projects/local/DAIC_glossary_generator/big_data/wiki_master_dataframe.pkl', 'rb') as f:\n",
    "    corpus = pickle.load(f)"
   ]
  },
  {
   "cell_type": "code",
   "execution_count": 38,
   "metadata": {},
   "outputs": [],
   "source": [
    "count = 0\n",
    "for i in corpus:\n",
    "    temp_arr = []\n",
    "    for j in i['kw']:\n",
    "        if i['kw'][j] == 'P' or i['kw'][j] == 'K':\n",
    "            temp_arr.append(j)\n",
    "    corpus[count]['kw'] = temp_arr\n",
    "    count += 1"
   ]
  },
  {
   "cell_type": "code",
   "execution_count": 39,
   "metadata": {},
   "outputs": [],
   "source": [
    "def consec_alpha(candidate_string):\n",
    "    for i in range(0,len(candidate_string)-1):\n",
    "        if candidate_string[i].isalpha() and candidate_string[i+1].isalpha():\n",
    "            return True\n",
    "    return False"
   ]
  },
  {
   "cell_type": "code",
   "execution_count": 40,
   "metadata": {},
   "outputs": [],
   "source": [
    "def remove_equa(curpage):\n",
    "    final = ''\n",
    "    for i in sent_tokenize(curpage):\n",
    "        if consec_alpha(i)==True and i.find('displaystyle')==-1:\n",
    "            final += i + ' '\n",
    "    return final"
   ]
  },
  {
   "cell_type": "code",
   "execution_count": 68,
   "metadata": {},
   "outputs": [],
   "source": []
  },
  {
   "cell_type": "code",
   "execution_count": 69,
   "metadata": {},
   "outputs": [],
   "source": [
    "def custom_clean(curpage, stopword_bool):\n",
    "    curpage = remove_equa(curpage)\n",
    "    curpage = curpage.replace('\"','').replace(\"'\",\"\").replace('(','').replace(')','').replace(',','').replace('=','').strip()\n",
    "    if stopword_bool == True:\n",
    "        curpage = stopword_remove(curpage)\n",
    "    return curpage"
   ]
  },
  {
   "cell_type": "code",
   "execution_count": 71,
   "metadata": {
    "scrolled": false
   },
   "outputs": [
    {
     "name": "stdout",
     "output_type": "stream",
     "text": [
      "44852\r"
     ]
    }
   ],
   "source": [
    "for i in range(len(corpus)):\n",
    "    print(i,end='\\r')\n",
    "    corpus[i]['text'] = custom_clean(corpus[i]['text'], True)\n",
    "    temp_kw_arr = []\n",
    "    for j in corpus[i]['kw']:\n",
    "        if corpus[i]['text'].find(j)!=-1:\n",
    "            temp_kw_arr.append(j)\n",
    "    corpus[i]['kw'] = temp_kw_arr"
   ]
  },
  {
   "cell_type": "code",
   "execution_count": 77,
   "metadata": {},
   "outputs": [],
   "source": [
    " with open('/home/mrladidadi/projects/local/DAIC_glossary_generator/big_data/wiki_master_dataframe_cleaned_stopwordrem.pkl', 'wb') as f:\n",
    "    pickle.dump(corpus, f)"
   ]
  },
  {
   "cell_type": "code",
   "execution_count": null,
   "metadata": {},
   "outputs": [],
   "source": []
  }
 ],
 "metadata": {
  "kernelspec": {
   "display_name": "Python 3",
   "language": "python",
   "name": "python3"
  },
  "language_info": {
   "codemirror_mode": {
    "name": "ipython",
    "version": 3
   },
   "file_extension": ".py",
   "mimetype": "text/x-python",
   "name": "python",
   "nbconvert_exporter": "python",
   "pygments_lexer": "ipython3",
   "version": "3.8.5"
  }
 },
 "nbformat": 4,
 "nbformat_minor": 4
}

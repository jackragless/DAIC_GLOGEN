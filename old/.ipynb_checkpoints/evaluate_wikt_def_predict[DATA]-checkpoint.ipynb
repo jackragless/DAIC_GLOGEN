{
 "cells": [
  {
   "cell_type": "code",
   "execution_count": null,
   "id": "earlier-deadline",
   "metadata": {},
   "outputs": [],
   "source": [
    "# sentence sematic predict only = 76% accuracy\n",
    "# title to domain word embeddings = 38% accuracy\n",
    "# example semantic predict = 42% accuracy\n",
    "# sentence semantic + example predict = 78% accuracy\n",
    "# sentence semantic + domain to title predict = 78% accuracy\n",
    "# semantic predict + composite = 76% accuracy\n",
    "# semantic predict + choose method = 80% accuracy"
   ]
  },
  {
   "cell_type": "code",
   "execution_count": null,
   "id": "raising-deficit",
   "metadata": {},
   "outputs": [],
   "source": [
    "import pandas\n",
    "import wikipedia\n",
    "import import_ipynb\n",
    "import wikt_def_predict"
   ]
  },
  {
   "cell_type": "code",
   "execution_count": null,
   "id": "alternate-plaintiff",
   "metadata": {},
   "outputs": [],
   "source": [
    "eval_data = pd.read_csv('def_predict_eval_data.csv')\n",
    "for i in range(eval_data.shape[0]):\n",
    "    if type(eval_data['def1'][i])==str and eval_data['def1'][i][0]!='(':\n",
    "        eval_data['def1'][i] = '(general) ' + eval_data['def1'][i]\n",
    "    if type(eval_data['def2'][i])==str and eval_data['def2'][i][0]!='(':\n",
    "        eval_data['def2'][i] = '(general) ' + eval_data['def2'][i]"
   ]
  },
  {
   "cell_type": "code",
   "execution_count": null,
   "id": "welsh-exhibit",
   "metadata": {},
   "outputs": [],
   "source": [
    "def evaluate_prediction(eval_data):\n",
    "    correct_count = 0\n",
    "    for i in range(eval_data.shape[0]):\n",
    "        curtext = wikipedia.page(eval_data['wiki'][i], auto_suggest=False).content\n",
    "        temp_pred = wikt_def_predict.driver(eval_data['wiki'][i], curtext, eval_data['kw'][i], eval_data['pos'][i])\n",
    "        if temp_pred == str(eval_data['def1'][i]).strip() or temp_pred == str(eval_data['def2'][i]).strip():\n",
    "            print(eval_data['kw'][i],'---',eval_data['wiki'][i],'TRUE','\\n',temp_pred, '\\n', eval_data['def1'][i], '\\n', eval_data['def2'][i],'\\n')\n",
    "            correct_count += 1\n",
    "        else:\n",
    "              print(eval_data['kw'][i],'---',eval_data['wiki'][i],'FALSE','\\n',temp_pred, '\\n', eval_data['def1'][i], '\\n', eval_data['def2'][i],'\\n')\n",
    "    return int(100*correct_count/eval_data.shape[0])"
   ]
  },
  {
   "cell_type": "code",
   "execution_count": null,
   "id": "blond-automation",
   "metadata": {},
   "outputs": [],
   "source": [
    "evaluate_prediction(eval_data)"
   ]
  }
 ],
 "metadata": {
  "kernelspec": {
   "display_name": "Python 3",
   "language": "python",
   "name": "python3"
  },
  "language_info": {
   "codemirror_mode": {
    "name": "ipython",
    "version": 3
   },
   "file_extension": ".py",
   "mimetype": "text/x-python",
   "name": "python",
   "nbconvert_exporter": "python",
   "pygments_lexer": "ipython3",
   "version": "3.8.5"
  }
 },
 "nbformat": 4,
 "nbformat_minor": 5
}

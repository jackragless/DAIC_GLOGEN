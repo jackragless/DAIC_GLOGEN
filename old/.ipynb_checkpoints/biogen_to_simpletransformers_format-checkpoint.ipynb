{
 "cells": [
  {
   "cell_type": "code",
   "execution_count": 3,
   "id": "abroad-kazakhstan",
   "metadata": {},
   "outputs": [],
   "source": [
    "import pickle\n",
    "from nltk import pos_tag"
   ]
  },
  {
   "cell_type": "code",
   "execution_count": 4,
   "id": "informal-weekly",
   "metadata": {},
   "outputs": [],
   "source": [
    "with open('/home/jackragless/Desktop/biogen_stopwords_latest_wgrammar.pkl', 'rb') as f:\n",
    "    input_df = pickle.load(f)"
   ]
  },
  {
   "cell_type": "code",
   "execution_count": 8,
   "id": "cardiac-contribution",
   "metadata": {},
   "outputs": [
    {
     "name": "stdout",
     "output_type": "stream",
     "text": [
      "1402309 / 1402310402310 / 1402310 / 1402310 / 1402310 / 1402310 / 1402310 / 1402310 1402310 / 1402310 14023101402310 140231014023101402310 1402310 / 1402310 / 1402310 / 1402310 / 1402310 / 1402310 1402310 / 1402310 1402310 / 1402310 / 14023101402310 / 1402310 / 14023101402310 / 1402310 / 1402310 1402310 / 1402310 1402310 / 1402310 / 1402310 / 14023101402310 / 1402310 / 1402310 / 1402310 / 1402310/ 1402310/ 1402310 / 1402310 / 140231014023101402310 / 1402310 / 1402310 / 1402310 1402310 / 1402310 / 1402310 / 1402310 / 1402310 / 1402310 / 1402310 / 1402310 1402310 / 1402310 / 1402310 / 14023101402310 1402310 / 1402310 / 1402310 / 1402310 / 1402310 / 1402310 / 1402310 / 1402310 / 1402310 1402310 / 1402310 / 1402310 1402310 / 1402310 / 1402310 / 1402310 1402310 / 1402310/ 1402310 / 1402310 / 1402310 / 14023101402310 1402310\r"
     ]
    }
   ],
   "source": [
    "df_data = []\n",
    "count = 0\n",
    "for i in range(len(input_df[0])):\n",
    "    count += 1\n",
    "    print(i,'/',len(input_df[0]), end='\\r')\n",
    "    temp_pos = pos_tag(input_df[0][i])\n",
    "    for j in range(len(input_df[0][i])):\n",
    "        df_data.append([i,input_df[0][i][j],temp_pos[j][1],input_df[1][i][j]])"
   ]
  },
  {
   "cell_type": "code",
   "execution_count": 11,
   "id": "sonic-jenny",
   "metadata": {},
   "outputs": [],
   "source": [
    "with open('/home/jackragless/projects/data/DAIC_GLOGEN/for_ai_training_wgrammar_wpostags.pkl', 'wb') as f:\n",
    "    pickle.dump(df_data, f)"
   ]
  }
 ],
 "metadata": {
  "kernelspec": {
   "display_name": "Python 3",
   "language": "python",
   "name": "python3"
  }
 },
 "nbformat": 4,
 "nbformat_minor": 5
}

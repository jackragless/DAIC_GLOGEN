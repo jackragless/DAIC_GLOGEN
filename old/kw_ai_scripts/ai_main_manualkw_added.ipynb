{
 "cells": [
  {
   "cell_type": "code",
   "execution_count": 1,
   "id": "sophisticated-vinyl",
   "metadata": {},
   "outputs": [
    {
     "name": "stdout",
     "output_type": "stream",
     "text": [
      "importing Jupyter notebook from P1_wikipedia_corpus_miner.ipynb\n",
      "importing Jupyter notebook from P2_wiki_corpus_cleaning_chinking.ipynb\n",
      "importing Jupyter notebook from preprocess_utils_ai.ipynb\n"
     ]
    },
    {
     "name": "stderr",
     "output_type": "stream",
     "text": [
      "[nltk_data] Downloading package wordnet to\n",
      "[nltk_data]     /home/jackragless/nltk_data...\n",
      "[nltk_data]   Package wordnet is already up-to-date!\n"
     ]
    },
    {
     "name": "stdout",
     "output_type": "stream",
     "text": [
      "importing Jupyter notebook from P2_1_generate_domain_unigram.ipynb\n",
      "importing Jupyter notebook from P3_biogen_format_conversion.ipynb\n",
      "importing Jupyter notebook from P4_simpletransformers_bert_training_evaluation.ipynb\n",
      "importing Jupyter notebook from tf_idf_experimental.ipynb\n",
      "importing Jupyter notebook from ai_parse_utils.ipynb\n"
     ]
    },
    {
     "name": "stderr",
     "output_type": "stream",
     "text": [
      "[nltk_data] Downloading package punkt to\n",
      "[nltk_data]     /home/jackragless/nltk_data...\n",
      "[nltk_data]   Package punkt is already up-to-date!\n",
      "[nltk_data] Downloading package benepar_en3 to\n",
      "[nltk_data]     /home/jackragless/nltk_data...\n",
      "[nltk_data]   Package benepar_en3 is already up-to-date!\n"
     ]
    }
   ],
   "source": [
    "import import_ipynb\n",
    "import P1_wikipedia_corpus_miner \n",
    "import P2_wiki_corpus_cleaning_chinking\n",
    "import P2_1_generate_domain_unigram\n",
    "import P3_biogen_format_conversion \n",
    "import P4_simpletransformers_bert_training_evaluation\n",
    "import tf_idf_experimental\n",
    "import pickle\n",
    "import pandas as pd"
   ]
  },
  {
   "cell_type": "code",
   "execution_count": 2,
   "id": "divine-carter",
   "metadata": {},
   "outputs": [],
   "source": [
    "# print('MINING CORPUS...')\n",
    "# wiki_corpus = P1_wikipedia_corpus_miner.driver('Category:Artificial intelligence')\n",
    "# with open('orig_wiki_corpus.pkl', 'wb') as f:\n",
    "#     pickle.dump(wiki_corpus, f)"
   ]
  },
  {
   "cell_type": "code",
   "execution_count": 3,
   "id": "grave-major",
   "metadata": {},
   "outputs": [],
   "source": [
    "# print('GENERATING UNIGRAM...')\n",
    "# unigram = P2_1_generate_domain_unigram.driver(wiki_corpus)\n",
    "# unigram.to_csv('domain_specific_unigram.csv')"
   ]
  },
  {
   "cell_type": "code",
   "execution_count": 4,
   "id": "lasting-vitamin",
   "metadata": {},
   "outputs": [],
   "source": [
    "with open('/home/jackragless/projects/data/DAIC_GLOGEN/wiki_orig_mined_dataframe.pkl', 'rb') as f:\n",
    "    corpus = pickle.load(f)[0:200]"
   ]
  },
  {
   "cell_type": "code",
   "execution_count": 5,
   "id": "professional-honey",
   "metadata": {
    "scrolled": false
   },
   "outputs": [
    {
     "name": "stdout",
     "output_type": "stream",
     "text": [
      "MANUALLY ADDING KEYWORDS...\n",
      "36 / 196\r"
     ]
    },
    {
     "name": "stderr",
     "output_type": "stream",
     "text": [
      "Token indices sequence length is longer than the specified maximum sequence length for this model (695 > 512). Running this sequence through the model will result in indexing errors\n"
     ]
    },
    {
     "name": "stdout",
     "output_type": "stream",
     "text": [
      "170 / 170\r"
     ]
    }
   ],
   "source": [
    "print('MANUALLY ADDING KEYWORDS...')\n",
    "corpus = tf_idf_experimental.driver(corpus)\n",
    "with open('wiki_corpus_addedkw.pkl', 'wb') as f:\n",
    "    pickle.dump(corpus, f)"
   ]
  },
  {
   "cell_type": "code",
   "execution_count": 6,
   "id": "veterinary-question",
   "metadata": {},
   "outputs": [
    {
     "name": "stdout",
     "output_type": "stream",
     "text": [
      "GENERATING UNIGRAM...\n"
     ]
    }
   ],
   "source": [
    "print('GENERATING UNIGRAM...')\n",
    "unigram = P2_1_generate_domain_unigram.driver(corpus)\n",
    "unigram.to_csv('domain_specific_unigram.csv')"
   ]
  },
  {
   "cell_type": "code",
   "execution_count": 7,
   "id": "established-caution",
   "metadata": {},
   "outputs": [
    {
     "name": "stdout",
     "output_type": "stream",
     "text": [
      "CHINKING CORPUS...\n",
      "CHINKING: 100 % <---> 167/167\r"
     ]
    }
   ],
   "source": [
    "print('CHINKING CORPUS...')\n",
    "processed_wiki_pages = P2_wiki_corpus_cleaning_chinking.driver(corpus, unigram)\n",
    "with open('wiki_corpus_chinked.pkl', 'wb') as f:\n",
    "    pickle.dump(processed_wiki_pages, f)"
   ]
  },
  {
   "cell_type": "code",
   "execution_count": 8,
   "id": "logical-belgium",
   "metadata": {},
   "outputs": [
    {
     "name": "stdout",
     "output_type": "stream",
     "text": [
      "CONVERTING CORPUS TO BIO FORMAT...\n",
      "100 % <---> 167/167% <---> 130/167\r"
     ]
    }
   ],
   "source": [
    "print('CONVERTING CORPUS TO BIO FORMAT...')\n",
    "biogen = P3_biogen_format_conversion.driver(processed_wiki_pages)\n",
    "with open('biogen.pkl', 'wb') as f:\n",
    "    pickle.dump(processed_wiki_pages, f)"
   ]
  },
  {
   "cell_type": "code",
   "execution_count": 9,
   "id": "sustainable-throat",
   "metadata": {},
   "outputs": [],
   "source": [
    "# print('TRAINING BERT MODEL...')\n",
    "# P4_simpletransformers_bert_training_evaluation.driver(biogen)\n",
    "# print('PIPELINE COMPLETE.')"
   ]
  }
 ],
 "metadata": {
  "kernelspec": {
   "display_name": "Python 3",
   "language": "python",
   "name": "python3"
  },
  "language_info": {
   "codemirror_mode": {
    "name": "ipython",
    "version": 3
   },
   "file_extension": ".py",
   "mimetype": "text/x-python",
   "name": "python",
   "nbconvert_exporter": "python",
   "pygments_lexer": "ipython3",
   "version": "3.8.5"
  }
 },
 "nbformat": 4,
 "nbformat_minor": 5
}

{
 "cells": [
  {
   "cell_type": "code",
   "execution_count": 27,
   "metadata": {},
   "outputs": [
    {
     "name": "stderr",
     "output_type": "stream",
     "text": [
      "[nltk_data] Downloading package stopwords to\n",
      "[nltk_data]     /home/jackragless/nltk_data...\n",
      "[nltk_data]   Package stopwords is already up-to-date!\n"
     ]
    }
   ],
   "source": [
    "from wiktionaryparser import WiktionaryParser\n",
    "import requests\n",
    "from bs4 import BeautifulSoup as bs\n",
    "import nltk\n",
    "from nltk.corpus import stopwords\n",
    "nltk.download('stopwords')\n",
    "stop_words = set(stopwords.words('english'))  \n",
    "import pandas as pd\n",
    "df = pd.read_csv('/home/jackragless/projects/local/DAIC_glossary_generator/big_data/unigram_freq.csv')\n",
    "df = list(df['word'])"
   ]
  },
  {
   "cell_type": "code",
   "execution_count": 28,
   "metadata": {
    "scrolled": false
   },
   "outputs": [],
   "source": [
    "parser = WiktionaryParser()\n",
    "def wikt_extract(kw):\n",
    "    extract = parser.fetch(kw,'english')\n",
    "    temp_def = {}\n",
    "    for i in extract[0]['definitions']:\n",
    "        temp_pos = []\n",
    "        for j in i['text'][1:]:\n",
    "            if not (j[0]=='(' and j[-1]==')'):\n",
    "                temp_pos.append(j)\n",
    "        temp_def[i['partOfSpeech']] = temp_pos\n",
    "    return {kw:temp_def}"
   ]
  },
  {
   "cell_type": "code",
   "execution_count": 29,
   "metadata": {},
   "outputs": [],
   "source": [
    "def get_domains(term):\n",
    "    final = []\n",
    "    for pos in list(wikt_extract(term)[term].keys()):\n",
    "        for sent in wikt_extract(term)[term][pos]:\n",
    "            if sent[0] == '(' and sent.find(')') != -1:\n",
    "                domain = sent[:sent.find(')')].replace('(','').replace(')','')\n",
    "                domain = domain.split(', ')\n",
    "                final += domain\n",
    "    return final"
   ]
  },
  {
   "cell_type": "code",
   "execution_count": 31,
   "metadata": {},
   "outputs": [
    {
     "name": "stdout",
     "output_type": "stream",
     "text": [
      "20\r"
     ]
    }
   ],
   "source": [
    "FINAL = []\n",
    "FAILED = []\n",
    "count = 0\n",
    "for word in df[10000:12000]:\n",
    "    count += 1\n",
    "    if word not in stop_words:\n",
    "        try:\n",
    "            FINAL += get_domains(word)\n",
    "        except: \n",
    "            FAILED.append(word)\n",
    "        print(count, end='\\r')"
   ]
  },
  {
   "cell_type": "code",
   "execution_count": 43,
   "metadata": {},
   "outputs": [],
   "source": [
    "result = pd.Series(FINAL).value_counts().index.tolist()\n",
    "result_freq = list(pd.Series(FINAL).value_counts())"
   ]
  },
  {
   "cell_type": "code",
   "execution_count": 48,
   "metadata": {},
   "outputs": [],
   "source": [
    "data = {'result':pd.Series(FINAL).value_counts().index.tolist(), 'freq':list(pd.Series(FINAL).value_counts())}"
   ]
  },
  {
   "cell_type": "code",
   "execution_count": 50,
   "metadata": {},
   "outputs": [],
   "source": [
    "pd.DataFrame(data).to_csv('wikt_domain_list.csv')"
   ]
  },
  {
   "cell_type": "code",
   "execution_count": null,
   "metadata": {},
   "outputs": [],
   "source": []
  }
 ],
 "metadata": {
  "kernelspec": {
   "display_name": "Python 3",
   "language": "python",
   "name": "python3"
  },
  "language_info": {
   "codemirror_mode": {
    "name": "ipython",
    "version": 3
   },
   "file_extension": ".py",
   "mimetype": "text/x-python",
   "name": "python",
   "nbconvert_exporter": "python",
   "pygments_lexer": "ipython3",
   "version": "3.6.10"
  }
 },
 "nbformat": 4,
 "nbformat_minor": 4
}

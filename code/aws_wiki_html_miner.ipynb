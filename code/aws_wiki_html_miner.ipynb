{
 "cells": [
  {
   "cell_type": "code",
   "execution_count": 1,
   "metadata": {},
   "outputs": [],
   "source": [
    "import wikipedia\n",
    "from bs4 import BeautifulSoup as bs\n",
    "import pandas as pd\n",
    "import wikipediaapi\n",
    "wiki = wikipediaapi.Wikipedia('en')\n",
    "import pickle"
   ]
  },
  {
   "cell_type": "code",
   "execution_count": null,
   "metadata": {},
   "outputs": [],
   "source": [
    "input_df = pd.read_csv('wiki_titles_output.csv')\n",
    "input_df.pop('0')\n",
    "MAIN = list(input_df['Template Numerical Toolkit'])"
   ]
  },
  {
   "cell_type": "code",
   "execution_count": null,
   "metadata": {
    "scrolled": true
   },
   "outputs": [],
   "source": [
    "def parse_kw(title):\n",
    "    try:\n",
    "        curpage = wikipedia.page(title).html()\n",
    "        curpage = curpage[curpage.find('<div class=\"mw-parser-output\"'):]\n",
    "        curpage = curpage[curpage.find('<p>'):curpage.find('id=\"See_also\"')]\n",
    "\n",
    "        terms = []\n",
    "\n",
    "        curpage = bs(curpage,'html.parser')\n",
    "        for i in curpage.find_all('a'):\n",
    "            if i['href'].find('/wiki/')!=-1 and i.text!='':\n",
    "                terms.append(i.text.strip())\n",
    "\n",
    "        return terms\n",
    "    except:\n",
    "        return"
   ]
  },
  {
   "cell_type": "code",
   "execution_count": null,
   "metadata": {},
   "outputs": [],
   "source": [
    "def parse_text(title):\n",
    "    try:\n",
    "        page = wikipedia.page(title).content\n",
    "        page = page.replace('\\n','').replace('  ',' ').replace('==',' ')\n",
    "        return page\n",
    "    except:\n",
    "        return"
   ]
  },
  {
   "cell_type": "code",
   "execution_count": null,
   "metadata": {
    "scrolled": true
   },
   "outputs": [],
   "source": [
    "FINAL = []\n",
    "count = 0\n",
    "save_num = 0\n",
    "for i in MAIN[2000:]:\n",
    "    FINAL.append(\n",
    "    {\n",
    "        'title' : i,\n",
    "        'text' : parse_text(i),\n",
    "        'kw' : parse_kw(i)\n",
    "    }\n",
    "    )\n",
    "    count += 1\n",
    "    print(int(count/len(MAIN)*100), '% <--->', str(count)+'/'+str(len(MAIN)),  end='\\r')\n",
    "    \n",
    "    if(count % 1000 == 0): #each saved file contains 1000 wiki page objects\n",
    "        save_num += 1\n",
    "        with open('wiki_objects/wiki_page_objects_{}.pkl'.format(save_num), 'wb') as f:\n",
    "            pickle.dump(FINAL, f)\n",
    "        FINAL = []"
   ]
  },
  {
   "cell_type": "code",
   "execution_count": null,
   "metadata": {},
   "outputs": [],
   "source": []
  }
 ],
 "metadata": {
  "kernelspec": {
   "display_name": "Python 3",
   "language": "python",
   "name": "python3"
  },
  "language_info": {
   "codemirror_mode": {
    "name": "ipython",
    "version": 3
   },
   "file_extension": ".py",
   "mimetype": "text/x-python",
   "name": "python",
   "nbconvert_exporter": "python",
   "pygments_lexer": "ipython3",
   "version": "3.8.5"
  }
 },
 "nbformat": 4,
 "nbformat_minor": 4
}

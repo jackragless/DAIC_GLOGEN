{
 "cells": [
  {
   "cell_type": "code",
   "execution_count": null,
   "id": "lined-absolute",
   "metadata": {},
   "outputs": [],
   "source": [
    "# kw_chink_utils module applies manual conditions to chink undesired outputs from BERT predict"
   ]
  },
  {
   "cell_type": "code",
   "execution_count": 4,
   "id": "monetary-tenant",
   "metadata": {},
   "outputs": [],
   "source": [
    "from names_dataset import NameDataset\n",
    "name_dataset = NameDataset()\n",
    "import pandas as pd\n",
    "# can choose to apply the general Google unigram or a domain specific one\n",
    "# unigram = pd.read_csv('/home/jackragless/projects/data/DAIC_GLOGEN/domain_specific_unigram.csv')\n",
    "unigram = pd.read_csv('/home/jackragless/projects/data/DAIC_GLOGEN/unigram_freq.csv')\n",
    "from nltk.stem import WordNetLemmatizer \n",
    "lemmatizer = WordNetLemmatizer()"
   ]
  },
  {
   "cell_type": "code",
   "execution_count": 42,
   "id": "prompt-norman",
   "metadata": {},
   "outputs": [],
   "source": [
    "# iterates through keyword array and applies functions below\n",
    "def keywords(kw_arr):\n",
    "    kw_arr_final = kw_arr\n",
    "    for kw in kw_arr_final:\n",
    "        if common_word_detect(kw[0]) == True:\n",
    "            kw_arr_final.remove(kw)\n",
    "    return kw_arr_final"
   ]
  },
  {
   "cell_type": "code",
   "execution_count": 43,
   "id": "acoustic-france",
   "metadata": {},
   "outputs": [],
   "source": [
    "# returns True if keyword is a person's name\n",
    "def person_detect(candidate_string):\n",
    "    candidate_string = candidate_string.split()\n",
    "    if len(candidate_string) == 2:\n",
    "        if name_dataset.search_first_name(candidate_string[0]) == True and name_dataset.search_last_name(candidate_string[1]) == True:\n",
    "            return True\n",
    "    elif len(candidate_string) == 3:\n",
    "        if name_dataset.search_first_name(candidate_string[0]) == True and len(candidate_string[1])>=2 and candidate_string[1][0].isalpha() and candidate_string[1][1] == '.':\n",
    "            return True\n",
    "        elif name_dataset.search_first_name(candidate_string[0]) == True and name_dataset.search_first_name(candidate_string[1]) and name_dataset.search_last_name(candidate_string[2]) == True:\n",
    "            return True\n",
    "    return False"
   ]
  },
  {
   "cell_type": "code",
   "execution_count": 44,
   "id": "authentic-stockholm",
   "metadata": {},
   "outputs": [],
   "source": [
    "# returns True if keyword found among high frequency unigram terms\n",
    "common_unigram = list(unigram[:10000]['word']) #arbitrary cutoff to select most common terms\n",
    "\n",
    "def common_word_detect(candidate_string):\n",
    "    if candidate_string != candidate_string.upper() and lemmatizer.lemmatize(candidate_string.lower()) in common_unigram:\n",
    "        return True\n",
    "    else:\n",
    "        return False"
   ]
  }
 ],
 "metadata": {
  "kernelspec": {
   "display_name": "Python 3",
   "language": "python",
   "name": "python3"
  },
  "language_info": {
   "codemirror_mode": {
    "name": "ipython",
    "version": 3
   },
   "file_extension": ".py",
   "mimetype": "text/x-python",
   "name": "python",
   "nbconvert_exporter": "python",
   "pygments_lexer": "ipython3",
   "version": "3.8.5"
  }
 },
 "nbformat": 4,
 "nbformat_minor": 5
}

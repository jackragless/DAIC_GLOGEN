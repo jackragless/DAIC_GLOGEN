{
 "cells": [
  {
   "cell_type": "code",
   "execution_count": null,
   "id": "national-texas",
   "metadata": {},
   "outputs": [],
   "source": [
    "#delete this --- not needed in final version\n",
    "import wikipedia\n",
    "from bs4 import BeautifulSoup as bs\n",
    "def parse(title):\n",
    "    try:\n",
    "        curpage = wikipedia.page(title).html()\n",
    "        curpage = curpage[curpage.find('<div class=\"mw-parser-output\"'):]\n",
    "        curpage = curpage[curpage.find('<p>'):curpage.find('id=\"See_also\"')]\n",
    "\n",
    "        terms = []\n",
    "\n",
    "        curpage = bs(curpage,'html.parser')\n",
    "        for i in curpage.find_all('a'):\n",
    "            if i['href'].find('/wiki/')!=-1 and i.text!='':\n",
    "                terms.append(i.text.strip())\n",
    "\n",
    "        return set(terms)\n",
    "    except:\n",
    "        print('FAIL')"
   ]
  }
 ],
 "metadata": {
  "kernelspec": {
   "display_name": "Python 3",
   "language": "python",
   "name": "python3"
  },
  "language_info": {
   "codemirror_mode": {
    "name": "ipython",
    "version": 3
   },
   "file_extension": ".py",
   "mimetype": "text/x-python",
   "name": "python",
   "nbconvert_exporter": "python",
   "pygments_lexer": "ipython3",
   "version": "3.8.5"
  }
 },
 "nbformat": 4,
 "nbformat_minor": 5
}

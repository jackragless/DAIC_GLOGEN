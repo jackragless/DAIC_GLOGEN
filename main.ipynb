{
 "cells": [
  {
   "cell_type": "code",
   "execution_count": 1,
   "metadata": {},
   "outputs": [
    {
     "name": "stderr",
     "output_type": "stream",
     "text": [
      "[nltk_data] Downloading package punkt to\n",
      "[nltk_data]     /home/jackragless/nltk_data...\n",
      "[nltk_data]   Package punkt is already up-to-date!\n",
      "[nltk_data] Downloading package wordnet to\n",
      "[nltk_data]     /home/jackragless/nltk_data...\n",
      "[nltk_data]   Package wordnet is already up-to-date!\n",
      "[nltk_data] Downloading package punkt to\n",
      "[nltk_data]     /home/jackragless/nltk_data...\n",
      "[nltk_data]   Package punkt is already up-to-date!\n"
     ]
    },
    {
     "name": "stdout",
     "output_type": "stream",
     "text": [
      "importing Jupyter notebook from preprocess_utils.ipynb\n",
      "importing Jupyter notebook from parse_utils.ipynb\n"
     ]
    },
    {
     "name": "stderr",
     "output_type": "stream",
     "text": [
      "[nltk_data] Downloading package benepar_en3 to\n",
      "[nltk_data]     /home/jackragless/nltk_data...\n",
      "[nltk_data]   Package benepar_en3 is already up-to-date!\n"
     ]
    },
    {
     "name": "stdout",
     "output_type": "stream",
     "text": [
      "importing Jupyter notebook from ai_kw_detect.ipynb\n",
      "importing Jupyter notebook from wikt_def_parse_Wex.ipynb\n",
      "importing Jupyter notebook from wikt_def_predict_Wex.ipynb\n",
      "importing Jupyter notebook from keyword_utils.ipynb\n"
     ]
    }
   ],
   "source": [
    "import nltk\n",
    "nltk.download('punkt')\n",
    "import pyfiglet\n",
    "import os\n",
    "import numpy as np\n",
    "import pickle\n",
    "import wikipedia\n",
    "\n",
    "import import_ipynb\n",
    "import preprocess_utils\n",
    "import parse_utils\n",
    "import ai_kw_detect\n",
    "import wikt_def_parse_Wex\n",
    "import wikt_def_predict_Wex\n",
    "import keyword_utils\n"
   ]
  },
  {
   "cell_type": "code",
   "execution_count": 2,
   "metadata": {},
   "outputs": [],
   "source": [
    "# pages = ['Computational Intelligence', 'Dialogflow', 'Bayesian programming', 'BabyX', 'Fuzzy agent']\n",
    "# pages = ['Augmented reality-assisted surgery','Universal Scene Description','Junaio','USens','ARCore']\n",
    "# for page in pages:\n",
    "#     text_file = open(\"text_files/{}.txt\".format(page), \"w\")\n",
    "#     text_file.write(wikipedia.page(page).content)\n",
    "#     text_file.close()"
   ]
  },
  {
   "cell_type": "code",
   "execution_count": 3,
   "metadata": {},
   "outputs": [],
   "source": [
    "pos_association = {\n",
    "    'CC':['conjunction'],\n",
    "    'CD':['numeral'],\n",
    "    'DT':['determiner'],\n",
    "    'EX':[],\n",
    "    'FW':[],\n",
    "    'IN':['preposition','conjunction'],\n",
    "    'JJ':['adjective'],\n",
    "    'JJR':['adjective'],\n",
    "    'JJS':['adjective'],\n",
    "    'LS':[],\n",
    "    'MD':['verb'],\n",
    "    'NN':['noun','proper noun'],\n",
    "    'NNS':['noun'], #PLURAL\n",
    "    'NNP':['proper noun', 'noun'],\n",
    "    'NNPS':['proper noun', 'noun'], #plural\n",
    "    'PDT':['determiner'],\n",
    "    'POS':[],\n",
    "    'PRP':['pronoun'],\n",
    "    'PRP$':['pronoun'],\n",
    "    'RB':['adverb'],\n",
    "    'RBR':['adverb'],\n",
    "    'RBS':['adverb'],\n",
    "    'RP':['preposition'], #unsure\n",
    "    'TO':[], #unsure\n",
    "    'UH':['interjection'],\n",
    "    'VB':['verb'],\n",
    "    'VBG':['verb'],\n",
    "    'VBD':['verb'],\n",
    "    'VBN':['verb'],\n",
    "    'VBP':['verb'],\n",
    "    'VBZ':['verb'],\n",
    "    'WDT':['determiner'],\n",
    "    'WP':['pronoun'],\n",
    "    'WRB':['adverb'],\n",
    "    \n",
    "    #to deal with keyphrases\n",
    "    'noun':['noun', 'proper noun'],\n",
    "    'verb':['verb']\n",
    "}"
   ]
  },
  {
   "cell_type": "code",
   "execution_count": 4,
   "metadata": {},
   "outputs": [],
   "source": [
    "def generate_keywords(processed_text):\n",
    "    \n",
    "    candidate_phrases = []\n",
    "    pos = []\n",
    "    tok_sents = []\n",
    "    \n",
    "    for sent in nltk.sent_tokenize(processed_text):\n",
    "        \n",
    "        temp_tree = parse_utils.parseSent(sent)\n",
    "        if temp_tree:\n",
    "            tok_sents.append(sent[:-1])\n",
    "            candidate_phrases += parse_utils.getPhraseNodes(temp_tree,[])\n",
    "            pos.append( parse_utils.getWordNodes(temp_tree,[]) )\n",
    "        \n",
    "        \n",
    "    pred_kw = ai_kw_detect.predict(tok_sents)\n",
    "    \n",
    "    \n",
    "    FINAL_KW = []\n",
    "    kw_only = []\n",
    "    \n",
    "    for i in range(len(pred_kw)):\n",
    "        if pred_kw[i]:\n",
    "            for j in range(len(pred_kw[i])):\n",
    "                if len(pred_kw[i][j].split()) == 1:\n",
    "                    for k in range(len(pos[i])):  \n",
    "                        if pred_kw[i][j] == pos[i][k][0] and pred_kw[i][j] not in kw_only:\n",
    "                            FINAL_KW.append([pos[i][k][0], pos_association[pos[i][k][1]]])\n",
    "                            kw_only.append(pos[i][k][0])\n",
    "                            break\n",
    "                else:\n",
    "                    for m in range(len(candidate_phrases)):\n",
    "                        \n",
    "                        if pred_kw[i][j] == candidate_phrases[m][0] and pred_kw[i][j] not in kw_only:\n",
    "                            FINAL_KW.append([candidate_phrases[m][0],pos_association[candidate_phrases[m][1]]])\n",
    "                            kw_only.append(candidate_phrases[m][0])\n",
    "                            break\n",
    "                    \n",
    "        \n",
    "    return FINAL_KW"
   ]
  },
  {
   "cell_type": "code",
   "execution_count": 5,
   "metadata": {},
   "outputs": [],
   "source": [
    "def generate_definitions(title, clean_text, keyword_arr):\n",
    "    final = []\n",
    "    count = 0\n",
    "    for kw in keyword_arr:\n",
    "        count += 1\n",
    "        print(count,'/',len(keyword_arr))\n",
    "        \n",
    "        if kw[0].lower() not in [kw[0].lower() for kw in final]:\n",
    "            for pos in kw[1]:\n",
    "                temp_def = wikt_def_predict_Wex.driver(title, clean_text, kw[0], pos)\n",
    "    #             print(kw[0], '<--->', temp_def)\n",
    "                if temp_def == 'invalid-term':\n",
    "                    final.append([kw[0],'invalid-term'])\n",
    "                elif temp_def == 'invalid-pos':\n",
    "                    final.append([kw[0],'invalid-pos'])\n",
    "                else:\n",
    "                    final.append([kw[0],temp_def])\n",
    "                    break\n",
    "\n",
    "\n",
    "\n",
    "    return final"
   ]
  },
  {
   "cell_type": "code",
   "execution_count": 6,
   "metadata": {
    "scrolled": true
   },
   "outputs": [],
   "source": [
    "# print(pyfiglet.figlet_format(\"DAIC GLOGEN\"),)\n",
    "# print('DESCRIPTION: GLOGEN automatically generates glossaries and prepends them to given .txt files. \\nENSURE: <filename>.txt == original text title.')\n",
    "# answer = ''\n",
    "# txt_address = ''\n",
    "# while True:\n",
    "#     answer = input('\\nType \"yes\" / \"no\" to starting GLOGEN:\\n>>>')\n",
    "#     if answer.lower().startswith(\"y\"):\n",
    "#         txt_address += input('Type address where .txt files are stored. If same address as main.py press ENTER.\\n>>>')\n",
    "#         break\n",
    "#     elif answer.lower().startswith(\"n\"):\n",
    "#         exit()\n",
    "#     else:\n",
    "#         print('INVALID INPUT --- TRY AGAIN.')\n",
    "#         continue\n",
    "# if txt_address == '':\n",
    "#     txt_address = os.getcwd()"
   ]
  },
  {
   "cell_type": "code",
   "execution_count": 7,
   "metadata": {},
   "outputs": [
    {
     "name": "stdout",
     "output_type": "stream",
     "text": [
      "USens\n"
     ]
    },
    {
     "data": {
      "application/vnd.jupyter.widget-view+json": {
       "model_id": "691f7735e4334f9381d01004780044ff",
       "version_major": 2,
       "version_minor": 0
      },
      "text/plain": [
       "  0%|          | 0/14 [00:00<?, ?it/s]"
      ]
     },
     "metadata": {},
     "output_type": "display_data"
    },
    {
     "data": {
      "application/vnd.jupyter.widget-view+json": {
       "model_id": "e9b14dc552cb46a480a78dfa2c3a11c8",
       "version_major": 2,
       "version_minor": 0
      },
      "text/plain": [
       "Running Prediction:   0%|          | 0/1 [00:00<?, ?it/s]"
      ]
     },
     "metadata": {},
     "output_type": "display_data"
    },
    {
     "name": "stdout",
     "output_type": "stream",
     "text": [
      "1 / 12\n",
      "2 / 12\n",
      "3 / 12\n",
      "4 / 12\n",
      "5 / 12\n",
      "6 / 12\n",
      "7 / 12\n",
      "8 / 12\n",
      "9 / 12\n",
      "10 / 12\n"
     ]
    },
    {
     "name": "stderr",
     "output_type": "stream",
     "text": [
      "/home/jackragless/miniconda3/lib/python3.8/site-packages/wikipedia/wikipedia.py:389: GuessedAtParserWarning: No parser was explicitly specified, so I'm using the best available HTML parser for this system (\"html.parser\"). This usually isn't a problem, but if you run this code on another system, or in a different virtual environment, it may use a different parser and behave differently.\n",
      "\n",
      "The code that caused this warning is on line 389 of the file /home/jackragless/miniconda3/lib/python3.8/site-packages/wikipedia/wikipedia.py. To get rid of this warning, pass the additional argument 'features=\"html.parser\"' to the BeautifulSoup constructor.\n",
      "\n",
      "  lis = BeautifulSoup(html).find_all('li')\n"
     ]
    },
    {
     "name": "stdout",
     "output_type": "stream",
     "text": [
      "11 / 12\n",
      "12 / 12\n",
      "Universal Scene Description\n"
     ]
    },
    {
     "data": {
      "application/vnd.jupyter.widget-view+json": {
       "model_id": "2ba05060d9da4f2a9f3fd2c66e602553",
       "version_major": 2,
       "version_minor": 0
      },
      "text/plain": [
       "  0%|          | 0/5 [00:00<?, ?it/s]"
      ]
     },
     "metadata": {},
     "output_type": "display_data"
    },
    {
     "data": {
      "application/vnd.jupyter.widget-view+json": {
       "model_id": "25df8cc3687f4f98884ac46faad70053",
       "version_major": 2,
       "version_minor": 0
      },
      "text/plain": [
       "Running Prediction:   0%|          | 0/1 [00:00<?, ?it/s]"
      ]
     },
     "metadata": {},
     "output_type": "display_data"
    },
    {
     "name": "stdout",
     "output_type": "stream",
     "text": [
      "1 / 6\n",
      "2 / 6\n",
      "3 / 6\n",
      "4 / 6\n",
      "5 / 6\n",
      "6 / 6\n",
      "ARCore\n"
     ]
    },
    {
     "data": {
      "application/vnd.jupyter.widget-view+json": {
       "model_id": "202a0b0123744892a4c134e057cde23e",
       "version_major": 2,
       "version_minor": 0
      },
      "text/plain": [
       "  0%|          | 0/3 [00:00<?, ?it/s]"
      ]
     },
     "metadata": {},
     "output_type": "display_data"
    },
    {
     "data": {
      "application/vnd.jupyter.widget-view+json": {
       "model_id": "6c31b4d032e04164af489369e7f05776",
       "version_major": 2,
       "version_minor": 0
      },
      "text/plain": [
       "Running Prediction:   0%|          | 0/1 [00:00<?, ?it/s]"
      ]
     },
     "metadata": {},
     "output_type": "display_data"
    },
    {
     "name": "stdout",
     "output_type": "stream",
     "text": [
      "1 / 2\n",
      "2 / 2\n",
      "Augmented reality-assisted surgery\n"
     ]
    },
    {
     "data": {
      "application/vnd.jupyter.widget-view+json": {
       "model_id": "fec91f83a57340b7b25ae6a90bb06dff",
       "version_major": 2,
       "version_minor": 0
      },
      "text/plain": [
       "  0%|          | 0/17 [00:00<?, ?it/s]"
      ]
     },
     "metadata": {},
     "output_type": "display_data"
    },
    {
     "data": {
      "application/vnd.jupyter.widget-view+json": {
       "model_id": "b35b52e947f544bcbf6d262ab3f38c91",
       "version_major": 2,
       "version_minor": 0
      },
      "text/plain": [
       "Running Prediction:   0%|          | 0/1 [00:00<?, ?it/s]"
      ]
     },
     "metadata": {},
     "output_type": "display_data"
    },
    {
     "name": "stdout",
     "output_type": "stream",
     "text": [
      "1 / 18\n",
      "2 / 18\n",
      "3 / 18\n",
      "4 / 18\n",
      "5 / 18\n",
      "6 / 18\n",
      "7 / 18\n",
      "8 / 18\n",
      "9 / 18\n",
      "10 / 18\n",
      "11 / 18\n",
      "12 / 18\n",
      "13 / 18\n",
      "14 / 18\n",
      "15 / 18\n",
      "16 / 18\n",
      "17 / 18\n",
      "18 / 18\n",
      "Junaio\n"
     ]
    },
    {
     "data": {
      "application/vnd.jupyter.widget-view+json": {
       "model_id": "523d1e03763d4096a40d38d1631729b7",
       "version_major": 2,
       "version_minor": 0
      },
      "text/plain": [
       "  0%|          | 0/15 [00:00<?, ?it/s]"
      ]
     },
     "metadata": {},
     "output_type": "display_data"
    },
    {
     "data": {
      "application/vnd.jupyter.widget-view+json": {
       "model_id": "28f4ef6fc8314748a93262f4288de0c8",
       "version_major": 2,
       "version_minor": 0
      },
      "text/plain": [
       "Running Prediction:   0%|          | 0/1 [00:00<?, ?it/s]"
      ]
     },
     "metadata": {},
     "output_type": "display_data"
    },
    {
     "name": "stdout",
     "output_type": "stream",
     "text": [
      "1 / 23\n",
      "2 / 23\n",
      "3 / 23\n",
      "4 / 23\n",
      "5 / 23\n",
      "6 / 23\n",
      "7 / 23\n",
      "8 / 23\n",
      "9 / 23\n",
      "10 / 23\n",
      "11 / 23\n",
      "12 / 23\n",
      "13 / 23\n",
      "14 / 23\n",
      "15 / 23\n",
      "16 / 23\n",
      "17 / 23\n",
      "18 / 23\n",
      "19 / 23\n",
      "20 / 23\n",
      "21 / 23\n",
      "22 / 23\n",
      "23 / 23\n"
     ]
    }
   ],
   "source": [
    "user_input_data = []\n",
    "\n",
    "txt_address = '/home/jackragless/projects/github/DAIC_GLOGEN/text_files'\n",
    "    \n",
    "for filename in os.listdir(txt_address):\n",
    "    if filename.endswith('.txt'):\n",
    "        print(filename[:-4])\n",
    "        orig_text = open(txt_address+'/'+filename).read()\n",
    "        \n",
    "        processed = preprocess_utils.clean_text(orig_text, False,False,True,False,False) \n",
    "        keywords = generate_keywords(processed)\n",
    "        keyword_utils.chink(keywords)\n",
    "#         keywords = keyword_utils.chink(keywords)\n",
    "    \n",
    "        user_input_data.append({\n",
    "             'title':filename[:-4], \n",
    "             'raw_text':orig_text,\n",
    "#              'processed':processed,\n",
    "             'keywords':keywords,\n",
    "             'glossary':generate_definitions(filename[:-4], processed, keywords)\n",
    "            })"
   ]
  },
  {
   "cell_type": "code",
   "execution_count": 8,
   "metadata": {
    "scrolled": false
   },
   "outputs": [
    {
     "data": {
      "text/plain": [
       "[{'title': 'USens',\n",
       "  'raw_text': \"uSens, Inc. is a Silicon Valley startup founded in 2014 in San Jose, California.  The company's core team includes researchers and developers building interactive and immersive computer-vision tracking solutions. The team has extensive experience in artificial intelligence (AI), computer vision, 3D Human–computer interaction (HCI) technology and augmented reality and virtual reality. uSens has been applying computer vision and AI technologies in AR/VR, Automotive and smartphones.  \\nuSens has its corporate headquarters in San Jose, California, with additional offices in China in Beijing, Hangzhou, and Shenzhen.\\n\\n\\n== History ==\\nThe co-founder of uSens, Dr. Yue Fei, is a researcher in the field of 3D user interfaces and virtual reality who earned his PhD from Rice University in Space Physics.uSens has developed products in the area of HCI, such as the Fingo Virtual Touch, selling in China. Fingo Virtual Touch uses the company’s patented Fingo technology. Fingo is the hardware and software that uSens has developed to allow a user to interact with a digital interface, like a smart TV without the need to touch any surface; it can sense finger movements and hand gestures. It consists of a small sensor and a set of software algorithms that automatically “sense” and translate hand gestures into movements onscreen.In March 2015, the company launched a Kickstarter campaign to fund a VR/AR hardware product, reaching its initial funding goal within a few days. In February 2017, uSens announced that it would refund all Kickstarter backers.uSens announced a $20 million Series A funding round in June 2016 led by Fosun Kinzon Capital. Additional participants included returning investor Maison Capital, joined by new investors Great Capital, Fortune Capital, Oriental Fortune Capital, iResearch Capital, Chord Capital, and ARM Innovation Ecosystem Accelerator. The company previously received a pre-Series A investment of $5.5 million from co-led by IDG Ventures, Lebox Capital and Maison Capital.\\n\\n\\n== See also ==\\nAugmented reality\\nGesture recognition\\nMixed reality\\nMotion capture\\nVirtual reality\\n\\n\\n== References ==\\n\\n\\n== External links ==\\nOfficial website\",\n",
       "  'keywords': [['immersive', ['adjective']],\n",
       "   ['computer vision', ['noun', 'proper noun']],\n",
       "   ['augmented', ['verb']],\n",
       "   ['co-founder', ['noun', 'proper noun']],\n",
       "   ['Fingo', ['proper noun', 'noun']],\n",
       "   ['uSens', ['proper noun', 'noun']],\n",
       "   ['smart TV', ['noun', 'proper noun']],\n",
       "   ['hand gestures', ['noun', 'proper noun']],\n",
       "   ['Kickstarter', ['proper noun', 'noun']],\n",
       "   ['Chord', ['proper noun', 'noun']],\n",
       "   ['ARM', ['proper noun', 'noun']],\n",
       "   ['Augmented', ['verb']]],\n",
       "  'glossary': [['immersive', ['adjective'], '(general) Tending to immerse.'],\n",
       "   ['computer vision',\n",
       "    ['noun', 'proper noun'],\n",
       "    '(artificial intelligence) The science and technology of machines that see, concerned with the theory for building artificial systems that obtain information from images, such as a video sequence, views from multiple cameras, or multi-dimensional data from a medical scanner.'],\n",
       "   ['augmented',\n",
       "    ['verb'],\n",
       "    '(general) simple past tense and past participle of augment'],\n",
       "   ['co-founder',\n",
       "    ['noun', 'proper noun'],\n",
       "    '(general) Alternative form of cofounder'],\n",
       "   ['Fingo',\n",
       "    ['proper noun', 'noun'],\n",
       "    '(wiki) Fingos is a discontinued breakfast cereal snack from General Mills that lasted from 1993 to 1994.'],\n",
       "   ['uSens',\n",
       "    ['proper noun', 'noun'],\n",
       "    '(wiki) uSens, Inc. is a Silicon Valley startup founded in 2014 in San Jose, California.'],\n",
       "   ['smart TV',\n",
       "    ['noun', 'proper noun'],\n",
       "    '(general) A television with integrated Internet features.'],\n",
       "   ['hand gestures',\n",
       "    ['noun', 'proper noun'],\n",
       "    '(wiki) Gestures are a form of nonverbal communication in which visible bodily actions are used to communicate important messages, either in place of speech or together and in parallel with spoken words.'],\n",
       "   ['Kickstarter',\n",
       "    ['proper noun', 'noun'],\n",
       "    '(wiki) Kickstarter is an American public benefit corporation based in Brooklyn, New York, that maintains a global crowdfunding platform focused on creativity.'],\n",
       "   ['Chord', ['proper noun', 'noun'], 'invalid-term'],\n",
       "   ['Chord', ['proper noun', 'noun'], '(anatomy) A cord.'],\n",
       "   ['ARM', ['proper noun', 'noun'], 'invalid-pos'],\n",
       "   ['ARM', ['proper noun', 'noun'], 'invalid-pos']]},\n",
       " {'title': 'Universal Scene Description',\n",
       "  'raw_text': 'Universal Scene Description (USD) is a framework for interchange of 3D computer graphics data, created by Pixar. The framework focuses on collaboration, non-destructive editing, and enabling multiple views and opinions about graphics data.File formats used by the standard include:\\n.usd, which can be either ASCII or binary-encoded\\n.usda, ASCII encoded\\n.usdc, binary encoded\\n.usdz, a package file which is a zero-compression, unencrypted zip archive, which may contain usd, usda, usdc, png, jpeg, m4a, mp3, and wav files.\\n\\n\\n== Support ==\\nApple support .usdz files in SceneKit, for 3D model interchange purposes.\\nNvidia has announced support for USD in Omniverse, a graphics collaboration platform.\\nHoudini includes an implementation of USD, for purposes of format interchange and scene editing.\\nBlender includes support for USD export.\\n\\n\\n== References ==\\n\\n\\n== External links ==\\nIntroduction to Universal Scene Description by Pixar',\n",
       "  'keywords': [['Universal Scene Description', ['noun', 'proper noun']],\n",
       "   ['ASCII', ['proper noun', 'noun']],\n",
       "   ['unencrypted', ['adjective']],\n",
       "   ['SceneKit', ['proper noun', 'noun']],\n",
       "   ['USD', ['proper noun', 'noun']],\n",
       "   ['Blender', ['proper noun', 'noun']]],\n",
       "  'glossary': [['Universal Scene Description',\n",
       "    ['noun', 'proper noun'],\n",
       "    '(wiki) Universal Scene Description (USD) is a framework for interchange of 3D computer graphics data, created by Pixar.'],\n",
       "   ['ASCII',\n",
       "    ['proper noun', 'noun'],\n",
       "    '(computing) American Standard Code for Information Interchange.'],\n",
       "   ['unencrypted',\n",
       "    ['adjective'],\n",
       "    '(computing) Of something that has been decrypted successfully, or of something that should have been encrypted, but was not.'],\n",
       "   ['SceneKit',\n",
       "    ['proper noun', 'noun'],\n",
       "    '(wiki) SceneKit, sometimes rendered Scene Kit, is a 3D graphics application programming interface (API) for Apple Inc. platforms written in Objective-C.'],\n",
       "   ['USD', ['proper noun', 'noun'], 'invalid-pos'],\n",
       "   ['USD', ['proper noun', 'noun'], 'invalid-pos'],\n",
       "   ['Blender',\n",
       "    ['proper noun', 'noun'],\n",
       "    '(computer graphics) An open source, cross-platform suite of tools for the creation of 3D graphics.']]},\n",
       " {'title': 'ARCore',\n",
       "  'raw_text': \"ARCore, also known as Google Play Services for AR, is a software development kit developed by Google that allows for augmented reality applications to be built.\\nARCore uses three key technologies to integrate virtual content with the real world as seen through your phone's camera:\\nSix degrees of freedom allows the phone to understand and track its position relative to the world.\\nEnvironmental understanding allows the phone to detect the size and location of flat horizontal surfaces like the ground or a coffee table.\\nLight estimation allows the phone to estimate the environment's current lighting conditions.ARCore has been integrated into a multitude of devices.\\n\\n\\n== References ==\\n\\n\\n== External links ==\\nOfficial website\",\n",
       "  'keywords': [['augmented', ['verb']], ['ARCore', ['proper noun', 'noun']]],\n",
       "  'glossary': [['augmented',\n",
       "    ['verb'],\n",
       "    '(general) simple past tense and past participle of augment'],\n",
       "   ['ARCore',\n",
       "    ['proper noun', 'noun'],\n",
       "    '(wiki) ARCore, also known as Google Play Services for AR, is a software development kit developed by Google that allows for augmented reality applications to be built.']]},\n",
       " {'title': 'Augmented reality-assisted surgery',\n",
       "  'raw_text': 'Augmented reality-assisted surgery (ARAS) is a surgical tool utilizing technology that superimposes a computer-generated image on a surgeon’s view of the operative field, thus providing a composite view for the surgeon of the patient with a computer generated overlay enhancing the operative experience. It can be used for training, preparation for an operation, or performance of an operation. ARAS can be performed using a wide array of technology, including an optical head-mounted display (OHMD)—such as the Google Glass XE 22.1 or Vuzix STAR 1200 XL—and a digital overlay from robotic and laparoscopic surgery feeds. The technique has been primarily been tested in the urological and cardiovascular domains.\\n\\n\\n== Specialized uses ==\\nA subset of called augmented reality-assisted urologic surgery (ARAUS) specifically aids with urological surgery. This intraoperative training tool was first described and utilized by Tariq S. Hakky, Ryan M. Dickey, and Larry I. Lipshultz within the Scott Department of Urology, Baylor College of Medicine, and Daniel R. Martinez, Rafael E. Carrion, and Philippe E. Spiess within the Sexual Medicine Program in the Department of Urology, at the University of South Florida. It was initially used to teach medical residents how to place a penile implant from start to finish via an application downloaded onto the OHMD. Intraoperatively, an optical display camera output feed combined with software allowing for the detection of points of interest enabled faculty to interact with residents during the placement of the penile implant. Both faculty and residents demonstrated a high degree of satisfaction of the ARAUS experience, and it was shown to be an effective tool in training urological surgical technique. Advantages of ARAUS include real-time feedback of residents during suy and superior visibility and interaction between faculty and residents.ARAS has also been applied to the cardiovascular realm. Terry Peters of the University of Western Ontario in London, Canada has teamed up with other researchers at the Robarts Research Institute to implement ARAS towards the goal of improving repairs to the heart\\'s mitral valve and replacement of the aortic valve. In an interview for the Medical Augmented Reality Blog, Peters stated that his research team could not only use ARAS to \"[improve] the speed and safety of the cardiac valve repair procedure\"; they also conducted \"the evaluation of an AR environment to plan brain-tumor removal, and the development of an ARF-enhanced system for ultrasound-guided spinal injections.\"Holosurical Inc has developed the clinically-tested ARAI™ surgical navigation system that provides real-time patient-specific 3D anatomical visualization for presurgical planning, intraoperative guidance, and postsurgical data analytics. The augmented reality component of the system allows the surgeon to focus their attention on the patient’s internal anatomy, without actually exposing it. On January 10th, 2019 HoloSurgical Inc completed the 1st spine surgery in the world using augmented reality, artificial intelligence-based navigation system. The system was developed by AI pioneer Paul Lewicki PhD, surgeon Kris Siemionow MD,PhD, and engineer Cristian Luciano PhD.\\n\\n\\n== References ==',\n",
       "  'keywords': [['computer-generated', ['verb']],\n",
       "   ['computer generated overlay', ['noun', 'proper noun']],\n",
       "   ['ARAS', ['proper noun', 'noun']],\n",
       "   ['optical head-mounted display', ['noun', 'proper noun']],\n",
       "   ['XL—and', ['conjunction']],\n",
       "   ['urological', ['adjective']],\n",
       "   ['subset', ['noun', 'proper noun']],\n",
       "   ['augmented', ['verb']],\n",
       "   ['urologic', ['adjective']],\n",
       "   ['intraoperative', ['adjective']],\n",
       "   ['implant', ['noun', 'proper noun']],\n",
       "   ['ARAUS', ['proper noun', 'noun']],\n",
       "   ['real-time', ['noun', 'proper noun']],\n",
       "   ['Robarts Research Institute', ['noun', 'proper noun']],\n",
       "   ['Augmented', ['proper noun', 'noun']],\n",
       "   ['AR', ['proper noun', 'noun']],\n",
       "   ['1st', ['adjective']],\n",
       "   ['AI', ['proper noun', 'noun']]],\n",
       "  'glossary': [['computer-generated',\n",
       "    ['verb'],\n",
       "    '(wiki) Computer-generated imagery (CGI) is the application of computer graphics to create or contribute to images in art, printed media, video games,  simulators, computer animation and VFX in films, television programs, shorts, commercials, and videos.'],\n",
       "   ['computer generated overlay',\n",
       "    ['noun', 'proper noun'],\n",
       "    '(wiki) A computer is a machine that can be instructed to carry out sequences of arithmetic or logical operations automatically via computer programming.'],\n",
       "   ['ARAS', ['proper noun', 'noun'], 'invalid-term'],\n",
       "   ['ARAS', ['proper noun', 'noun'], '(general) plural of ara'],\n",
       "   ['optical head-mounted display',\n",
       "    ['noun', 'proper noun'],\n",
       "    '(wiki) An optical head-mounted display (OHMD) is a wearable device that has the capability of reflecting projected images as well as allowing the user to see through it, similar to augmented reality technology.'],\n",
       "   ['XL—and', ['conjunction'], 'invalid-term'],\n",
       "   ['urological', ['adjective'], '(general) Of or pertaining to urology.'],\n",
       "   ['subset',\n",
       "    ['noun', 'proper noun'],\n",
       "    '(general) A group of things or people, all of which are in a specified larger group.'],\n",
       "   ['augmented',\n",
       "    ['verb'],\n",
       "    '(general) simple past tense and past participle of augment'],\n",
       "   ['urologic', ['adjective'], '(general) Of or pertaining to urology.'],\n",
       "   ['intraoperative',\n",
       "    ['adjective'],\n",
       "    '(general) Happening during a surgical operation.'],\n",
       "   ['implant',\n",
       "    ['noun', 'proper noun'],\n",
       "    '(general) Anything surgically implanted in the body, such as a tissue graft or prosthesis, particularly breast implants.'],\n",
       "   ['ARAUS', ['proper noun', 'noun'], 'invalid-term'],\n",
       "   ['ARAUS', ['proper noun', 'noun'], 'invalid-term'],\n",
       "   ['real-time', ['noun', 'proper noun'], 'invalid-pos'],\n",
       "   ['real-time', ['noun', 'proper noun'], 'invalid-pos'],\n",
       "   ['Robarts Research Institute',\n",
       "    ['noun', 'proper noun'],\n",
       "    '(wiki) The Robarts Research Institute is a medical research institute at the University of Western Ontario.'],\n",
       "   ['AR', ['proper noun', 'noun'], 'invalid-pos'],\n",
       "   ['AR', ['proper noun', 'noun'], 'invalid-pos'],\n",
       "   ['1st', ['adjective'], '(general) Abbreviation of first.'],\n",
       "   ['AI', ['proper noun', 'noun'], 'invalid-pos'],\n",
       "   ['AI', ['proper noun', 'noun'], 'invalid-pos']]},\n",
       " {'title': 'Junaio',\n",
       "  'raw_text': 'Metaio was a privately held Augmented Reality (AR) company that developed software technology and provided augmented reality solutions.\\nHeadquartered in Munich, Germany, with subsidiaries in San Francisco, California, New York City, New York and Dallas, Texas, metaio provided a software development kit (SDK) for programming PC, web, mobile and custom offline augmented reality applications.\\nAdditionally, Metaio was the creator of Junaio, a free mobile AR browser available for Android and iOS devices.\\nOn 28 May 2015 it was reported that Metaio GmbH was acquired by Apple Inc for an undisclosed sum.\\n\\n\\n== History ==\\nMetaio was founded in 2003 in Munich, Germany by current CEO, Thomas Alt and current CTO, Peter Meier. The company grew out of an internal project within Volkswagen that received a German grant the founders used to bootstrap their enterprise.\\nIn 2005 Metaio released the first end-consumer AR application called KPS Click & Design in Germany which allowed the user to put virtual furniture in an image of their living room. In addition, metaio also released the Unifeye Platform which enabled third-party developers to create their own commercial AR solutions. In 2006 metaio released the first browsing plug-in for web-based AR applications.\\nShortly thereafter, Metaio launched the first fully integrated AR application for mobile devices with the release of the mobile AR browser Junaio.\\nFrom 2010 to 2012, Metaio presented the first commercial 2-D Markerless Feature tracking application for print and television on a consumer mobile device and as a result won the ISMAR Tracking Contest in 2011.\\nOn May 23, 2015, Metaio ceased product licensing, cancelled all pending conferences, and posted this notice on their support site:Metaio products and subscriptions are no longer available for purchase.  Downloads of your previous purchases will be available until 15 December 2015, and active cloud subscriptions will be continued until expiration. Email support will continue until 30 June 2015.On May 28, 2015, TechCrunch and the Wall Street Journal reported that Apple had bought the company.\\n\\n\\n== Products ==\\nMetaio offered products covering the needs of the AR value chain from product design, engineering, operations, marketing, sales and customer support.Metaio SDK - The metaio SDK allows developers to use content without prior encryption. No offline tools or server side encryption is needed when generating and deploying 3D assets and tracking patterns. The SDK is currently supported on Android, iOS and Windows with an additional plugin for development in Unity for Android, iOS, Windows and OS X platforms.Metaio Creator - The metaio Creator is augmented reality software that allows users to create a complete AR scenario without specialized programming knowledge through a drag and drop interface.\\nMetaio CVS - Metaio Continuous Visual Search (CVS) manages marker searching online for instant image recognition\\nMetaio Cloud - Allows developers to store and manage content online.\\nJunaio – Junaio is an augmented reality browser which allows users to experience mobile augmented reality through multiple channels on their mobile devices.\\nMetaio Engineer - Provides solutions for technical assignments from the visualization of future facilities within a current production environment over illustrating working instructions on a component to deviation measurement between virtuality and reality.\\n\\n\\n== Events ==\\nSince 2006 metaio has organized insideAR, an annual event solely dedicated to Augmented Reality developers, researchers and businesses. In 2013 InsideAR was the world\\'s largest augmented reality conference.\\n\\n\\n== Press ==\\nIn 2011 Reuters wrote an article about metaio in collaboration with ST-Ericsson announcing the company as \"the world-wide leader in Augmented Reality technology.\"\\nIn 2012 The Next Web announced: \"…While there are a slew of apps that tap GPS, image recognition, visual search and other elements of augmented reality, junaio does a good job of merging them all.\"\\n\\n\\n== Awards ==\\n2014\\n\\nAuggies Award for the \"Best Campaign\"2013\\n\\nVolkswagen Augmented Reality Tracking Challenge\\nISMAR Best Poster2012\\n\\nAuggies Award for \"Best AR Demo\"2011\\n\\nISMAR Tracking Contest Award for \"World’s first mobile 3D Tracking\"\\nAugmented Planet Reader\\'s Choice Award for \"Best AR Marketing Campaign\" and \"Best AR Developer Toolkit\" for the metaio Mobile SDK\\nBest Android AR App Ever – Second Place for \"Best App Ever\"2010\\n\\nAugmented Planet Reader\\'s Choice Award – Runner up for \"Best Augmented Reality\"\\nInnovationspreis des Jahres for \"Virtual Dressing Room\"2009\\n\\n\"I caught their eye\" Award, Winner in the Innovation for Tomorrow category2007\\n\\nFirst Prize at \"Deutscher Internetpreis\" (German Internet Award)2004\\n\\nDer Innovationspreis für zukunftsweisende Business-Ideen (The Innovation Award for Forward-Thinking Business Ideas)\\n\\n\\n== References ==\\n\\n\\n== External links ==\\nmetaio home page - website for Augmented Reality\\nmetaio Augmented Reality Blog\\njunaio home page\\nMetaio Thermal Touch Technology',\n",
       "  'keywords': [['software technology', ['noun', 'proper noun']],\n",
       "   ['augmented', ['verb']],\n",
       "   ['New York', ['noun', 'proper noun']],\n",
       "   ['software development kit', ['noun', 'proper noun']],\n",
       "   ['Metaio', ['proper noun', 'noun']],\n",
       "   ['AR', ['proper noun', 'noun']],\n",
       "   ['Android', ['proper noun', 'noun']],\n",
       "   ['bootstrap', ['noun', 'proper noun']],\n",
       "   ['KPS', ['proper noun', 'noun']],\n",
       "   ['metaio', ['proper noun', 'noun']],\n",
       "   ['Unifeye', ['proper noun', 'noun']],\n",
       "   ['third-party developers', ['noun', 'proper noun']],\n",
       "   ['mobile devices', ['noun', 'proper noun']],\n",
       "   ['2-D', ['proper noun', 'noun']],\n",
       "   ['ISMAR', ['proper noun', 'noun']],\n",
       "   ['SDK', ['proper noun', 'noun']],\n",
       "   ['CVS', ['proper noun', 'noun']],\n",
       "   ['visualization', ['noun', 'proper noun']],\n",
       "   ['virtuality', ['noun', 'proper noun']],\n",
       "   ['InsideAR', ['proper noun', 'noun']],\n",
       "   ['ST-Ericsson', ['proper noun', 'noun']],\n",
       "   ['Augmented', ['proper noun', 'noun']],\n",
       "   ['3D', ['noun', 'proper noun']]],\n",
       "  'glossary': [['software technology',\n",
       "    ['noun', 'proper noun'],\n",
       "    '(wiki) Software is a collection of instructions and data that tell the computer how to work.'],\n",
       "   ['augmented',\n",
       "    ['verb'],\n",
       "    '(general) simple past tense and past participle of augment'],\n",
       "   ['New York', ['noun', 'proper noun'], 'invalid-pos'],\n",
       "   ['New York',\n",
       "    ['noun', 'proper noun'],\n",
       "    '(general) A county of the state of New York, coterminous with the Borough of Manhattan.'],\n",
       "   ['software development kit',\n",
       "    ['noun', 'proper noun'],\n",
       "    '(wiki) A software development kit (SDK) is a collection of software development tools in one installable package.'],\n",
       "   ['Metaio',\n",
       "    ['proper noun', 'noun'],\n",
       "    '(wiki) Metaio was a privately held Augmented Reality (AR) company that developed software technology and provided augmented reality solutions.'],\n",
       "   ['AR', ['proper noun', 'noun'], 'invalid-pos'],\n",
       "   ['AR', ['proper noun', 'noun'], 'invalid-pos'],\n",
       "   ['Android',\n",
       "    ['proper noun', 'noun'],\n",
       "    '(computing, mobile telephony) A mobile phone running on Android OS.'],\n",
       "   ['bootstrap',\n",
       "    ['noun', 'proper noun'],\n",
       "    '(general) A means of advancing oneself or accomplishing something without aid.'],\n",
       "   ['KPS', ['proper noun', 'noun'], 'invalid-term'],\n",
       "   ['KPS',\n",
       "    ['proper noun', 'noun'],\n",
       "    '(US, measurement) Initialism of kilometers per second.'],\n",
       "   ['Unifeye',\n",
       "    ['proper noun', 'noun'],\n",
       "    '(wiki) Metaio was a privately held Augmented Reality (AR) company that developed software technology and provided augmented reality solutions.'],\n",
       "   ['third-party developers',\n",
       "    ['noun', 'proper noun'],\n",
       "    '(wiki) A video game developer is a software developer specializing in video game development – the process and related disciplines of creating video games.'],\n",
       "   ['mobile devices',\n",
       "    ['noun', 'proper noun'],\n",
       "    '(general) An item of hand-held electronic equipment, especially a smartphone or tablet computer.'],\n",
       "   ['2-D', ['proper noun', 'noun'], 'invalid-pos'],\n",
       "   ['2-D', ['proper noun', 'noun'], 'invalid-pos'],\n",
       "   ['ISMAR',\n",
       "    ['proper noun', 'noun'],\n",
       "    '(wiki) The Ismar is a right tributary of the river Câlniștea in Romania.'],\n",
       "   ['SDK', ['proper noun', 'noun'], 'invalid-pos'],\n",
       "   ['SDK',\n",
       "    ['proper noun', 'noun'],\n",
       "    '(computing) Initialism of software development kit'],\n",
       "   ['CVS',\n",
       "    ['proper noun', 'noun'],\n",
       "    '(software engineering) Initialism of Concurrent Versions System (a utility that assists in tracking changes to source code, etc.)'],\n",
       "   ['visualization',\n",
       "    ['noun', 'proper noun'],\n",
       "    '(computing) A visual representation of data.'],\n",
       "   ['virtuality',\n",
       "    ['noun', 'proper noun'],\n",
       "    '(general) A state of being virtual.'],\n",
       "   ['InsideAR',\n",
       "    ['proper noun', 'noun'],\n",
       "    '(wiki) InsideAR was the largest Augmented Reality event in Europe.'],\n",
       "   ['ST-Ericsson',\n",
       "    ['proper noun', 'noun'],\n",
       "    '(wiki) ST-Ericsson was a multinational manufacturer of wireless products and semiconductors, supplying to mobile device manufacturers.'],\n",
       "   ['3D', ['noun', 'proper noun'], 'invalid-pos'],\n",
       "   ['3D', ['noun', 'proper noun'], 'invalid-pos']]}]"
      ]
     },
     "execution_count": 8,
     "metadata": {},
     "output_type": "execute_result"
    }
   ],
   "source": [
    "user_input_data"
   ]
  },
  {
   "cell_type": "code",
   "execution_count": null,
   "metadata": {},
   "outputs": [],
   "source": []
  }
 ],
 "metadata": {
  "kernelspec": {
   "display_name": "Python 3",
   "language": "python",
   "name": "python3"
  },
  "language_info": {
   "codemirror_mode": {
    "name": "ipython",
    "version": 3
   },
   "file_extension": ".py",
   "mimetype": "text/x-python",
   "name": "python",
   "nbconvert_exporter": "python",
   "pygments_lexer": "ipython3",
   "version": "3.8.5"
  }
 },
 "nbformat": 4,
 "nbformat_minor": 4
}

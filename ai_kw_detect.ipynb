{
 "cells": [
  {
   "cell_type": "code",
   "execution_count": 71,
   "id": "middle-white",
   "metadata": {},
   "outputs": [],
   "source": [
    "import simpletransformers\n",
    "# import logging\n",
    "# import pandas as pd\n",
    "# import pickle\n",
    "from simpletransformers.ner import NERModel, NERArgs\n",
    "# import nltk"
   ]
  },
  {
   "cell_type": "code",
   "execution_count": 72,
   "id": "unlikely-thinking",
   "metadata": {},
   "outputs": [],
   "source": [
    "model = NERModel(\n",
    "    \"bert\", '/home/jackragless/projects/data/DAIC_GLOGEN/best-bert-sofar', labels= [\"B\", \"I\", \"O\"], use_cuda=True\n",
    ")"
   ]
  },
  {
   "cell_type": "code",
   "execution_count": 83,
   "id": "sublime-pound",
   "metadata": {},
   "outputs": [],
   "source": [
    "def predict(sent_toks):\n",
    "    FINAL = []\n",
    "    accept = ['B','I']\n",
    "    predictions, raw_values = model.predict(sent_toks)\n",
    "\n",
    "    for sent in predictions:\n",
    "        temp = ''\n",
    "        for prediction in sent:\n",
    "            if list(prediction.values())[0] in accept:\n",
    "                temp += ' ' + list(prediction.keys())[0]\n",
    "            else:\n",
    "                if temp!='':\n",
    "                    FINAL.append(temp.strip())\n",
    "                    temp = ''\n",
    "        \n",
    "    return FINAL"
   ]
  }
 ],
 "metadata": {
  "kernelspec": {
   "display_name": "Python 3",
   "language": "python",
   "name": "python3"
  },
  "language_info": {
   "codemirror_mode": {
    "name": "ipython",
    "version": 3
   },
   "file_extension": ".py",
   "mimetype": "text/x-python",
   "name": "python",
   "nbconvert_exporter": "python",
   "pygments_lexer": "ipython3",
   "version": "3.8.5"
  }
 },
 "nbformat": 4,
 "nbformat_minor": 5
}

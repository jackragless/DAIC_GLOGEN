{
 "cells": [
  {
   "cell_type": "code",
   "execution_count": 11,
   "id": "lasting-silence",
   "metadata": {},
   "outputs": [],
   "source": [
    "import simpletransformers\n",
    "# import logging\n",
    "# import pandas as pd\n",
    "import pickle\n",
    "from simpletransformers.ner import NERModel, NERArgs\n",
    "import torch\n",
    "import nltk"
   ]
  },
  {
   "cell_type": "code",
   "execution_count": 3,
   "id": "supposed-moment",
   "metadata": {},
   "outputs": [],
   "source": [
    "if torch.cuda.is_available() == False:\n",
    "    print('!!!GPU not detected; required for AI module. Check graphic drivers!!!')"
   ]
  },
  {
   "cell_type": "code",
   "execution_count": 4,
   "id": "powerful-texas",
   "metadata": {},
   "outputs": [],
   "source": [
    "model = NERModel(\n",
    "    \"bert\", '/home/jackragless/Downloads/outputs/checkpoint-631476-epoch-18', labels= [\"B\", \"I\", \"O\"], use_cuda=True\n",
    ")"
   ]
  },
  {
   "cell_type": "code",
   "execution_count": 13,
   "id": "drawn-wisdom",
   "metadata": {},
   "outputs": [],
   "source": [
    "def predict(sent_toks):\n",
    "    FINAL = []\n",
    "    accept = ['B','I']\n",
    "    predictions, raw_values = model.predict(sent_toks)\n",
    "\n",
    "    for sent in predictions:\n",
    "        temp = ''\n",
    "        temp_arr = []\n",
    "        for prediction in sent:\n",
    "            if list(prediction.values())[0] in accept:\n",
    "                temp += ' ' + list(prediction.keys())[0]\n",
    "            else:\n",
    "                if temp!='':\n",
    "                    temp_arr.append(temp.strip())\n",
    "                    temp = ''\n",
    "        FINAL.append(temp_arr)\n",
    "        \n",
    "    return FINAL"
   ]
  },
  {
   "cell_type": "code",
   "execution_count": null,
   "id": "banned-grave",
   "metadata": {},
   "outputs": [],
   "source": []
  }
 ],
 "metadata": {
  "kernelspec": {
   "display_name": "Python 3",
   "language": "python",
   "name": "python3"
  },
  "language_info": {
   "codemirror_mode": {
    "name": "ipython",
    "version": 3
   },
   "file_extension": ".py",
   "mimetype": "text/x-python",
   "name": "python",
   "nbconvert_exporter": "python",
   "pygments_lexer": "ipython3",
   "version": "3.8.5"
  }
 },
 "nbformat": 4,
 "nbformat_minor": 5
}

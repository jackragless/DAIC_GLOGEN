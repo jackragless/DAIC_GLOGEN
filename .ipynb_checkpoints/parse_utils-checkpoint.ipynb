{
 "cells": [
  {
   "cell_type": "code",
   "execution_count": 106,
   "id": "outdoor-madness",
   "metadata": {},
   "outputs": [
    {
     "name": "stderr",
     "output_type": "stream",
     "text": [
      "[nltk_data] Downloading package punkt to\n",
      "[nltk_data]     /home/jackragless/nltk_data...\n",
      "[nltk_data]   Package punkt is already up-to-date!\n",
      "[nltk_data] Downloading package benepar_en2 to\n",
      "[nltk_data]     /home/jackragless/nltk_data...\n",
      "[nltk_data]   Package benepar_en2 is already up-to-date!\n"
     ]
    }
   ],
   "source": [
    "import nltk\n",
    "nltk.download('punkt')\n",
    "import benepar\n",
    "benepar.download('benepar_en2')\n",
    "parser = benepar.Parser(\"benepar_en2\")\n",
    "norm_pos_tags = ['CC', 'CD', 'DT', 'EX', 'FW', 'IN', 'JJ', 'JJR', 'JJS', 'LS', 'MD', 'NN', 'NNS', 'NNP', 'NNPS', 'PDT', 'POS', 'PRP', 'PRP$', 'RB', 'RBR', 'RBS', 'RP', 'TO', 'UH', 'VB', 'VBG', 'VBD', 'VBN', 'VBP', 'VBZ', 'WDT', 'WP', 'WRB', ',', '.']"
   ]
  },
  {
   "cell_type": "code",
   "execution_count": 107,
   "id": "chief-setup",
   "metadata": {},
   "outputs": [],
   "source": [
    "def getAllNodes(parent, arr):\n",
    "    for node in parent:\n",
    "        if type(node) is nltk.Tree:\n",
    "            arr.append([node.label(),node.leaves()])\n",
    "            getAllNodes(node, arr)\n",
    "    return arr"
   ]
  },
  {
   "cell_type": "code",
   "execution_count": 124,
   "id": "joined-ladder",
   "metadata": {},
   "outputs": [],
   "source": [
    "def getPhraseNodes(parent, arr):\n",
    "    for node in parent:\n",
    "        if type(node) is nltk.Tree:\n",
    "            if node.label() == 'NP' and len(node.leaves()) in range(2,4):\n",
    "                temp_cat_str = ''\n",
    "                for leaf in node.leaves():\n",
    "                    temp_cat_str += ' ' + leaf\n",
    "                arr.append(['noun',temp_cat_str.strip()])\n",
    "            if node.label() == 'VP' and len(node.leaves()) in range(2,4):\n",
    "                temp_cat_str = ''\n",
    "                for leaf in node.leaves():\n",
    "                    temp_cat_str += ' ' + leaf\n",
    "                arr.append(['verb',temp_cat_str.strip()])\n",
    "            \n",
    "            getPhraseNodes(node, arr)\n",
    "    return arr"
   ]
  },
  {
   "cell_type": "code",
   "execution_count": 125,
   "id": "cosmetic-snowboard",
   "metadata": {},
   "outputs": [],
   "source": [
    "def getWordNodes(parent, arr):\n",
    "    for node in parent:\n",
    "        if type(node) is nltk.Tree:\n",
    "            if node.label() in norm_pos_tags:\n",
    "                for leaf in node.leaves():\n",
    "                    arr.append([node.label(),leaf])\n",
    "            getWordNodes(node, arr)\n",
    "    return arr"
   ]
  },
  {
   "cell_type": "code",
   "execution_count": 126,
   "id": "ongoing-feature",
   "metadata": {},
   "outputs": [],
   "source": [
    "def parseSent(sent):\n",
    "    return parser.parse(sent)"
   ]
  },
  {
   "cell_type": "code",
   "execution_count": null,
   "id": "institutional-breast",
   "metadata": {},
   "outputs": [],
   "source": []
  }
 ],
 "metadata": {
  "kernelspec": {
   "display_name": "Python 3",
   "language": "python",
   "name": "python3"
  },
  "language_info": {
   "codemirror_mode": {
    "name": "ipython",
    "version": 3
   },
   "file_extension": ".py",
   "mimetype": "text/x-python",
   "name": "python",
   "nbconvert_exporter": "python",
   "pygments_lexer": "ipython3",
   "version": "3.8.5"
  }
 },
 "nbformat": 4,
 "nbformat_minor": 5
}

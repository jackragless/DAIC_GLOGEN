{
 "cells": [
  {
   "cell_type": "code",
   "execution_count": 1,
   "id": "valuable-detective",
   "metadata": {},
   "outputs": [],
   "source": [
    "# ai_kw_detect module uses bert prediction taken sent_tokenized text and returns word tokens\n",
    "# tagged 'B', 'I', 'O' \n",
    "# https://en.wikipedia.org/wiki/Inside%E2%80%93outside%E2%80%93beginning_(tagging)"
   ]
  },
  {
   "cell_type": "code",
   "execution_count": 3,
   "id": "trying-occasion",
   "metadata": {},
   "outputs": [],
   "source": [
    "import simpletransformers\n",
    "import pickle\n",
    "from simpletransformers.ner import NERModel, NERArgs\n",
    "import torch\n",
    "import nltk"
   ]
  },
  {
   "cell_type": "code",
   "execution_count": 4,
   "id": "fixed-doctor",
   "metadata": {},
   "outputs": [],
   "source": [
    "if torch.cuda.is_available() == False:\n",
    "    print('!!!GPU not detected; required for AI module. Check graphic drivers!!!')"
   ]
  },
  {
   "cell_type": "code",
   "execution_count": 5,
   "id": "becoming-ground",
   "metadata": {},
   "outputs": [],
   "source": [
    "model = NERModel(\n",
    "    \"bert\", '/home/jackragless/projects/data/DAIC_GLOGEN/best_bert_kw_extract_model', labels= [\"B\", \"I\", \"O\"], use_cuda=True\n",
    ")"
   ]
  },
  {
   "cell_type": "code",
   "execution_count": 6,
   "id": "concerned-sierra",
   "metadata": {},
   "outputs": [],
   "source": [
    "# predict function reformats raw output\n",
    "def predict(sent_toks):\n",
    "    FINAL = []\n",
    "    accept = ['B','I']\n",
    "    # performing prediction using bert\n",
    "    predictions, raw_values = model.predict(sent_toks)\n",
    "\n",
    "    # separating predictions in non-keywords (\"O\" tokens), keywords (\"B\" tokens)\n",
    "    # and keyphrases (\"B,I...\" token sequence) \n",
    "    for sent in predictions:\n",
    "        temp = ''\n",
    "        temp_arr = []\n",
    "        for prediction in sent:\n",
    "            if list(prediction.values())[0] in accept:\n",
    "                temp += ' ' + list(prediction.keys())[0]\n",
    "            else:\n",
    "                if temp!='':\n",
    "                    temp_arr.append(temp.strip())\n",
    "                    temp = ''\n",
    "        FINAL.append(temp_arr)\n",
    "        \n",
    "    return FINAL"
   ]
  }
 ],
 "metadata": {
  "kernelspec": {
   "display_name": "Python 3",
   "language": "python",
   "name": "python3"
  },
  "language_info": {
   "codemirror_mode": {
    "name": "ipython",
    "version": 3
   },
   "file_extension": ".py",
   "mimetype": "text/x-python",
   "name": "python",
   "nbconvert_exporter": "python",
   "pygments_lexer": "ipython3",
   "version": "3.8.5"
  }
 },
 "nbformat": 4,
 "nbformat_minor": 5
}

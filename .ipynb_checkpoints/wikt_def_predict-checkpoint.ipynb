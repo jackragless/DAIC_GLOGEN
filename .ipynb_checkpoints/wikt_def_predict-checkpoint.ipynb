{
 "cells": [
  {
   "cell_type": "code",
   "execution_count": 1,
   "id": "likely-twins",
   "metadata": {},
   "outputs": [
    {
     "name": "stdout",
     "output_type": "stream",
     "text": [
      "importing Jupyter notebook from wiktionary_parser.ipynb\n",
      "importing Jupyter notebook from preprocess_utils.ipynb\n"
     ]
    },
    {
     "name": "stderr",
     "output_type": "stream",
     "text": [
      "[nltk_data] Downloading package wordnet to\n",
      "[nltk_data]     /home/jackragless/nltk_data...\n",
      "[nltk_data]   Package wordnet is already up-to-date!\n"
     ]
    },
    {
     "name": "stdout",
     "output_type": "stream",
     "text": [
      "importing Jupyter notebook from bert_semanitic_similarity_experiments.ipynb\n"
     ]
    }
   ],
   "source": [
    "import nltk\n",
    "import pickle\n",
    "import wikipedia\n",
    "import pandas as pd\n",
    "import numpy as np\n",
    "from statistics import mean\n",
    "\n",
    "stop_words = set(nltk.corpus.stopwords.words('english'))\n",
    "\n",
    "import import_ipynb\n",
    "import wiktionary_parser\n",
    "import preprocess_utils\n",
    "\n",
    "from gensim.models.doc2vec import Doc2Vec, TaggedDocument\n",
    "from gensim.models import Phrases\n",
    "import gensim.downloader\n",
    "glove_vectors = gensim.downloader.load('glove-wiki-gigaword-300')\n",
    "\n",
    "from semantic_text_similarity.models import ClinicalBertSimilarity"
   ]
  },
  {
   "cell_type": "code",
   "execution_count": null,
   "id": "welcome-imagination",
   "metadata": {},
   "outputs": [],
   "source": [
    "clinical_model = ClinicalBertSimilarity(device='cuda', batch_size=10)"
   ]
  },
  {
   "cell_type": "code",
   "execution_count": 37,
   "id": "spoken-harris",
   "metadata": {},
   "outputs": [],
   "source": [
    "def title_domain_predict(curtext, domain_arr):\n",
    "    \n",
    "    domains = []\n",
    "    for arr in domain_arr:\n",
    "        temp = []\n",
    "        for word in arr:\n",
    "            if word not in stop_words and word!=',':\n",
    "                temp.append(word)\n",
    "        domains.append(temp)\n",
    "\n",
    "    title_tokens = nltk.word_tokenize(title.lower())\n",
    "\n",
    "    \n",
    "    FINAL = []\n",
    "    for dt in domain_arr:\n",
    "        temp2 = []\n",
    "        for dtt in dt:\n",
    "            temp1 = []\n",
    "            for tt in title_tokens:\n",
    "                try:\n",
    "                    similarity = glove_vectors.similarity(dtt,tt)\n",
    "                except:\n",
    "                    similarity = 0\n",
    "                        \n",
    "                temp1.append(similarity)\n",
    "            temp2.append(np.mean(temp1))\n",
    "        FINAL.append(np.mean(temp2))\n",
    "    return FINAL"
   ]
  },
  {
   "cell_type": "code",
   "execution_count": 38,
   "id": "municipal-collins",
   "metadata": {},
   "outputs": [],
   "source": [
    "def semantic_predict(curtext, clean_defs):\n",
    "    final = []\n",
    "    for i in clean_defs:\n",
    "        temp = []\n",
    "        for j in nltk.sent_tokenize(curtext):\n",
    "                temp.append(clinical_model.predict([(j,i)]))\n",
    "        final.append(np.mean(temp))\n",
    "    return final"
   ]
  },
  {
   "cell_type": "code",
   "execution_count": 39,
   "id": "willing-wagner",
   "metadata": {},
   "outputs": [],
   "source": [
    "def embedded_driver(curtext, kw, pos):\n",
    "    orig_defs =  [obj['def'] for obj in wiktionary_parser.define(kw)[pos]]\n",
    "    domain_arr = [preprocess_utils.clean_text(sent[:sent.find(')')],False,False,True,True,True).replace('.','').replace('(','').strip().split(', ')for sent in orig_defs]\n",
    "    clean_defs = [preprocess_utils.clean_text(definition,False,True,True,True,True) for definition in orig_defs]\n",
    "    \n",
    "    predict1_probs = title_domain_predict(curtext, domain_arr)\n",
    "    \n",
    "    predict2_probs = semantic_predict(curtext, clean_defs)\n",
    "        \n",
    "    return predict1_probs, predict1_probs"
   ]
  },
  {
   "cell_type": "code",
   "execution_count": 40,
   "id": "characteristic-daughter",
   "metadata": {},
   "outputs": [
    {
     "ename": "NameError",
     "evalue": "name 'title' is not defined",
     "output_type": "error",
     "traceback": [
      "\u001b[0;31m---------------------------------------------------------------------------\u001b[0m",
      "\u001b[0;31mNameError\u001b[0m                                 Traceback (most recent call last)",
      "\u001b[0;32m<ipython-input-40-b7ca941d9911>\u001b[0m in \u001b[0;36m<module>\u001b[0;34m\u001b[0m\n\u001b[0;32m----> 1\u001b[0;31m \u001b[0membedded_driver\u001b[0m\u001b[0;34m(\u001b[0m\u001b[0;34m'computer'\u001b[0m\u001b[0;34m,\u001b[0m \u001b[0;34m'short'\u001b[0m\u001b[0;34m,\u001b[0m \u001b[0;34m'adjective'\u001b[0m\u001b[0;34m)\u001b[0m\u001b[0;34m\u001b[0m\u001b[0;34m\u001b[0m\u001b[0m\n\u001b[0m",
      "\u001b[0;32m<ipython-input-39-fce33b83293b>\u001b[0m in \u001b[0;36membedded_driver\u001b[0;34m(curtext, kw, pos)\u001b[0m\n\u001b[1;32m      4\u001b[0m     \u001b[0mclean_defs\u001b[0m \u001b[0;34m=\u001b[0m \u001b[0;34m[\u001b[0m\u001b[0mpreprocess_utils\u001b[0m\u001b[0;34m.\u001b[0m\u001b[0mclean_text\u001b[0m\u001b[0;34m(\u001b[0m\u001b[0mdefinition\u001b[0m\u001b[0;34m,\u001b[0m\u001b[0;32mFalse\u001b[0m\u001b[0;34m,\u001b[0m\u001b[0;32mTrue\u001b[0m\u001b[0;34m,\u001b[0m\u001b[0;32mTrue\u001b[0m\u001b[0;34m,\u001b[0m\u001b[0;32mTrue\u001b[0m\u001b[0;34m,\u001b[0m\u001b[0;32mTrue\u001b[0m\u001b[0;34m)\u001b[0m \u001b[0;32mfor\u001b[0m \u001b[0mdefinition\u001b[0m \u001b[0;32min\u001b[0m \u001b[0morig_defs\u001b[0m\u001b[0;34m]\u001b[0m\u001b[0;34m\u001b[0m\u001b[0;34m\u001b[0m\u001b[0m\n\u001b[1;32m      5\u001b[0m \u001b[0;34m\u001b[0m\u001b[0m\n\u001b[0;32m----> 6\u001b[0;31m     \u001b[0mpredict1_probs\u001b[0m \u001b[0;34m=\u001b[0m \u001b[0mtitle_domain_predict\u001b[0m\u001b[0;34m(\u001b[0m\u001b[0mcurtext\u001b[0m\u001b[0;34m,\u001b[0m \u001b[0mdomain_arr\u001b[0m\u001b[0;34m)\u001b[0m\u001b[0;34m\u001b[0m\u001b[0;34m\u001b[0m\u001b[0m\n\u001b[0m\u001b[1;32m      7\u001b[0m \u001b[0;34m\u001b[0m\u001b[0m\n\u001b[1;32m      8\u001b[0m     \u001b[0mpredict2_probs\u001b[0m \u001b[0;34m=\u001b[0m \u001b[0msemantic_predict\u001b[0m\u001b[0;34m(\u001b[0m\u001b[0mcurtext\u001b[0m\u001b[0;34m,\u001b[0m \u001b[0mclean_defs\u001b[0m\u001b[0;34m)\u001b[0m\u001b[0;34m\u001b[0m\u001b[0;34m\u001b[0m\u001b[0m\n",
      "\u001b[0;32m<ipython-input-37-a5657a2a9970>\u001b[0m in \u001b[0;36mtitle_domain_predict\u001b[0;34m(curtext, domain_arr)\u001b[0m\n\u001b[1;32m      9\u001b[0m         \u001b[0mdomains\u001b[0m\u001b[0;34m.\u001b[0m\u001b[0mappend\u001b[0m\u001b[0;34m(\u001b[0m\u001b[0mtemp\u001b[0m\u001b[0;34m)\u001b[0m\u001b[0;34m\u001b[0m\u001b[0;34m\u001b[0m\u001b[0m\n\u001b[1;32m     10\u001b[0m \u001b[0;34m\u001b[0m\u001b[0m\n\u001b[0;32m---> 11\u001b[0;31m     \u001b[0mtitle_tokens\u001b[0m \u001b[0;34m=\u001b[0m \u001b[0mnltk\u001b[0m\u001b[0;34m.\u001b[0m\u001b[0mword_tokenize\u001b[0m\u001b[0;34m(\u001b[0m\u001b[0mtitle\u001b[0m\u001b[0;34m.\u001b[0m\u001b[0mlower\u001b[0m\u001b[0;34m(\u001b[0m\u001b[0;34m)\u001b[0m\u001b[0;34m)\u001b[0m\u001b[0;34m\u001b[0m\u001b[0;34m\u001b[0m\u001b[0m\n\u001b[0m\u001b[1;32m     12\u001b[0m \u001b[0;34m\u001b[0m\u001b[0m\n\u001b[1;32m     13\u001b[0m \u001b[0;34m\u001b[0m\u001b[0m\n",
      "\u001b[0;31mNameError\u001b[0m: name 'title' is not defined"
     ]
    }
   ],
   "source": [
    "embedded_driver('computer', 'short', 'adjective')"
   ]
  },
  {
   "cell_type": "code",
   "execution_count": null,
   "id": "industrial-guinea",
   "metadata": {},
   "outputs": [],
   "source": [
    "# def main_driver()"
   ]
  }
 ],
 "metadata": {
  "kernelspec": {
   "display_name": "Python 3",
   "language": "python",
   "name": "python3"
  },
  "language_info": {
   "codemirror_mode": {
    "name": "ipython",
    "version": 3
   },
   "file_extension": ".py",
   "mimetype": "text/x-python",
   "name": "python",
   "nbconvert_exporter": "python",
   "pygments_lexer": "ipython3",
   "version": "3.8.5"
  }
 },
 "nbformat": 4,
 "nbformat_minor": 5
}

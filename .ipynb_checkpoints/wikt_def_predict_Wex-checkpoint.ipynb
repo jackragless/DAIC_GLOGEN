{
 "cells": [
  {
   "cell_type": "code",
   "execution_count": 3,
   "id": "engaging-effort",
   "metadata": {},
   "outputs": [
    {
     "name": "stdout",
     "output_type": "stream",
     "text": [
      "importing Jupyter notebook from preprocess_utils.ipynb\n",
      "importing Jupyter notebook from wikt_def_parse_Wex.ipynb\n"
     ]
    },
    {
     "name": "stderr",
     "output_type": "stream",
     "text": [
      "[nltk_data] Downloading package wordnet to\n",
      "[nltk_data]     /home/jackragless/nltk_data...\n",
      "[nltk_data]   Package wordnet is already up-to-date!\n"
     ]
    }
   ],
   "source": [
    "import nltk\n",
    "import pickle\n",
    "import wikipedia\n",
    "import pandas as pd\n",
    "import numpy as np\n",
    "from statistics import mean\n",
    "\n",
    "stop_words = set(nltk.corpus.stopwords.words('english'))\n",
    "\n",
    "import import_ipynb\n",
    "import preprocess_utils\n",
    "# import wikt_def_parse\n",
    "import wikt_def_parse_Wex\n",
    "\n",
    "# from gensim.models.doc2vec import Doc2Vec, TaggedDocument\n",
    "# from gensim.models import Phrases\n",
    "# import gensim.downloader\n",
    "###THIS IS SLOWING DOWN INITIALISATION\n",
    "# glove_vectors = gensim.downloader.load('glove-wiki-gigaword-300') #75s loadtime\n",
    "# glove_vectors = gensim.downloader.load('glove-wiki-gigaword-50')#18s loadtime\n",
    "\n",
    "from semantic_text_similarity.models import ClinicalBertSimilarity\n",
    "\n",
    "from nltk.stem.porter import PorterStemmer\n",
    "porter_stemmer = PorterStemmer()\n",
    "\n",
    "from nltk.stem import WordNetLemmatizer \n",
    "lemmatizer = WordNetLemmatizer()"
   ]
  },
  {
   "cell_type": "code",
   "execution_count": 4,
   "id": "grateful-mercy",
   "metadata": {},
   "outputs": [],
   "source": [
    "clinical_model = ClinicalBertSimilarity(device='cuda', batch_size=10)"
   ]
  },
  {
   "cell_type": "code",
   "execution_count": 5,
   "id": "sought-design",
   "metadata": {},
   "outputs": [],
   "source": [
    "def title_domain_predict(title, domain_arr, domain_exclusions):\n",
    "    \n",
    "    domains = []\n",
    "    for arr in domain_arr:\n",
    "        temp = []\n",
    "        for word in arr:\n",
    "            if word not in stop_words and word!=',':\n",
    "                temp.append(word)\n",
    "        domains.append(temp)\n",
    "\n",
    "    title_tokens = nltk.word_tokenize(title.lower())\n",
    "\n",
    "    \n",
    "    FINAL = []\n",
    "    for dt in domain_arr:\n",
    "        condition = False\n",
    "        for excl in domain_exclusions:\n",
    "            if excl in dt:\n",
    "                condition = True\n",
    "                break\n",
    "                \n",
    "                \n",
    "        if condition == True:\n",
    "            FINAL.append(0)\n",
    "            \n",
    "            \n",
    "        else: \n",
    "            if dt[0] == 'general':\n",
    "                FINAL.append(0)  \n",
    "            else:\n",
    "                temp3 = []\n",
    "                for dtt in dt:\n",
    "                    temp2 = []\n",
    "                    for dttt in dtt.split():\n",
    "                        temp1 = []\n",
    "                        for tt in title_tokens:\n",
    "                            try:\n",
    "                                similarity = glove_vectors.similarity(dttt,tt)\n",
    "                            except:\n",
    "                                similarity = 0\n",
    "                            temp1.append(similarity)\n",
    "                        temp2.append(np.mean(temp1))\n",
    "                    temp3.append(np.mean(temp2))\n",
    "                FINAL.append(np.mean(temp3))\n",
    "    return FINAL"
   ]
  },
  {
   "cell_type": "code",
   "execution_count": 6,
   "id": "eligible-guinea",
   "metadata": {},
   "outputs": [],
   "source": [
    "def def_semantic_predict(curtext, clean_defs, domain_exclusions):\n",
    "    final = []\n",
    "    for i in clean_defs:\n",
    "        if nltk.word_tokenize(i)[0] in domain_exclusions:\n",
    "            final.append(0)\n",
    "        else:\n",
    "            temp = []\n",
    "            for j in nltk.sent_tokenize(curtext):\n",
    "                temp.append(clinical_model.predict([(j,i)]))\n",
    "            final.append(np.mean(temp))\n",
    "    return final"
   ]
  },
  {
   "cell_type": "code",
   "execution_count": 7,
   "id": "dynamic-transcription",
   "metadata": {},
   "outputs": [],
   "source": [
    "def def_semantic_predict_2(curtext, clean_defs, domain_exclusions):\n",
    "    final = []\n",
    "    for i in clean_defs:\n",
    "        if nltk.word_tokenize(i)[0] in domain_exclusions:\n",
    "            final.append(0)\n",
    "        else:\n",
    "            final.append(clinical_model.predict([(i,curtext)]))\n",
    "    return final"
   ]
  },
  {
   "cell_type": "code",
   "execution_count": 8,
   "id": "thousand-adolescent",
   "metadata": {},
   "outputs": [],
   "source": [
    "#in progress\n",
    "def ex_semantic_predict(curtext, clean_exs, kw):\n",
    "\n",
    "    final = []\n",
    "    main_count = 0\n",
    "    for ex in clean_exs:\n",
    "        print(main_count,'/',len(clean_exs))\n",
    "        if ex == 'null':\n",
    "            final.append(0)\n",
    "        else:\n",
    "            temp2 = []\n",
    "            for ex_tok in ex:\n",
    "                temp1 = []\n",
    "                count = 0\n",
    "                for text_tok in nltk.sent_tokenize(curtext):\n",
    "                    count += 1\n",
    "                    if count > 50:\n",
    "                        break\n",
    "#                     if text_tok.find('kw')!=-1:\n",
    "                    temp1.append(clinical_model.predict([(text_tok,ex_tok)]))\n",
    "                temp2.append(np.mean(temp1))\n",
    "            final.append(np.mean(temp2))\n",
    "            main_count += 1\n",
    "    return final\n",
    "            \n",
    "    "
   ]
  },
  {
   "cell_type": "code",
   "execution_count": 9,
   "id": "through-thailand",
   "metadata": {},
   "outputs": [],
   "source": [
    "def select_best_index(predict1_probs, predict2_probs):\n",
    "#     if len(predict1_probs)>2:\n",
    "#         num = np.max([2,int(0.2*len(predict1_probs))])\n",
    "        \n",
    "#         predict1_argsort = list(np.argsort(predict1_probs)[::-1])[:num]\n",
    "#         predict2_argsort = list(np.argsort(predict2_probs)[::-1])[:num]\n",
    "        \n",
    "#         for i in predict1_argsort:\n",
    "#             if i in predict2_argsort:\n",
    "#                 return i\n",
    "#         return predict1_argsort[0]\n",
    "        \n",
    "#     else:\n",
    "        return np.where(predict1_probs == np.max(predict1_probs))[0][0]"
   ]
  },
  {
   "cell_type": "code",
   "execution_count": 37,
   "id": "electronic-carroll",
   "metadata": {},
   "outputs": [],
   "source": [
    "def driver(title, curtext, kw, pos):\n",
    "    \n",
    "    try:\n",
    "        wikt_object = wikt_def_parse_Wex.define(kw)[pos]\n",
    "    except IndexError:\n",
    "        try:\n",
    "            wikt_object = wikt_def_parse_Wex.define(kw.lower())[pos]\n",
    "#         except IndexError:\n",
    "#             return 'invalid-term'\n",
    "#         except KeyError:\n",
    "#             return 'invalid-term'\n",
    "        except IndexError:\n",
    "            try:\n",
    "                wiki = nltk.sent_tokenize(wikipedia.page(kw).content)[0]\n",
    "                return wiki\n",
    "            except:\n",
    "                return 'invalid-term'\n",
    "            \n",
    "        except KeyError:\n",
    "            try:\n",
    "                wiki = nltk.sent_tokenize(wikipedia.page(kw).content)[0]\n",
    "                return wiki\n",
    "            except:\n",
    "                return 'invalid-term'\n",
    "            \n",
    "    except KeyError:\n",
    "        return 'invalid-pos'\n",
    "    \n",
    "        \n",
    "    orig_defs = [obj['def'] for obj in wikt_object]\n",
    "    domain_arr = [preprocess_utils.clean_text(sent[:sent.find(')')],False,False,True,True,True).replace('.','').replace('(','').strip().split(', ')for sent in orig_defs]\n",
    "    clean_defs = [preprocess_utils.clean_text(definition,False,True,True,True,True) for definition in orig_defs]\n",
    "    curtext = preprocess_utils.clean_text(curtext,True,True,True,True,True)\n",
    "    domain_exclusions = ['dated', 'obsolete', 'rare']\n",
    "    \n",
    "    \n",
    "    predict1_probs = def_semantic_predict_2(curtext, clean_defs, domain_exclusions)\n",
    "    predict2_probs = title_domain_predict(title, domain_arr, domain_exclusions)\n",
    "\n",
    "    best_index = select_best_index(predict1_probs, predict2_probs)\n",
    "    \n",
    "    \n",
    "    prediction = orig_defs[best_index]\n",
    "    \n",
    "    if (prediction.find('plural of')!=-1 or prediction.find('past participle')!=-1):\n",
    "        lemmat_kw = ''\n",
    "        for word in nltk.word_tokenize(kw):\n",
    "            lemmat_kw += ' ' + lemmatizer.lemmatize(word)\n",
    "        lemmat_kw = lemmat_kw.strip()\n",
    "        \n",
    "        if lemmat_kw!=kw:\n",
    "            prediction = driver(title, curtext, lemmat_kw, pos)\n",
    "        \n",
    "    return prediction\n",
    "\n",
    "#     return predict1_probs, predict2_probs\n"
   ]
  },
  {
   "cell_type": "code",
   "execution_count": 43,
   "id": "stable-crown",
   "metadata": {},
   "outputs": [
    {
     "data": {
      "text/plain": [
       "'(Australia, New Zealand, Britain, informal) Afternoon.'"
      ]
     },
     "execution_count": 43,
     "metadata": {},
     "output_type": "execute_result"
    }
   ],
   "source": [
    "# kw_arr = ['thong', 'arvo', 'fair dinkum']\n",
    "# curtext = wikipedia.page('Australia').content\n",
    "# driver('Australia',curtext,'arvo','noun')"
   ]
  }
 ],
 "metadata": {
  "kernelspec": {
   "display_name": "Python 3",
   "language": "python",
   "name": "python3"
  },
  "language_info": {
   "codemirror_mode": {
    "name": "ipython",
    "version": 3
   },
   "file_extension": ".py",
   "mimetype": "text/x-python",
   "name": "python",
   "nbconvert_exporter": "python",
   "pygments_lexer": "ipython3",
   "version": "3.8.5"
  }
 },
 "nbformat": 4,
 "nbformat_minor": 5
}

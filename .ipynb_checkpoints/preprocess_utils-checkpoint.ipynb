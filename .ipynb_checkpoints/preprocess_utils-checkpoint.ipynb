{
 "cells": [
  {
   "cell_type": "code",
   "execution_count": 5,
   "id": "gross-happiness",
   "metadata": {},
   "outputs": [],
   "source": [
    "import nltk\n",
    "from nltk.corpus import stopwords\n",
    "import re\n",
    "stop_words = set(stopwords.words('english'))"
   ]
  },
  {
   "cell_type": "code",
   "execution_count": 6,
   "id": "hydraulic-configuration",
   "metadata": {},
   "outputs": [],
   "source": [
    "def clean_text(test_str):\n",
    "    clean_text = re.sub(\"[\\[\\(].*?[\\]\\)]\", \"\", test_str.replace('\\n',''))\n",
    "    final = ''\n",
    "    for i in clean_text:\n",
    "        if i.isalpha() or i.isdigit() or i=='-' or i==' ' or i=='.':\n",
    "            final += i\n",
    "            \n",
    "    for i in range(len(final)-2):\n",
    "        if (final[i].isalpha() and final[i].islower() and final[i]!=' ') and (final[i+1] == '.') and (final[i+2].isalpha() and final[i+2].isupper()):\n",
    "            final = final[:i+1] + '. ' + final[i+2:]\n",
    "            \n",
    "    final = re.sub(' +', ' ', final).replace(' .','.').strip()\n",
    "    \n",
    "    return final"
   ]
  },
  {
   "cell_type": "code",
   "execution_count": 7,
   "id": "western-authority",
   "metadata": {},
   "outputs": [],
   "source": [
    "def clean_text_keep_bracket_content(test_str):\n",
    "    clean_text = test_str.replace('\\n','')\n",
    "    final = ''\n",
    "    for i in clean_text:\n",
    "        if i.isalpha() or i.isdigit() or i=='-' or i==' ' or i=='.':\n",
    "            final += i\n",
    "            \n",
    "    for i in range(len(final)-2):\n",
    "        if (final[i].isalpha() and final[i].islower() and final[i]!=' ') and (final[i+1] == '.') and (final[i+2].isalpha() and final[i+2].isupper()):\n",
    "            final = final[:i+1] + '. ' + final[i+2:]\n",
    "            \n",
    "    final = re.sub(' +', ' ', final).replace(' .','.').strip()\n",
    "    \n",
    "    return final"
   ]
  },
  {
   "cell_type": "code",
   "execution_count": 8,
   "id": "dangerous-import",
   "metadata": {},
   "outputs": [],
   "source": [
    "def clean_text_keep_grammar(text):\n",
    "    \n",
    "    \n",
    "        \n",
    "    final = text.replace('\\n','').replace('\"',\"'\").replace('=','')\n",
    "            \n",
    "    \n",
    "    for i in range(len(final)-2):\n",
    "        if (final[i].isalpha() and final[i].islower() and final[i]!=' ') and (final[i+1] == '.') and (final[i+2].isalpha() and final[i+2].isupper()):\n",
    "            final = final[:i+1] + '. ' + final[i+2:]\n",
    "            \n",
    "    final = re.sub(' +', ' ', final).replace(' .','.').strip()\n",
    "\n",
    "    \n",
    "    return final"
   ]
  },
  {
   "cell_type": "code",
   "execution_count": 2,
   "id": "adverse-missile",
   "metadata": {},
   "outputs": [],
   "source": [
    "def pos_tag(text): \n",
    "    for_tagging = []\n",
    "    for sent in nltk.sent_tokenize(text):\n",
    "        if sent[-1] == '.':\n",
    "            for_tagging.append(nltk.word_tokenize(sent[:-1]))\n",
    "        else:\n",
    "            for_tagging.append(nltk.word_tokenize(sent))\n",
    "\n",
    "    tagged = []\n",
    "    sent_num = 0\n",
    "    for sent in for_tagging:\n",
    "        sent_num += 1\n",
    "        for word in nltk.pos_tag(sent):\n",
    "            if word[0].lower() not in stop_words:\n",
    "                word = list(word)\n",
    "                word.insert(0,sent_num)\n",
    "                tagged.append(word)\n",
    "    return tagged"
   ]
  },
  {
   "cell_type": "code",
   "execution_count": null,
   "id": "chemical-brooklyn",
   "metadata": {},
   "outputs": [],
   "source": []
  }
 ],
 "metadata": {
  "kernelspec": {
   "display_name": "Python 3",
   "language": "python",
   "name": "python3"
  },
  "language_info": {
   "codemirror_mode": {
    "name": "ipython",
    "version": 3
   },
   "file_extension": ".py",
   "mimetype": "text/x-python",
   "name": "python",
   "nbconvert_exporter": "python",
   "pygments_lexer": "ipython3",
   "version": "3.8.5"
  }
 },
 "nbformat": 4,
 "nbformat_minor": 5
}

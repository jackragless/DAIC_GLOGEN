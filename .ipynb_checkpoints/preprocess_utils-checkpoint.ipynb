{
 "cells": [
  {
   "cell_type": "code",
   "execution_count": 2,
   "id": "civilian-finland",
   "metadata": {},
   "outputs": [
    {
     "name": "stderr",
     "output_type": "stream",
     "text": [
      "[nltk_data] Downloading package wordnet to\n",
      "[nltk_data]     /home/jackragless/nltk_data...\n",
      "[nltk_data]   Package wordnet is already up-to-date!\n"
     ]
    }
   ],
   "source": [
    "import nltk\n",
    "from nltk.corpus import stopwords\n",
    "stop_words = set(stopwords.words('english'))\n",
    "import re\n",
    "nltk.download('wordnet')\n",
    "from nltk.stem import WordNetLemmatizer \n",
    "lemmatizer = WordNetLemmatizer()\n",
    "from nltk.tokenize.treebank import TreebankWordDetokenizer"
   ]
  },
  {
   "cell_type": "code",
   "execution_count": 34,
   "id": "downtown-project",
   "metadata": {},
   "outputs": [],
   "source": [
    "def remove_grammar(text_to_clean):\n",
    "    final = ''\n",
    "    for i in text_to_clean:\n",
    "        if i.isalpha() or i.isdigit() or i=='-' or i==' ' or i=='.':\n",
    "            final += i\n",
    "    return final"
   ]
  },
  {
   "cell_type": "code",
   "execution_count": 21,
   "id": "differential-fusion",
   "metadata": {},
   "outputs": [],
   "source": [
    "def remove_bracket_content(text_to_clean):\n",
    "    return re.sub(\"[\\[\\(].*?[\\]\\)]\", \"\", text_to_clean)"
   ]
  },
  {
   "cell_type": "code",
   "execution_count": 71,
   "id": "sixth-privacy",
   "metadata": {},
   "outputs": [],
   "source": [
    "def fix_nospace_sents(text_to_clean):\n",
    "    final = text_to_clean\n",
    "    for i in range(len(final)-2):\n",
    "        if (final[i].isalpha() and final[i].islower()) and final[i+1] == '.' and (final[i+2].isalpha() and final[i+2].isupper()):\n",
    "            final = final[:i+2] + ' ' + final[i+2:]\n",
    "    return final"
   ]
  },
  {
   "cell_type": "code",
   "execution_count": 72,
   "id": "public-floating",
   "metadata": {},
   "outputs": [],
   "source": [
    "def print_settings():\n",
    "    print(\"\"\"\n",
    "        1) remove_bracket_content_bool\n",
    "        2) remove_grammar_bool\n",
    "        3) remove_stopword_bool\n",
    "        4) lemmatize_bool\n",
    "        5) lowercase_bool\n",
    "        \"\"\"\n",
    "    )"
   ]
  },
  {
   "cell_type": "code",
   "execution_count": 73,
   "id": "worse-height",
   "metadata": {},
   "outputs": [],
   "source": [
    "def clean_text(text_to_clean, remove_bracket_content_bool, remove_grammar_bool, remove_stopword_bool, lemmatize_bool, lowercase_bool):\n",
    "\n",
    "    text_to_clean = text_to_clean.replace('\\n','').replace('\"',\"'\").replace('=','')\n",
    "    \n",
    "    text_to_clean = fix_nospace_sents(text_to_clean)\n",
    "\n",
    "    \n",
    "    if remove_bracket_content_bool == True:\n",
    "        text_to_clean = remove_bracket_content(text_to_clean)\n",
    "    \n",
    "    if remove_grammar_bool == True:\n",
    "        text_to_clean = remove_grammar(text_to_clean)\n",
    "        \n",
    "    clean_sent_arr = []\n",
    "        \n",
    "    for sent in nltk.sent_tokenize(text_to_clean):\n",
    "        \n",
    "        temp_sent = []\n",
    "        \n",
    "        if lowercase_bool == True:\n",
    "            sent = sent.lower()\n",
    "        \n",
    "        if remove_stopword_bool == True and lemmatize_bool == True:\n",
    "            for word in nltk.word_tokenize(sent):   \n",
    "                if word.lower() not in stop_words:\n",
    "                    temp_sent.append(lemmatizer.lemmatize(word))\n",
    "                    \n",
    "        if remove_stopword_bool == False and lemmatize_bool == False:\n",
    "            for word in nltk.word_tokenize(sent):   \n",
    "                    temp_sent.append(word)\n",
    "\n",
    "        elif remove_stopword_bool == False and lemmatize_bool == True:\n",
    "            for word in nltk.word_tokenize(sent):   \n",
    "                    temp_sent.append(lemmatizer.lemmatize(word))\n",
    "                    \n",
    "        elif remove_stopword_bool == True and lemmatize_bool == False:\n",
    "            for word in nltk.word_tokenize(sent):   \n",
    "                if word.lower() not in stop_words:\n",
    "                    temp_sent.append(word) \n",
    "                    \n",
    "        clean_sent_arr.append(TreebankWordDetokenizer().detokenize(temp_sent))\n",
    "        \n",
    "    final_clean_text = ' '.join(clean_sent_arr)\n",
    "    final_clean_text = re.sub(' +', ' ', final_clean_text).strip()\n",
    "\n",
    "    return final_clean_text"
   ]
  },
  {
   "cell_type": "code",
   "execution_count": 6,
   "id": "chubby-marshall",
   "metadata": {},
   "outputs": [],
   "source": [
    "def pos_tag(text): \n",
    "    for_tagging = []\n",
    "    for sent in nltk.sent_tokenize(text):\n",
    "        if sent[-1] == '.':\n",
    "            for_tagging.append(nltk.word_tokenize(sent[:-1]))\n",
    "        else:\n",
    "            for_tagging.append(nltk.word_tokenize(sent))\n",
    "\n",
    "    tagged = []\n",
    "    sent_num = 0\n",
    "    for sent in for_tagging:\n",
    "        sent_num += 1\n",
    "        for word in nltk.pos_tag(sent):\n",
    "            if word[0].lower() not in stop_words:\n",
    "                word = list(word)\n",
    "                word.insert(0,sent_num)\n",
    "                tagged.append(word)\n",
    "    return tagged"
   ]
  }
 ],
 "metadata": {
  "kernelspec": {
   "display_name": "Python 3",
   "language": "python",
   "name": "python3"
  },
  "language_info": {
   "codemirror_mode": {
    "name": "ipython",
    "version": 3
   },
   "file_extension": ".py",
   "mimetype": "text/x-python",
   "name": "python",
   "nbconvert_exporter": "python",
   "pygments_lexer": "ipython3",
   "version": "3.8.5"
  }
 },
 "nbformat": 4,
 "nbformat_minor": 5
}

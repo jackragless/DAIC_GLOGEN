{
 "cells": [
  {
   "cell_type": "code",
   "execution_count": 1,
   "id": "controlling-celebrity",
   "metadata": {},
   "outputs": [
    {
     "name": "stdout",
     "output_type": "stream",
     "text": [
      "importing Jupyter notebook from wiktionary_parser.ipynb\n",
      "importing Jupyter notebook from preprocess_utils.ipynb\n"
     ]
    },
    {
     "name": "stderr",
     "output_type": "stream",
     "text": [
      "[nltk_data] Downloading package wordnet to\n",
      "[nltk_data]     /home/jackragless/nltk_data...\n",
      "[nltk_data]   Package wordnet is already up-to-date!\n"
     ]
    }
   ],
   "source": [
    "from semantic_text_similarity.models import ClinicalBertSimilarity\n",
    "\n",
    "import nltk\n",
    "import pickle\n",
    "from nltk.corpus import stopwords\n",
    "stop_words = set(stopwords.words('english'))\n",
    "import import_ipynb\n",
    "import wiktionary_parser\n",
    "import preprocess_utils\n",
    "import wikipedia\n",
    "import pandas as pd\n",
    "import numpy as np\n",
    "from statistics import mean"
   ]
  },
  {
   "cell_type": "code",
   "execution_count": 2,
   "id": "aggressive-drove",
   "metadata": {},
   "outputs": [],
   "source": [
    "clinical_model = ClinicalBertSimilarity(device='cuda', batch_size=10)"
   ]
  },
  {
   "cell_type": "code",
   "execution_count": 9,
   "id": "adolescent-webcam",
   "metadata": {},
   "outputs": [],
   "source": [
    "def semantic_predict_1(curtext,defs):\n",
    "    final = []\n",
    "    for i in defs:\n",
    "        temp = []\n",
    "        for j in nltk.sent_tokenize(curtext):\n",
    "                temp.append(clinical_model.predict([(j,i)]))\n",
    "        final.append(np.mean(temp))\n",
    "    return final"
   ]
  },
  {
   "cell_type": "code",
   "execution_count": 11,
   "id": "pleasant-basics",
   "metadata": {},
   "outputs": [],
   "source": [
    "def semantic_predict_2(curtext,defs):\n",
    "    final = []\n",
    "    for i in defs:\n",
    "        final.append(clinical_model.predict([(curtext,i)]))\n",
    "    return final"
   ]
  },
  {
   "cell_type": "code",
   "execution_count": 12,
   "id": "retained-toyota",
   "metadata": {},
   "outputs": [],
   "source": [
    "def semantic_predict_3(curtext,defs,kw):\n",
    "    final = []\n",
    "    for i in defs:\n",
    "        temp = []\n",
    "        for j in nltk.sent_tokenize(curtext):\n",
    "            if j.find(kw)!=-1:\n",
    "                temp.append(clinical_model.predict([(j,i)]))\n",
    "        if temp:\n",
    "            final.append(np.mean(temp))\n",
    "        else:\n",
    "            final.append(0)\n",
    "    return final"
   ]
  },
  {
   "cell_type": "code",
   "execution_count": 1,
   "id": "boxed-portrait",
   "metadata": {},
   "outputs": [],
   "source": [
    "def semantic_predict_4(curtext,defs):\n",
    "    final = []\n",
    "    for i in defs:\n",
    "        temp = []\n",
    "        count = 0\n",
    "        for j in nltk.sent_tokenize(curtext):\n",
    "            temp.append(clinical_model.predict([(j,i)]))\n",
    "            count += 1\n",
    "            if count>20:\n",
    "                break\n",
    "        final.append(np.mean(temp))\n",
    "        \n",
    "    return final"
   ]
  },
  {
   "cell_type": "code",
   "execution_count": null,
   "id": "julian-commons",
   "metadata": {},
   "outputs": [],
   "source": []
  }
 ],
 "metadata": {
  "kernelspec": {
   "display_name": "Python 3",
   "language": "python",
   "name": "python3"
  },
  "language_info": {
   "codemirror_mode": {
    "name": "ipython",
    "version": 3
   },
   "file_extension": ".py",
   "mimetype": "text/x-python",
   "name": "python",
   "nbconvert_exporter": "python",
   "pygments_lexer": "ipython3",
   "version": "3.8.5"
  }
 },
 "nbformat": 4,
 "nbformat_minor": 5
}

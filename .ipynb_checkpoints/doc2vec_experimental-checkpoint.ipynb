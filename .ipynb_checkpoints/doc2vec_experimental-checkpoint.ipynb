{
 "cells": [
  {
   "cell_type": "code",
   "execution_count": 1,
   "id": "bronze-professor",
   "metadata": {},
   "outputs": [
    {
     "name": "stdout",
     "output_type": "stream",
     "text": [
      "importing Jupyter notebook from wikt_def_gen.ipynb\n",
      "importing Jupyter notebook from preprocess_utils.ipynb\n"
     ]
    }
   ],
   "source": [
    "from gensim.models.doc2vec import Doc2Vec, TaggedDocument\n",
    "import nltk\n",
    "from nltk.tokenize import word_tokenize\n",
    "import pickle\n",
    "from nltk.corpus import stopwords\n",
    "stop_words = set(stopwords.words('english'))\n",
    "import import_ipynb\n",
    "import wikt_def_gen\n",
    "from statistics import mean\n",
    "import preprocess_utils\n",
    "import wikipedia\n",
    "import pandas as pd"
   ]
  },
  {
   "cell_type": "code",
   "execution_count": 2,
   "id": "innocent-garlic",
   "metadata": {},
   "outputs": [],
   "source": [
    "def model_gen(curtext):\n",
    "    sents = []\n",
    "    for sent in nltk.sent_tokenize(curtext):\n",
    "        temp = []\n",
    "        for word in nltk.word_tokenize(sent.lower()):\n",
    "                temp.append(word)\n",
    "        sents.append(temp)\n",
    "\n",
    "    tagged_data = [TaggedDocument(d, [i]) for i, d in enumerate(sents)]\n",
    "\n",
    "    model = Doc2Vec(tagged_data, vector_size=20, window=2, min_count=1, workers=4, epochs = 100)\n",
    "    \n",
    "    return model"
   ]
  },
  {
   "cell_type": "code",
   "execution_count": 3,
   "id": "arabic-jacksonville",
   "metadata": {},
   "outputs": [
    {
     "data": {
      "text/plain": [
       "{'noun': ['(general) Any small rodent of the genus Mus.',\n",
       "  '(informal) A member of the many small rodent and marsupial species resembling such a rodent.',\n",
       "  '(general) A quiet or shy person.',\n",
       "  '(computing) (plural mice or, rarely, mouses) An input device that is moved over a pad or other flat surface to produce a corresponding movement of a pointer on a graphical display.',\n",
       "  '(boxing) A facial hematoma or black eye.',\n",
       "  '(nautical) A turn or lashing of spun yarn or small stuff, or a metallic clasp or fastening, uniting the point and shank of a hook to prevent its unhooking or straightening out.',\n",
       "  '(obsolete) A familiar term of endearment.',\n",
       "  '(general) A match used in firing guns or blasting.',\n",
       "  '(set theory) A small model of (a fragment of) Zermelo-Fraenkel set theory with desirable properties (depending on the context).',\n",
       "  \"(historical) A small cushion for a woman's hair.\"],\n",
       " 'verb': ['(intransitive) To move cautiously or furtively, in the manner of a mouse (the rodent) (frequently used in the phrasal verb to mouse around).',\n",
       "  '(intransitive) To hunt or catch mice (the rodents), usually of cats. [from 12th c.]',\n",
       "  '(transitive, nautical) To close the mouth of a hook by a careful binding of marline or wire.',\n",
       "  '(intransitive, computing) To navigate by means of a computer mouse.',\n",
       "  '(obsolete, nonce word, transitive) To tear, as a cat devours a mouse.']}"
      ]
     },
     "execution_count": 3,
     "metadata": {},
     "output_type": "execute_result"
    }
   ],
   "source": [
    "wikt_def_gen.extract('mouse')"
   ]
  },
  {
   "cell_type": "code",
   "execution_count": null,
   "id": "inside-amber",
   "metadata": {},
   "outputs": [],
   "source": [
    "def model_predict(model, kw, pos):\n",
    "    term_to_define = wikt_def_gen.extract(kw)[pos]\n",
    "    \n",
    "    for candidate in term_to_define:\n",
    "        final_candidate = []\n",
    "        for cand_word in word_tokenize(preprocess_utils.clean_text_keep_bracket_content(candidate)):\n",
    "            if cand_word.lower() not in stop_words:\n",
    "                final_candidate.append(cand_word)\n",
    "            \n",
    "    return mean([obj[1] for obj in model.docvecs.most_similar(positive=[model.infer_vector(final_candidate)], topn = 10000)])\n",
    "#     print(' '.join(final_candidate), '<--->', mean([obj[1] for obj in model.docvecs.most_similar(positive=[model.infer_vector(final_candidate)], topn = len(tagged_data))]))"
   ]
  },
  {
   "cell_type": "code",
   "execution_count": null,
   "id": "bridal-peripheral",
   "metadata": {
    "scrolled": true
   },
   "outputs": [],
   "source": [
    "with open('/home/jackragless/projects/data/DAIC_GLOGEN/doc2vec_eval_data.pkl', 'rb') as f:\n",
    "    eval_data = pickle.load(f)"
   ]
  },
  {
   "cell_type": "code",
   "execution_count": null,
   "id": "still-messaging",
   "metadata": {},
   "outputs": [],
   "source": [
    "eval_data['Computers'][0]"
   ]
  },
  {
   "cell_type": "code",
   "execution_count": null,
   "id": "classical-helmet",
   "metadata": {},
   "outputs": [],
   "source": [
    "for subject in eval_data.keys():\n",
    "    temp_text = preprocess_utils.clean_text(wikipedia.page(subject).content)\n",
    "    model = model_gen(temp_text)\n",
    "    for kw in eval_data[subject]:\n",
    "        print(subject, '<--->', kw[0], '<--->', model_predict(model, kw[0], kw[1]))"
   ]
  },
  {
   "cell_type": "code",
   "execution_count": null,
   "id": "vocal-february",
   "metadata": {},
   "outputs": [],
   "source": [
    "wikt_def_gen.extract('forte')"
   ]
  },
  {
   "cell_type": "code",
   "execution_count": null,
   "id": "integral-province",
   "metadata": {},
   "outputs": [],
   "source": [
    "# curtext = preprocess_utils.clean_text(wikipedia.page('Australia').content)\n",
    "# curtext"
   ]
  },
  {
   "cell_type": "code",
   "execution_count": null,
   "id": "mounted-break",
   "metadata": {},
   "outputs": [],
   "source": []
  },
  {
   "cell_type": "code",
   "execution_count": null,
   "id": "clinical-trash",
   "metadata": {},
   "outputs": [],
   "source": []
  },
  {
   "cell_type": "code",
   "execution_count": null,
   "id": "proprietary-attraction",
   "metadata": {
    "scrolled": false
   },
   "outputs": [],
   "source": [
    "#compare doc to definition sentences + domain\n"
   ]
  },
  {
   "cell_type": "code",
   "execution_count": null,
   "id": "chief-selection",
   "metadata": {
    "scrolled": false
   },
   "outputs": [],
   "source": [
    "#compare doc to definition domain\n",
    "for candidate in term_to_define:\n",
    "    final_candidate = []\n",
    "    final_candidate = candidate[candidate.find('(')+1:candidate.find(')')].replace(',','').lower().split()\n",
    "    print(' '.join(final_candidate), '<--->', mean([obj[1] for obj in model.docvecs.most_similar(positive=[model.infer_vector(final_candidate)], topn = len(tagged_data))]))"
   ]
  },
  {
   "cell_type": "code",
   "execution_count": null,
   "id": "veterinary-survey",
   "metadata": {},
   "outputs": [],
   "source": [
    "#compare doc to definition\n",
    "for candidate in term_to_define:\n",
    "    final_candidate = []\n",
    "    final_candidate = candidate[candidate.find(')')+1:].replace(',','').lower().split()\n",
    "    print(' '.join(final_candidate), '<--->', mean([obj[1] for obj in model.docvecs.most_similar(positive=[model.infer_vector(final_candidate)], topn = len(tagged_data))]))"
   ]
  },
  {
   "cell_type": "code",
   "execution_count": null,
   "id": "turkish-flesh",
   "metadata": {},
   "outputs": [],
   "source": [
    "###AS EXTENSION COMPARE TEXT TITLE TO DEFINITION"
   ]
  },
  {
   "cell_type": "code",
   "execution_count": null,
   "id": "different-progressive",
   "metadata": {},
   "outputs": [],
   "source": []
  }
 ],
 "metadata": {
  "kernelspec": {
   "display_name": "Python 3",
   "language": "python",
   "name": "python3"
  },
  "language_info": {
   "codemirror_mode": {
    "name": "ipython",
    "version": 3
   },
   "file_extension": ".py",
   "mimetype": "text/x-python",
   "name": "python",
   "nbconvert_exporter": "python",
   "pygments_lexer": "ipython3",
   "version": "3.8.5"
  }
 },
 "nbformat": 4,
 "nbformat_minor": 5
}
